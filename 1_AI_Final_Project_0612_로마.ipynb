{
 "cells": [
  {
   "cell_type": "markdown",
   "metadata": {},
   "source": [
    "## 1. 연구목적\n",
    "#### - 마키아벨리즘 심리테스트를 활용하여 테스트 참가자의 국가선거 투표여부 예측"
   ]
  },
  {
   "cell_type": "markdown",
   "metadata": {},
   "source": [
    "## - 데이터 설명 :\n",
    "https://www.dacon.io/competitions/official/235647/talkboard/401534?page=1&dtype=recent&ptype=pub\n",
    "### Q□A : 질문에 대한 응답\n",
    "### Q□E : 질문에 응답하기까지 걸린 시간\n",
    "### age_group : 연령\n",
    "#### education : 교육 수준? 1=Less than high school, 2=High school, 3=University degree, 4=Graduate degree, 0=무응답\n",
    "### engnat : 모국어가 영어? (1=Yes, 2=No, 0=무응답)\n",
    "### familysize : 형제자매 수\n",
    "### gender : 성별 (Male, Female)\n",
    "### hand : 필기하는 손 (1=Right, 2=Left, 3=Both, 0=무응답)\n",
    "### married : 혼인 상태 (1=Never married, 2=Currently married, 3=Previously married, 0=Other)\n",
    "### race : 인종 (Asian, Arab, Black, Indigenous Australian, Native American, White, Other)\n",
    "### religion : 종교 (Agnostic, Atheist, Buddhist, Christian_Catholic, Christian_Mormon, Christian_Protestant, Christian_Other, Hindu, ##Jewish, Muslim, Sikh, Other)\n",
    "### tp__ : items were rated \"I see myself as:\" _____ such that\n",
    "#### - tp01 : Extraverted, enthusiastic.\n",
    "#### - tp02 : Critical, quarrelsome.\n",
    "#### - tp03 : Dependable, self-disciplined.\n",
    "#### - tp04 : Anxious, easily upset.\n",
    "#### - tp05 : Open to new experiences, complex.\n",
    "#### - tp06 : Reserved, quiet.\n",
    "#### - tp07 : Sympathetic, warm.\n",
    "#### - tp08 : Disorganized, careless.\n",
    "#### - tp09 : Calm, emotionally stable.\n",
    "#### - tp10 : Conventional, uncreative.\n",
    "### urban : 유년기의 거주 구역 (1=Rural (country side), 2=Suburban, 3=Urban (town, city), 0=무응답)\n",
    "### wr_(01~13) : 실존하는 해당 단어의 정의을 앎 (1=Yes, 0=No)\n",
    "### wf_(01~03) : 허구인 단어의 정의를 앎 (1=Yes, 0=No)\n",
    "### voted (타겟): 지난 해 국가 선거 투표 여부 (1=Yes, 2=No) -> (0 = yes, 1 = No)\n",
    "\n",
    "\n",
    "\n",
    "\n",
    "\n",
    "   "
   ]
  },
  {
   "cell_type": "markdown",
   "metadata": {
    "id": "d1AutUzH_DRN"
   },
   "source": [
    "\n",
    "\n",
    "\n",
    "\n",
    "\n",
    "## 마키아벨리즘이란? \n",
    "### “ 개인적인 욕구의 충족을 위해 남을 속이거나 조종하려는 욕구를 가리키는 용어” 로 사용됨\n"
   ]
  },
  {
   "cell_type": "markdown",
   "metadata": {
    "id": "rkKtYNjKVS5Z"
   },
   "source": [
    "## 1. Libraries"
   ]
  },
  {
   "cell_type": "code",
   "execution_count": 1,
   "metadata": {
    "id": "gSxJtsRdWFKg"
   },
   "outputs": [],
   "source": [
    "import pandas as pd\n",
    "import seaborn as sns\n",
    "import matplotlib.pyplot as plt\n",
    "\n",
    "from string import ascii_lowercase\n",
    "from itertools import combinations\n",
    "\n",
    "import lightgbm as lgb\n",
    "from sklearn.ensemble import RandomForestClassifier\n",
    "from lightgbm import LGBMClassifier\n",
    "from sklearn.ensemble import  GradientBoostingClassifier\n",
    "import numpy as np\n",
    "from sklearn.ensemble import VotingClassifier\n",
    "from sklearn.model_selection import KFold\n",
    "from sklearn.model_selection import cross_val_score\n",
    "\n",
    "from sklearn.metrics import classification_report"
   ]
  },
  {
   "cell_type": "markdown",
   "metadata": {
    "id": "I6hPUKdD_Mlj"
   },
   "source": [
    "## 2.  데이터 현황 및 분석"
   ]
  },
  {
   "cell_type": "code",
   "execution_count": 2,
   "metadata": {},
   "outputs": [],
   "source": [
    "def summary(train) :\n",
    "    tf = pd.DataFrame({'데이터형태(dtypes)' : train.dtypes,\n",
    "                       '결측치 수(null)' : train.isnull().sum(),\n",
    "                       '고유값 수(nunique)' : train.nunique()})\n",
    "    return tf\n",
    "def summary(test) :\n",
    "    tf = pd.DataFrame({'데이터형태(dtypes)' : test.dtypes,\n",
    "                       '결측치 수(null)' : test.isnull().sum(),\n",
    "                       '고유값 수(nunique)' : test.nunique()})\n",
    "    return tf\n",
    "def summary(sub) :\n",
    "    tf = pd.DataFrame({'데이터형태(dtypes)' : sub.dtypes,\n",
    "                       '결측치 수(null)' : sub.isnull().sum(),\n",
    "                       '고유값 수(nunique)' : sub.nunique()})\n",
    "    return tf"
   ]
  },
  {
   "cell_type": "code",
   "execution_count": 3,
   "metadata": {
    "id": "3PK6y97__URQ"
   },
   "outputs": [],
   "source": [
    "train = pd.read_csv('train.csv')\n",
    "test = pd.read_csv('test_x.csv')\n",
    "sub = pd.read_csv('sample_submission.csv')"
   ]
  },
  {
   "cell_type": "markdown",
   "metadata": {
    "id": "DZK8IlUjVprf"
   },
   "source": [
    "## 3. 데이터 전처리 및 EDA"
   ]
  },
  {
   "cell_type": "markdown",
   "metadata": {
    "id": "ScekaxPYT7kx"
   },
   "source": [
    "### 1) 데이터 탐색\n"
   ]
  },
  {
   "cell_type": "code",
   "execution_count": 4,
   "metadata": {
    "id": "WCuXlOaHAvUA"
   },
   "outputs": [
    {
     "data": {
      "text/html": [
       "<div>\n",
       "<style scoped>\n",
       "    .dataframe tbody tr th:only-of-type {\n",
       "        vertical-align: middle;\n",
       "    }\n",
       "\n",
       "    .dataframe tbody tr th {\n",
       "        vertical-align: top;\n",
       "    }\n",
       "\n",
       "    .dataframe thead th {\n",
       "        text-align: right;\n",
       "    }\n",
       "</style>\n",
       "<table border=\"1\" class=\"dataframe\">\n",
       "  <thead>\n",
       "    <tr style=\"text-align: right;\">\n",
       "      <th></th>\n",
       "      <th>index</th>\n",
       "      <th>QaA</th>\n",
       "      <th>QaE</th>\n",
       "      <th>QbA</th>\n",
       "      <th>QbE</th>\n",
       "      <th>QcA</th>\n",
       "      <th>QcE</th>\n",
       "      <th>QdA</th>\n",
       "      <th>QdE</th>\n",
       "      <th>QeA</th>\n",
       "      <th>...</th>\n",
       "      <th>wr_04</th>\n",
       "      <th>wr_05</th>\n",
       "      <th>wr_06</th>\n",
       "      <th>wr_07</th>\n",
       "      <th>wr_08</th>\n",
       "      <th>wr_09</th>\n",
       "      <th>wr_10</th>\n",
       "      <th>wr_11</th>\n",
       "      <th>wr_12</th>\n",
       "      <th>wr_13</th>\n",
       "    </tr>\n",
       "  </thead>\n",
       "  <tbody>\n",
       "    <tr>\n",
       "      <th>0</th>\n",
       "      <td>0</td>\n",
       "      <td>3.0</td>\n",
       "      <td>363</td>\n",
       "      <td>4.0</td>\n",
       "      <td>1370</td>\n",
       "      <td>5.0</td>\n",
       "      <td>997</td>\n",
       "      <td>1.0</td>\n",
       "      <td>1024</td>\n",
       "      <td>2.0</td>\n",
       "      <td>...</td>\n",
       "      <td>0</td>\n",
       "      <td>1</td>\n",
       "      <td>0</td>\n",
       "      <td>1</td>\n",
       "      <td>1</td>\n",
       "      <td>0</td>\n",
       "      <td>1</td>\n",
       "      <td>0</td>\n",
       "      <td>1</td>\n",
       "      <td>1</td>\n",
       "    </tr>\n",
       "    <tr>\n",
       "      <th>1</th>\n",
       "      <td>1</td>\n",
       "      <td>5.0</td>\n",
       "      <td>647</td>\n",
       "      <td>5.0</td>\n",
       "      <td>1313</td>\n",
       "      <td>3.0</td>\n",
       "      <td>3387</td>\n",
       "      <td>5.0</td>\n",
       "      <td>2969</td>\n",
       "      <td>1.0</td>\n",
       "      <td>...</td>\n",
       "      <td>1</td>\n",
       "      <td>1</td>\n",
       "      <td>0</td>\n",
       "      <td>1</td>\n",
       "      <td>1</td>\n",
       "      <td>0</td>\n",
       "      <td>1</td>\n",
       "      <td>0</td>\n",
       "      <td>1</td>\n",
       "      <td>1</td>\n",
       "    </tr>\n",
       "    <tr>\n",
       "      <th>2</th>\n",
       "      <td>2</td>\n",
       "      <td>4.0</td>\n",
       "      <td>1623</td>\n",
       "      <td>1.0</td>\n",
       "      <td>1480</td>\n",
       "      <td>1.0</td>\n",
       "      <td>1021</td>\n",
       "      <td>4.0</td>\n",
       "      <td>3374</td>\n",
       "      <td>5.0</td>\n",
       "      <td>...</td>\n",
       "      <td>1</td>\n",
       "      <td>1</td>\n",
       "      <td>0</td>\n",
       "      <td>1</td>\n",
       "      <td>1</td>\n",
       "      <td>1</td>\n",
       "      <td>1</td>\n",
       "      <td>0</td>\n",
       "      <td>1</td>\n",
       "      <td>1</td>\n",
       "    </tr>\n",
       "    <tr>\n",
       "      <th>3</th>\n",
       "      <td>3</td>\n",
       "      <td>3.0</td>\n",
       "      <td>504</td>\n",
       "      <td>3.0</td>\n",
       "      <td>2311</td>\n",
       "      <td>4.0</td>\n",
       "      <td>992</td>\n",
       "      <td>3.0</td>\n",
       "      <td>3245</td>\n",
       "      <td>1.0</td>\n",
       "      <td>...</td>\n",
       "      <td>0</td>\n",
       "      <td>0</td>\n",
       "      <td>0</td>\n",
       "      <td>0</td>\n",
       "      <td>1</td>\n",
       "      <td>0</td>\n",
       "      <td>1</td>\n",
       "      <td>0</td>\n",
       "      <td>1</td>\n",
       "      <td>1</td>\n",
       "    </tr>\n",
       "    <tr>\n",
       "      <th>4</th>\n",
       "      <td>4</td>\n",
       "      <td>1.0</td>\n",
       "      <td>927</td>\n",
       "      <td>1.0</td>\n",
       "      <td>707</td>\n",
       "      <td>5.0</td>\n",
       "      <td>556</td>\n",
       "      <td>2.0</td>\n",
       "      <td>1062</td>\n",
       "      <td>1.0</td>\n",
       "      <td>...</td>\n",
       "      <td>1</td>\n",
       "      <td>1</td>\n",
       "      <td>1</td>\n",
       "      <td>1</td>\n",
       "      <td>1</td>\n",
       "      <td>0</td>\n",
       "      <td>1</td>\n",
       "      <td>1</td>\n",
       "      <td>1</td>\n",
       "      <td>1</td>\n",
       "    </tr>\n",
       "  </tbody>\n",
       "</table>\n",
       "<p>5 rows × 78 columns</p>\n",
       "</div>"
      ],
      "text/plain": [
       "   index  QaA   QaE  QbA   QbE  QcA   QcE  QdA   QdE  QeA  ...  wr_04  wr_05  \\\n",
       "0      0  3.0   363  4.0  1370  5.0   997  1.0  1024  2.0  ...      0      1   \n",
       "1      1  5.0   647  5.0  1313  3.0  3387  5.0  2969  1.0  ...      1      1   \n",
       "2      2  4.0  1623  1.0  1480  1.0  1021  4.0  3374  5.0  ...      1      1   \n",
       "3      3  3.0   504  3.0  2311  4.0   992  3.0  3245  1.0  ...      0      0   \n",
       "4      4  1.0   927  1.0   707  5.0   556  2.0  1062  1.0  ...      1      1   \n",
       "\n",
       "   wr_06  wr_07  wr_08  wr_09  wr_10  wr_11  wr_12  wr_13  \n",
       "0      0      1      1      0      1      0      1      1  \n",
       "1      0      1      1      0      1      0      1      1  \n",
       "2      0      1      1      1      1      0      1      1  \n",
       "3      0      0      1      0      1      0      1      1  \n",
       "4      1      1      1      0      1      1      1      1  \n",
       "\n",
       "[5 rows x 78 columns]"
      ]
     },
     "execution_count": 4,
     "metadata": {},
     "output_type": "execute_result"
    }
   ],
   "source": [
    "train.head()"
   ]
  },
  {
   "cell_type": "code",
   "execution_count": 5,
   "metadata": {
    "colab": {
     "base_uri": "https://localhost:8080/",
     "height": 222
    },
    "id": "5Uu6RmXoA-LJ",
    "outputId": "a107bbe8-75e5-4ac6-efe1-7d9cf342a695"
   },
   "outputs": [
    {
     "data": {
      "text/html": [
       "<div>\n",
       "<style scoped>\n",
       "    .dataframe tbody tr th:only-of-type {\n",
       "        vertical-align: middle;\n",
       "    }\n",
       "\n",
       "    .dataframe tbody tr th {\n",
       "        vertical-align: top;\n",
       "    }\n",
       "\n",
       "    .dataframe thead th {\n",
       "        text-align: right;\n",
       "    }\n",
       "</style>\n",
       "<table border=\"1\" class=\"dataframe\">\n",
       "  <thead>\n",
       "    <tr style=\"text-align: right;\">\n",
       "      <th></th>\n",
       "      <th>index</th>\n",
       "      <th>QaA</th>\n",
       "      <th>QaE</th>\n",
       "      <th>QbA</th>\n",
       "      <th>QbE</th>\n",
       "      <th>QcA</th>\n",
       "      <th>QcE</th>\n",
       "      <th>QdA</th>\n",
       "      <th>QdE</th>\n",
       "      <th>QeA</th>\n",
       "      <th>...</th>\n",
       "      <th>wr_04</th>\n",
       "      <th>wr_05</th>\n",
       "      <th>wr_06</th>\n",
       "      <th>wr_07</th>\n",
       "      <th>wr_08</th>\n",
       "      <th>wr_09</th>\n",
       "      <th>wr_10</th>\n",
       "      <th>wr_11</th>\n",
       "      <th>wr_12</th>\n",
       "      <th>wr_13</th>\n",
       "    </tr>\n",
       "  </thead>\n",
       "  <tbody>\n",
       "    <tr>\n",
       "      <th>0</th>\n",
       "      <td>0</td>\n",
       "      <td>3.0</td>\n",
       "      <td>736</td>\n",
       "      <td>2.0</td>\n",
       "      <td>2941</td>\n",
       "      <td>3.0</td>\n",
       "      <td>4621</td>\n",
       "      <td>1.0</td>\n",
       "      <td>4857</td>\n",
       "      <td>2.0</td>\n",
       "      <td>...</td>\n",
       "      <td>0</td>\n",
       "      <td>1</td>\n",
       "      <td>0</td>\n",
       "      <td>0</td>\n",
       "      <td>1</td>\n",
       "      <td>0</td>\n",
       "      <td>1</td>\n",
       "      <td>0</td>\n",
       "      <td>1</td>\n",
       "      <td>1</td>\n",
       "    </tr>\n",
       "    <tr>\n",
       "      <th>1</th>\n",
       "      <td>1</td>\n",
       "      <td>3.0</td>\n",
       "      <td>514</td>\n",
       "      <td>2.0</td>\n",
       "      <td>1952</td>\n",
       "      <td>3.0</td>\n",
       "      <td>1552</td>\n",
       "      <td>3.0</td>\n",
       "      <td>821</td>\n",
       "      <td>4.0</td>\n",
       "      <td>...</td>\n",
       "      <td>0</td>\n",
       "      <td>0</td>\n",
       "      <td>0</td>\n",
       "      <td>0</td>\n",
       "      <td>0</td>\n",
       "      <td>0</td>\n",
       "      <td>0</td>\n",
       "      <td>0</td>\n",
       "      <td>0</td>\n",
       "      <td>0</td>\n",
       "    </tr>\n",
       "    <tr>\n",
       "      <th>2</th>\n",
       "      <td>2</td>\n",
       "      <td>3.0</td>\n",
       "      <td>500</td>\n",
       "      <td>2.0</td>\n",
       "      <td>2507</td>\n",
       "      <td>4.0</td>\n",
       "      <td>480</td>\n",
       "      <td>2.0</td>\n",
       "      <td>614</td>\n",
       "      <td>2.0</td>\n",
       "      <td>...</td>\n",
       "      <td>0</td>\n",
       "      <td>1</td>\n",
       "      <td>0</td>\n",
       "      <td>1</td>\n",
       "      <td>1</td>\n",
       "      <td>0</td>\n",
       "      <td>1</td>\n",
       "      <td>0</td>\n",
       "      <td>1</td>\n",
       "      <td>1</td>\n",
       "    </tr>\n",
       "    <tr>\n",
       "      <th>3</th>\n",
       "      <td>3</td>\n",
       "      <td>1.0</td>\n",
       "      <td>669</td>\n",
       "      <td>1.0</td>\n",
       "      <td>1050</td>\n",
       "      <td>5.0</td>\n",
       "      <td>1435</td>\n",
       "      <td>2.0</td>\n",
       "      <td>2252</td>\n",
       "      <td>5.0</td>\n",
       "      <td>...</td>\n",
       "      <td>1</td>\n",
       "      <td>1</td>\n",
       "      <td>1</td>\n",
       "      <td>1</td>\n",
       "      <td>1</td>\n",
       "      <td>1</td>\n",
       "      <td>1</td>\n",
       "      <td>1</td>\n",
       "      <td>1</td>\n",
       "      <td>1</td>\n",
       "    </tr>\n",
       "    <tr>\n",
       "      <th>4</th>\n",
       "      <td>4</td>\n",
       "      <td>2.0</td>\n",
       "      <td>499</td>\n",
       "      <td>1.0</td>\n",
       "      <td>1243</td>\n",
       "      <td>5.0</td>\n",
       "      <td>845</td>\n",
       "      <td>2.0</td>\n",
       "      <td>1666</td>\n",
       "      <td>2.0</td>\n",
       "      <td>...</td>\n",
       "      <td>1</td>\n",
       "      <td>1</td>\n",
       "      <td>0</td>\n",
       "      <td>1</td>\n",
       "      <td>1</td>\n",
       "      <td>0</td>\n",
       "      <td>1</td>\n",
       "      <td>1</td>\n",
       "      <td>1</td>\n",
       "      <td>1</td>\n",
       "    </tr>\n",
       "  </tbody>\n",
       "</table>\n",
       "<p>5 rows × 77 columns</p>\n",
       "</div>"
      ],
      "text/plain": [
       "   index  QaA  QaE  QbA   QbE  QcA   QcE  QdA   QdE  QeA  ...  wr_04  wr_05  \\\n",
       "0      0  3.0  736  2.0  2941  3.0  4621  1.0  4857  2.0  ...      0      1   \n",
       "1      1  3.0  514  2.0  1952  3.0  1552  3.0   821  4.0  ...      0      0   \n",
       "2      2  3.0  500  2.0  2507  4.0   480  2.0   614  2.0  ...      0      1   \n",
       "3      3  1.0  669  1.0  1050  5.0  1435  2.0  2252  5.0  ...      1      1   \n",
       "4      4  2.0  499  1.0  1243  5.0   845  2.0  1666  2.0  ...      1      1   \n",
       "\n",
       "   wr_06  wr_07  wr_08  wr_09  wr_10  wr_11  wr_12  wr_13  \n",
       "0      0      0      1      0      1      0      1      1  \n",
       "1      0      0      0      0      0      0      0      0  \n",
       "2      0      1      1      0      1      0      1      1  \n",
       "3      1      1      1      1      1      1      1      1  \n",
       "4      0      1      1      0      1      1      1      1  \n",
       "\n",
       "[5 rows x 77 columns]"
      ]
     },
     "execution_count": 5,
     "metadata": {},
     "output_type": "execute_result"
    }
   ],
   "source": [
    "test.head()"
   ]
  },
  {
   "cell_type": "markdown",
   "metadata": {
    "id": "C-9pxdVFUDZE"
   },
   "source": [
    "### 2) Null값 & 자료형 확인\n"
   ]
  },
  {
   "cell_type": "code",
   "execution_count": 6,
   "metadata": {
    "id": "b6f1vPJ9CswS"
   },
   "outputs": [
    {
     "name": "stdout",
     "output_type": "stream",
     "text": [
      "<class 'pandas.core.frame.DataFrame'>\n",
      "RangeIndex: 45532 entries, 0 to 45531\n",
      "Data columns (total 78 columns):\n",
      " #   Column      Non-Null Count  Dtype  \n",
      "---  ------      --------------  -----  \n",
      " 0   index       45532 non-null  int64  \n",
      " 1   QaA         45532 non-null  float64\n",
      " 2   QaE         45532 non-null  int64  \n",
      " 3   QbA         45532 non-null  float64\n",
      " 4   QbE         45532 non-null  int64  \n",
      " 5   QcA         45532 non-null  float64\n",
      " 6   QcE         45532 non-null  int64  \n",
      " 7   QdA         45532 non-null  float64\n",
      " 8   QdE         45532 non-null  int64  \n",
      " 9   QeA         45532 non-null  float64\n",
      " 10  QeE         45532 non-null  int64  \n",
      " 11  QfA         45532 non-null  float64\n",
      " 12  QfE         45532 non-null  int64  \n",
      " 13  QgA         45532 non-null  float64\n",
      " 14  QgE         45532 non-null  int64  \n",
      " 15  QhA         45532 non-null  float64\n",
      " 16  QhE         45532 non-null  int64  \n",
      " 17  QiA         45532 non-null  float64\n",
      " 18  QiE         45532 non-null  int64  \n",
      " 19  QjA         45532 non-null  float64\n",
      " 20  QjE         45532 non-null  int64  \n",
      " 21  QkA         45532 non-null  float64\n",
      " 22  QkE         45532 non-null  int64  \n",
      " 23  QlA         45532 non-null  float64\n",
      " 24  QlE         45532 non-null  int64  \n",
      " 25  QmA         45532 non-null  float64\n",
      " 26  QmE         45532 non-null  int64  \n",
      " 27  QnA         45532 non-null  float64\n",
      " 28  QnE         45532 non-null  int64  \n",
      " 29  QoA         45532 non-null  float64\n",
      " 30  QoE         45532 non-null  int64  \n",
      " 31  QpA         45532 non-null  float64\n",
      " 32  QpE         45532 non-null  int64  \n",
      " 33  QqA         45532 non-null  float64\n",
      " 34  QqE         45532 non-null  int64  \n",
      " 35  QrA         45532 non-null  float64\n",
      " 36  QrE         45532 non-null  int64  \n",
      " 37  QsA         45532 non-null  float64\n",
      " 38  QsE         45532 non-null  int64  \n",
      " 39  QtA         45532 non-null  float64\n",
      " 40  QtE         45532 non-null  int64  \n",
      " 41  age_group   45532 non-null  object \n",
      " 42  education   45532 non-null  int64  \n",
      " 43  engnat      45532 non-null  int64  \n",
      " 44  familysize  45532 non-null  int64  \n",
      " 45  gender      45532 non-null  object \n",
      " 46  hand        45532 non-null  int64  \n",
      " 47  married     45532 non-null  int64  \n",
      " 48  race        45532 non-null  object \n",
      " 49  religion    45532 non-null  object \n",
      " 50  tp01        45532 non-null  int64  \n",
      " 51  tp02        45532 non-null  int64  \n",
      " 52  tp03        45532 non-null  int64  \n",
      " 53  tp04        45532 non-null  int64  \n",
      " 54  tp05        45532 non-null  int64  \n",
      " 55  tp06        45532 non-null  int64  \n",
      " 56  tp07        45532 non-null  int64  \n",
      " 57  tp08        45532 non-null  int64  \n",
      " 58  tp09        45532 non-null  int64  \n",
      " 59  tp10        45532 non-null  int64  \n",
      " 60  urban       45532 non-null  int64  \n",
      " 61  voted       45532 non-null  int64  \n",
      " 62  wf_01       45532 non-null  int64  \n",
      " 63  wf_02       45532 non-null  int64  \n",
      " 64  wf_03       45532 non-null  int64  \n",
      " 65  wr_01       45532 non-null  int64  \n",
      " 66  wr_02       45532 non-null  int64  \n",
      " 67  wr_03       45532 non-null  int64  \n",
      " 68  wr_04       45532 non-null  int64  \n",
      " 69  wr_05       45532 non-null  int64  \n",
      " 70  wr_06       45532 non-null  int64  \n",
      " 71  wr_07       45532 non-null  int64  \n",
      " 72  wr_08       45532 non-null  int64  \n",
      " 73  wr_09       45532 non-null  int64  \n",
      " 74  wr_10       45532 non-null  int64  \n",
      " 75  wr_11       45532 non-null  int64  \n",
      " 76  wr_12       45532 non-null  int64  \n",
      " 77  wr_13       45532 non-null  int64  \n",
      "dtypes: float64(20), int64(54), object(4)\n",
      "memory usage: 27.1+ MB\n"
     ]
    }
   ],
   "source": [
    "train.info()"
   ]
  },
  {
   "cell_type": "code",
   "execution_count": 7,
   "metadata": {
    "id": "0qu5658kCwkf"
   },
   "outputs": [
    {
     "name": "stdout",
     "output_type": "stream",
     "text": [
      "<class 'pandas.core.frame.DataFrame'>\n",
      "RangeIndex: 11383 entries, 0 to 11382\n",
      "Data columns (total 77 columns):\n",
      " #   Column      Non-Null Count  Dtype  \n",
      "---  ------      --------------  -----  \n",
      " 0   index       11383 non-null  int64  \n",
      " 1   QaA         11383 non-null  float64\n",
      " 2   QaE         11383 non-null  int64  \n",
      " 3   QbA         11383 non-null  float64\n",
      " 4   QbE         11383 non-null  int64  \n",
      " 5   QcA         11383 non-null  float64\n",
      " 6   QcE         11383 non-null  int64  \n",
      " 7   QdA         11383 non-null  float64\n",
      " 8   QdE         11383 non-null  int64  \n",
      " 9   QeA         11383 non-null  float64\n",
      " 10  QeE         11383 non-null  int64  \n",
      " 11  QfA         11383 non-null  float64\n",
      " 12  QfE         11383 non-null  int64  \n",
      " 13  QgA         11383 non-null  float64\n",
      " 14  QgE         11383 non-null  int64  \n",
      " 15  QhA         11383 non-null  float64\n",
      " 16  QhE         11383 non-null  int64  \n",
      " 17  QiA         11383 non-null  float64\n",
      " 18  QiE         11383 non-null  int64  \n",
      " 19  QjA         11383 non-null  float64\n",
      " 20  QjE         11383 non-null  int64  \n",
      " 21  QkA         11383 non-null  float64\n",
      " 22  QkE         11383 non-null  int64  \n",
      " 23  QlA         11383 non-null  float64\n",
      " 24  QlE         11383 non-null  int64  \n",
      " 25  QmA         11383 non-null  float64\n",
      " 26  QmE         11383 non-null  int64  \n",
      " 27  QnA         11383 non-null  float64\n",
      " 28  QnE         11383 non-null  int64  \n",
      " 29  QoA         11383 non-null  float64\n",
      " 30  QoE         11383 non-null  int64  \n",
      " 31  QpA         11383 non-null  float64\n",
      " 32  QpE         11383 non-null  int64  \n",
      " 33  QqA         11383 non-null  float64\n",
      " 34  QqE         11383 non-null  int64  \n",
      " 35  QrA         11383 non-null  float64\n",
      " 36  QrE         11383 non-null  int64  \n",
      " 37  QsA         11383 non-null  float64\n",
      " 38  QsE         11383 non-null  int64  \n",
      " 39  QtA         11383 non-null  float64\n",
      " 40  QtE         11383 non-null  int64  \n",
      " 41  age_group   11383 non-null  object \n",
      " 42  education   11383 non-null  int64  \n",
      " 43  engnat      11383 non-null  int64  \n",
      " 44  familysize  11383 non-null  int64  \n",
      " 45  gender      11383 non-null  object \n",
      " 46  hand        11383 non-null  int64  \n",
      " 47  married     11383 non-null  int64  \n",
      " 48  race        11383 non-null  object \n",
      " 49  religion    11383 non-null  object \n",
      " 50  tp01        11383 non-null  int64  \n",
      " 51  tp02        11383 non-null  int64  \n",
      " 52  tp03        11383 non-null  int64  \n",
      " 53  tp04        11383 non-null  int64  \n",
      " 54  tp05        11383 non-null  int64  \n",
      " 55  tp06        11383 non-null  int64  \n",
      " 56  tp07        11383 non-null  int64  \n",
      " 57  tp08        11383 non-null  int64  \n",
      " 58  tp09        11383 non-null  int64  \n",
      " 59  tp10        11383 non-null  int64  \n",
      " 60  urban       11383 non-null  int64  \n",
      " 61  wf_01       11383 non-null  int64  \n",
      " 62  wf_02       11383 non-null  int64  \n",
      " 63  wf_03       11383 non-null  int64  \n",
      " 64  wr_01       11383 non-null  int64  \n",
      " 65  wr_02       11383 non-null  int64  \n",
      " 66  wr_03       11383 non-null  int64  \n",
      " 67  wr_04       11383 non-null  int64  \n",
      " 68  wr_05       11383 non-null  int64  \n",
      " 69  wr_06       11383 non-null  int64  \n",
      " 70  wr_07       11383 non-null  int64  \n",
      " 71  wr_08       11383 non-null  int64  \n",
      " 72  wr_09       11383 non-null  int64  \n",
      " 73  wr_10       11383 non-null  int64  \n",
      " 74  wr_11       11383 non-null  int64  \n",
      " 75  wr_12       11383 non-null  int64  \n",
      " 76  wr_13       11383 non-null  int64  \n",
      "dtypes: float64(20), int64(53), object(4)\n",
      "memory usage: 6.7+ MB\n"
     ]
    }
   ],
   "source": [
    "test.info()"
   ]
  },
  {
   "cell_type": "markdown",
   "metadata": {},
   "source": [
    "###  3) 마키아벨리즘 테스트 QA & QE 상관관계 분석"
   ]
  },
  {
   "cell_type": "markdown",
   "metadata": {},
   "source": [
    "### Q□A : 질문에 대한 응답\n",
    "### Q□E : 질문에 응답하기까지 걸린 시간"
   ]
  },
  {
   "cell_type": "code",
   "execution_count": 8,
   "metadata": {},
   "outputs": [],
   "source": [
    "eda_train = train.copy()"
   ]
  },
  {
   "cell_type": "code",
   "execution_count": 9,
   "metadata": {},
   "outputs": [],
   "source": [
    "Answers = ['QaA', 'QbA', 'QcA', 'QdA', 'QeA',\n",
    "             'QfA', 'QgA', 'QhA', 'QiA', 'QjA', \n",
    "             'QkA', 'QlA', 'QmA', 'QnA', 'QoA', \n",
    "             'QpA', 'QqA', 'QrA', 'QsA', 'QtA']"
   ]
  },
  {
   "cell_type": "markdown",
   "metadata": {},
   "source": [
    "### 부호가 같은 문항끼리는 (QbA와QcA) 상관관계 값이 양수,\n",
    "### 부호가 다른 문항끼리는 (QbA와QeA) 상관관계 값이 음수"
   ]
  },
  {
   "cell_type": "code",
   "execution_count": 10,
   "metadata": {},
   "outputs": [
    {
     "data": {
      "text/plain": [
       "<AxesSubplot:>"
      ]
     },
     "execution_count": 10,
     "metadata": {},
     "output_type": "execute_result"
    },
    {
     "data": {
      "image/png": "[encoded data removed]",
      "text/plain": [
       "<Figure size 432x288 with 2 Axes>"
      ]
     },
     "metadata": {
      "needs_background": "light"
     },
     "output_type": "display_data"
    }
   ],
   "source": [
    "correlations = eda_train[Answers].corr(method = 'spearman')\n",
    "sns.heatmap(correlations, cmap=\"coolwarm\", square=True, center=0)"
   ]
  },
  {
   "cell_type": "code",
   "execution_count": 11,
   "metadata": {},
   "outputs": [
    {
     "name": "stdout",
     "output_type": "stream",
     "text": [
      "[1.0, 2.0, 3.0, 4.0, 5.0]\n",
      "[1.0, 2.0, 3.0, 4.0, 5.0]\n",
      "[1.0, 2.0, 3.0, 4.0, 5.0]\n",
      "[1.0, 2.0, 3.0, 4.0, 5.0]\n",
      "[1.0, 2.0, 3.0, 4.0, 5.0]\n",
      "[1.0, 2.0, 3.0, 4.0, 5.0]\n",
      "[1.0, 2.0, 3.0, 4.0, 5.0]\n",
      "[1.0, 2.0, 3.0, 4.0, 5.0]\n",
      "[1.0, 2.0, 3.0, 4.0, 5.0]\n",
      "[1.0, 2.0, 3.0, 4.0, 5.0]\n",
      "[1.0, 2.0, 3.0, 4.0, 5.0]\n",
      "[1.0, 2.0, 3.0, 4.0, 5.0]\n",
      "[1.0, 2.0, 3.0, 4.0, 5.0]\n",
      "[1.0, 2.0, 3.0, 4.0, 5.0]\n",
      "[1.0, 2.0, 3.0, 4.0, 5.0]\n",
      "[1.0, 2.0, 3.0, 4.0, 5.0]\n",
      "[1.0, 2.0, 3.0, 4.0, 5.0]\n",
      "[1.0, 2.0, 3.0, 4.0, 5.0]\n",
      "[1.0, 2.0, 3.0, 4.0, 5.0]\n",
      "[1.0, 2.0, 3.0, 4.0, 5.0]\n"
     ]
    }
   ],
   "source": [
    "for col in eda_train[Answers]:\n",
    "    print(sorted(eda_train[col].unique()))"
   ]
  },
  {
   "cell_type": "code",
   "execution_count": 12,
   "metadata": {},
   "outputs": [],
   "source": [
    "flipping_columns = [\"QeA\", \"QfA\", \"QkA\", \"QqA\", \"QrA\"]\n",
    "for flip in flipping_columns: \n",
    "    eda_train[flip] = 6 - eda_train[flip]"
   ]
  },
  {
   "cell_type": "markdown",
   "metadata": {},
   "source": [
    "### 이미 알고있는 (-) 부호 문항을(+)로 reverse \n",
    "### QaA, QdA, QgA, QiA,QnA는(-)부호"
   ]
  },
  {
   "cell_type": "code",
   "execution_count": 13,
   "metadata": {
    "scrolled": true
   },
   "outputs": [
    {
     "data": {
      "text/plain": [
       "<AxesSubplot:>"
      ]
     },
     "execution_count": 13,
     "metadata": {},
     "output_type": "execute_result"
    },
    {
     "data": {
      "image/png": "[encoded data removed]",
      "text/plain": [
       "<Figure size 432x288 with 2 Axes>"
      ]
     },
     "metadata": {
      "needs_background": "light"
     },
     "output_type": "display_data"
    }
   ],
   "source": [
    "correlations = eda_train[Answers].corr(method = 'spearman')\n",
    "sns.heatmap(correlations, cmap=\"coolwarm\", square=True, center=0)"
   ]
  },
  {
   "cell_type": "code",
   "execution_count": 14,
   "metadata": {},
   "outputs": [],
   "source": [
    "flipping_columns = [\"QaA\", \"QdA\", \"QgA\", \"QiA\", \"QnA\"]\n",
    "for flip in flipping_columns: \n",
    "    eda_train[flip] = 6 - eda_train[flip]"
   ]
  },
  {
   "cell_type": "markdown",
   "metadata": {},
   "source": [
    "### (-) 부호인 secret 문항을(+)로 변환"
   ]
  },
  {
   "cell_type": "code",
   "execution_count": 15,
   "metadata": {},
   "outputs": [
    {
     "data": {
      "text/plain": [
       "<AxesSubplot:>"
      ]
     },
     "execution_count": 15,
     "metadata": {},
     "output_type": "execute_result"
    },
    {
     "data": {
      "image/png": "[encoded data removed]",
      "text/plain": [
       "<Figure size 432x288 with 2 Axes>"
      ]
     },
     "metadata": {
      "needs_background": "light"
     },
     "output_type": "display_data"
    }
   ],
   "source": [
    "correlations = eda_train[Answers].corr(method = 'spearman')\n",
    "sns.heatmap(correlations, cmap=\"coolwarm\", square=True, center=0)"
   ]
  },
  {
   "cell_type": "markdown",
   "metadata": {},
   "source": [
    "##  4. Feature Engineering"
   ]
  },
  {
   "cell_type": "code",
   "execution_count": 16,
   "metadata": {},
   "outputs": [],
   "source": [
    "x_train = train.copy()\n",
    "x_train.drop('voted', axis=1, inplace = True)\n",
    "y_train = train['voted']"
   ]
  },
  {
   "cell_type": "code",
   "execution_count": 17,
   "metadata": {},
   "outputs": [],
   "source": [
    "dataset = [x_train, test]"
   ]
  },
  {
   "cell_type": "markdown",
   "metadata": {},
   "source": [
    "### 1) 마키아밸리 테스트 FE"
   ]
  },
  {
   "cell_type": "markdown",
   "metadata": {},
   "source": [
    "### 파생변수 Mach score 생성"
   ]
  },
  {
   "cell_type": "code",
   "execution_count": 18,
   "metadata": {},
   "outputs": [],
   "source": [
    "questions = [i for i in list(ascii_lowercase)[:20]]\n",
    "answers = [('Q'+i+'A') for i in questions]\n",
    "for data in dataset:\n",
    "  data['Mach_score'] = data[answers].mean(axis = 1)\n",
    "  data['Mach_score'] = data['Mach_score']*20 # 마하 스코어 최대치 5 -> 100 "
   ]
  },
  {
   "cell_type": "markdown",
   "metadata": {},
   "source": [
    "### EDA에서 결과에 큰 영향이 없다고 판단된 feature들을 제거"
   ]
  },
  {
   "cell_type": "code",
   "execution_count": 19,
   "metadata": {},
   "outputs": [],
   "source": [
    "x_train.drop(['index','QaE', 'QbE', 'QcE', 'QdE', 'QeE', 'QfE', 'QgE', 'QhE', 'QiE', 'QjE', \n",
    "              'QkE', 'QlE', 'QmE', 'QnE', 'QoE', 'QpE', 'QqE', 'QrE', 'QsE', 'QtE', \n",
    "              'QaA', 'QbA', 'QcA', 'QdA', 'QeA', 'QfA', 'QgA', 'QhA', 'QiA', 'QjA', \n",
    "              'QkA', 'QlA', 'QmA', 'QnA', 'QoA', 'QpA', 'QqA', 'QrA', 'QsA', 'QtA'], inplace = True, axis = 1)"
   ]
  },
  {
   "cell_type": "code",
   "execution_count": 20,
   "metadata": {},
   "outputs": [],
   "source": [
    "test.drop(['index','QaE', 'QbE', 'QcE', 'QdE', 'QeE', 'QfE', 'QgE', 'QhE', 'QiE', 'QjE', \n",
    "              'QkE', 'QlE', 'QmE', 'QnE', 'QoE', 'QpE', 'QqE', 'QrE', 'QsE', 'QtE', \n",
    "              'QaA', 'QbA', 'QcA', 'QdA', 'QeA', 'QfA', 'QgA', 'QhA', 'QiA', 'QjA', \n",
    "              'QkA', 'QlA', 'QmA', 'QnA', 'QoA', 'QpA', 'QqA', 'QrA', 'QsA', 'QtA'], inplace = True, axis = 1)"
   ]
  },
  {
   "cell_type": "code",
   "execution_count": 21,
   "metadata": {},
   "outputs": [],
   "source": [
    "for data in dataset:\n",
    "  data.drop('hand', axis=1, inplace = True)"
   ]
  },
  {
   "cell_type": "code",
   "execution_count": 22,
   "metadata": {},
   "outputs": [],
   "source": [
    "wr_list = [('wr_0'+str(i)) for i in range(1,10)]\n",
    "wr_list.extend([('wr_'+str(i)) for i in range(10,14)])\n",
    "wr_no_need = [i for i in wr_list if i not in ['wr_01', 'wr_03', 'wr_06', 'wr_09', 'wr_11']]"
   ]
  },
  {
   "cell_type": "code",
   "execution_count": 23,
   "metadata": {},
   "outputs": [],
   "source": [
    "for data in dataset:\n",
    "  data.drop(wr_no_need, axis=1, inplace = True)"
   ]
  },
  {
   "cell_type": "markdown",
   "metadata": {},
   "source": [
    "### 2) 특성공학"
   ]
  },
  {
   "cell_type": "markdown",
   "metadata": {},
   "source": [
    "### 10개의 질문에 따른 5개의 파생변수 생성"
   ]
  },
  {
   "cell_type": "code",
   "execution_count": 24,
   "metadata": {},
   "outputs": [],
   "source": [
    "for data in dataset:\n",
    "    data['외향성'] = (data['tp01']+data['tp06'])/2\n",
    "    data['친화성'] = (data['tp07']+data['tp02'])/2\n",
    "    data['성실성'] = (data['tp03']+data['tp08'])/2\n",
    "    data['정서적 안정성'] = (data['tp09']+data['tp04'])/2\n",
    "    data['경험개방성'] = (data['tp05']+data['tp10'])/2"
   ]
  },
  {
   "cell_type": "markdown",
   "metadata": {},
   "source": [
    "### 파생변수 생성 후 기존 tp변수 drop"
   ]
  },
  {
   "cell_type": "code",
   "execution_count": 25,
   "metadata": {},
   "outputs": [],
   "source": [
    "x_train.drop(['tp01','tp02','tp03','tp04','tp05','tp06','tp07','tp08','tp09','tp10'], inplace = True, axis = 1)\n",
    "test.drop(['tp01','tp02','tp03','tp04','tp05','tp06','tp07','tp08','tp09','tp10'], inplace = True, axis = 1)"
   ]
  },
  {
   "cell_type": "markdown",
   "metadata": {},
   "source": [
    "### LabelEncoder로 Object -> int Labeling"
   ]
  },
  {
   "cell_type": "code",
   "execution_count": 26,
   "metadata": {},
   "outputs": [],
   "source": [
    "from sklearn.preprocessing import LabelEncoder\n",
    "encoder = LabelEncoder()\n",
    "needenco = ['age_group', 'gender', 'race', 'religion']\n",
    "for i in needenco:\n",
    "  x_train[i] = encoder.fit_transform(x_train[i])\n",
    "  test[i] = encoder.transform(test[i])"
   ]
  },
  {
   "cell_type": "markdown",
   "metadata": {},
   "source": [
    "### Auto ML용 데이터 df 생성 ( x_train + voted )"
   ]
  },
  {
   "cell_type": "code",
   "execution_count": 27,
   "metadata": {},
   "outputs": [],
   "source": [
    "df = pd.concat([x_train, y_train], axis =1,  sort = False) # Auto ML용"
   ]
  },
  {
   "cell_type": "code",
   "execution_count": 28,
   "metadata": {},
   "outputs": [
    {
     "data": {
      "text/html": [
       "<div>\n",
       "<style scoped>\n",
       "    .dataframe tbody tr th:only-of-type {\n",
       "        vertical-align: middle;\n",
       "    }\n",
       "\n",
       "    .dataframe tbody tr th {\n",
       "        vertical-align: top;\n",
       "    }\n",
       "\n",
       "    .dataframe thead th {\n",
       "        text-align: right;\n",
       "    }\n",
       "</style>\n",
       "<table border=\"1\" class=\"dataframe\">\n",
       "  <thead>\n",
       "    <tr style=\"text-align: right;\">\n",
       "      <th></th>\n",
       "      <th>age_group</th>\n",
       "      <th>education</th>\n",
       "      <th>engnat</th>\n",
       "      <th>familysize</th>\n",
       "      <th>gender</th>\n",
       "      <th>married</th>\n",
       "      <th>race</th>\n",
       "      <th>religion</th>\n",
       "      <th>urban</th>\n",
       "      <th>wf_01</th>\n",
       "      <th>...</th>\n",
       "      <th>wr_06</th>\n",
       "      <th>wr_09</th>\n",
       "      <th>wr_11</th>\n",
       "      <th>Mach_score</th>\n",
       "      <th>외향성</th>\n",
       "      <th>친화성</th>\n",
       "      <th>성실성</th>\n",
       "      <th>정서적 안정성</th>\n",
       "      <th>경험개방성</th>\n",
       "      <th>voted</th>\n",
       "    </tr>\n",
       "  </thead>\n",
       "  <tbody>\n",
       "    <tr>\n",
       "      <th>0</th>\n",
       "      <td>3</td>\n",
       "      <td>2</td>\n",
       "      <td>1</td>\n",
       "      <td>4</td>\n",
       "      <td>0</td>\n",
       "      <td>3</td>\n",
       "      <td>6</td>\n",
       "      <td>10</td>\n",
       "      <td>1</td>\n",
       "      <td>0</td>\n",
       "      <td>...</td>\n",
       "      <td>0</td>\n",
       "      <td>0</td>\n",
       "      <td>0</td>\n",
       "      <td>61.0</td>\n",
       "      <td>1.5</td>\n",
       "      <td>4.5</td>\n",
       "      <td>3.0</td>\n",
       "      <td>2.5</td>\n",
       "      <td>2.5</td>\n",
       "      <td>2</td>\n",
       "    </tr>\n",
       "    <tr>\n",
       "      <th>1</th>\n",
       "      <td>2</td>\n",
       "      <td>4</td>\n",
       "      <td>2</td>\n",
       "      <td>3</td>\n",
       "      <td>0</td>\n",
       "      <td>1</td>\n",
       "      <td>1</td>\n",
       "      <td>7</td>\n",
       "      <td>3</td>\n",
       "      <td>0</td>\n",
       "      <td>...</td>\n",
       "      <td>0</td>\n",
       "      <td>0</td>\n",
       "      <td>0</td>\n",
       "      <td>64.0</td>\n",
       "      <td>1.5</td>\n",
       "      <td>2.0</td>\n",
       "      <td>2.0</td>\n",
       "      <td>0.0</td>\n",
       "      <td>2.5</td>\n",
       "      <td>2</td>\n",
       "    </tr>\n",
       "    <tr>\n",
       "      <th>2</th>\n",
       "      <td>3</td>\n",
       "      <td>3</td>\n",
       "      <td>1</td>\n",
       "      <td>3</td>\n",
       "      <td>1</td>\n",
       "      <td>2</td>\n",
       "      <td>6</td>\n",
       "      <td>10</td>\n",
       "      <td>2</td>\n",
       "      <td>0</td>\n",
       "      <td>...</td>\n",
       "      <td>0</td>\n",
       "      <td>1</td>\n",
       "      <td>0</td>\n",
       "      <td>56.0</td>\n",
       "      <td>3.0</td>\n",
       "      <td>2.5</td>\n",
       "      <td>3.5</td>\n",
       "      <td>3.0</td>\n",
       "      <td>3.0</td>\n",
       "      <td>1</td>\n",
       "    </tr>\n",
       "    <tr>\n",
       "      <th>3</th>\n",
       "      <td>2</td>\n",
       "      <td>4</td>\n",
       "      <td>2</td>\n",
       "      <td>0</td>\n",
       "      <td>0</td>\n",
       "      <td>1</td>\n",
       "      <td>1</td>\n",
       "      <td>7</td>\n",
       "      <td>3</td>\n",
       "      <td>0</td>\n",
       "      <td>...</td>\n",
       "      <td>0</td>\n",
       "      <td>0</td>\n",
       "      <td>0</td>\n",
       "      <td>71.0</td>\n",
       "      <td>2.5</td>\n",
       "      <td>2.5</td>\n",
       "      <td>2.0</td>\n",
       "      <td>1.0</td>\n",
       "      <td>2.0</td>\n",
       "      <td>1</td>\n",
       "    </tr>\n",
       "    <tr>\n",
       "      <th>4</th>\n",
       "      <td>2</td>\n",
       "      <td>3</td>\n",
       "      <td>1</td>\n",
       "      <td>2</td>\n",
       "      <td>1</td>\n",
       "      <td>2</td>\n",
       "      <td>6</td>\n",
       "      <td>0</td>\n",
       "      <td>1</td>\n",
       "      <td>0</td>\n",
       "      <td>...</td>\n",
       "      <td>1</td>\n",
       "      <td>0</td>\n",
       "      <td>1</td>\n",
       "      <td>58.0</td>\n",
       "      <td>1.5</td>\n",
       "      <td>0.5</td>\n",
       "      <td>3.5</td>\n",
       "      <td>4.0</td>\n",
       "      <td>3.0</td>\n",
       "      <td>1</td>\n",
       "    </tr>\n",
       "    <tr>\n",
       "      <th>...</th>\n",
       "      <td>...</td>\n",
       "      <td>...</td>\n",
       "      <td>...</td>\n",
       "      <td>...</td>\n",
       "      <td>...</td>\n",
       "      <td>...</td>\n",
       "      <td>...</td>\n",
       "      <td>...</td>\n",
       "      <td>...</td>\n",
       "      <td>...</td>\n",
       "      <td>...</td>\n",
       "      <td>...</td>\n",
       "      <td>...</td>\n",
       "      <td>...</td>\n",
       "      <td>...</td>\n",
       "      <td>...</td>\n",
       "      <td>...</td>\n",
       "      <td>...</td>\n",
       "      <td>...</td>\n",
       "      <td>...</td>\n",
       "      <td>...</td>\n",
       "    </tr>\n",
       "    <tr>\n",
       "      <th>45527</th>\n",
       "      <td>1</td>\n",
       "      <td>2</td>\n",
       "      <td>1</td>\n",
       "      <td>1</td>\n",
       "      <td>0</td>\n",
       "      <td>1</td>\n",
       "      <td>6</td>\n",
       "      <td>8</td>\n",
       "      <td>3</td>\n",
       "      <td>0</td>\n",
       "      <td>...</td>\n",
       "      <td>0</td>\n",
       "      <td>1</td>\n",
       "      <td>0</td>\n",
       "      <td>53.0</td>\n",
       "      <td>3.5</td>\n",
       "      <td>2.5</td>\n",
       "      <td>3.0</td>\n",
       "      <td>3.5</td>\n",
       "      <td>3.0</td>\n",
       "      <td>2</td>\n",
       "    </tr>\n",
       "    <tr>\n",
       "      <th>45528</th>\n",
       "      <td>3</td>\n",
       "      <td>2</td>\n",
       "      <td>1</td>\n",
       "      <td>2</td>\n",
       "      <td>1</td>\n",
       "      <td>1</td>\n",
       "      <td>6</td>\n",
       "      <td>1</td>\n",
       "      <td>1</td>\n",
       "      <td>0</td>\n",
       "      <td>...</td>\n",
       "      <td>0</td>\n",
       "      <td>1</td>\n",
       "      <td>0</td>\n",
       "      <td>58.0</td>\n",
       "      <td>2.5</td>\n",
       "      <td>2.5</td>\n",
       "      <td>3.0</td>\n",
       "      <td>2.0</td>\n",
       "      <td>3.0</td>\n",
       "      <td>2</td>\n",
       "    </tr>\n",
       "    <tr>\n",
       "      <th>45529</th>\n",
       "      <td>1</td>\n",
       "      <td>2</td>\n",
       "      <td>1</td>\n",
       "      <td>1</td>\n",
       "      <td>0</td>\n",
       "      <td>1</td>\n",
       "      <td>6</td>\n",
       "      <td>5</td>\n",
       "      <td>2</td>\n",
       "      <td>0</td>\n",
       "      <td>...</td>\n",
       "      <td>0</td>\n",
       "      <td>0</td>\n",
       "      <td>0</td>\n",
       "      <td>62.0</td>\n",
       "      <td>2.5</td>\n",
       "      <td>2.0</td>\n",
       "      <td>2.0</td>\n",
       "      <td>2.5</td>\n",
       "      <td>3.0</td>\n",
       "      <td>1</td>\n",
       "    </tr>\n",
       "    <tr>\n",
       "      <th>45530</th>\n",
       "      <td>4</td>\n",
       "      <td>4</td>\n",
       "      <td>1</td>\n",
       "      <td>2</td>\n",
       "      <td>1</td>\n",
       "      <td>1</td>\n",
       "      <td>6</td>\n",
       "      <td>1</td>\n",
       "      <td>0</td>\n",
       "      <td>0</td>\n",
       "      <td>...</td>\n",
       "      <td>0</td>\n",
       "      <td>1</td>\n",
       "      <td>0</td>\n",
       "      <td>52.0</td>\n",
       "      <td>1.0</td>\n",
       "      <td>2.5</td>\n",
       "      <td>1.0</td>\n",
       "      <td>3.0</td>\n",
       "      <td>2.0</td>\n",
       "      <td>1</td>\n",
       "    </tr>\n",
       "    <tr>\n",
       "      <th>45531</th>\n",
       "      <td>2</td>\n",
       "      <td>2</td>\n",
       "      <td>1</td>\n",
       "      <td>3</td>\n",
       "      <td>1</td>\n",
       "      <td>1</td>\n",
       "      <td>6</td>\n",
       "      <td>0</td>\n",
       "      <td>2</td>\n",
       "      <td>1</td>\n",
       "      <td>...</td>\n",
       "      <td>0</td>\n",
       "      <td>0</td>\n",
       "      <td>0</td>\n",
       "      <td>78.0</td>\n",
       "      <td>1.5</td>\n",
       "      <td>2.0</td>\n",
       "      <td>2.0</td>\n",
       "      <td>1.5</td>\n",
       "      <td>2.5</td>\n",
       "      <td>1</td>\n",
       "    </tr>\n",
       "  </tbody>\n",
       "</table>\n",
       "<p>45532 rows × 24 columns</p>\n",
       "</div>"
      ],
      "text/plain": [
       "       age_group  education  engnat  familysize  gender  married  race  \\\n",
       "0              3          2       1           4       0        3     6   \n",
       "1              2          4       2           3       0        1     1   \n",
       "2              3          3       1           3       1        2     6   \n",
       "3              2          4       2           0       0        1     1   \n",
       "4              2          3       1           2       1        2     6   \n",
       "...          ...        ...     ...         ...     ...      ...   ...   \n",
       "45527          1          2       1           1       0        1     6   \n",
       "45528          3          2       1           2       1        1     6   \n",
       "45529          1          2       1           1       0        1     6   \n",
       "45530          4          4       1           2       1        1     6   \n",
       "45531          2          2       1           3       1        1     6   \n",
       "\n",
       "       religion  urban  wf_01  ...  wr_06  wr_09  wr_11  Mach_score  외향성  친화성  \\\n",
       "0            10      1      0  ...      0      0      0        61.0  1.5  4.5   \n",
       "1             7      3      0  ...      0      0      0        64.0  1.5  2.0   \n",
       "2            10      2      0  ...      0      1      0        56.0  3.0  2.5   \n",
       "3             7      3      0  ...      0      0      0        71.0  2.5  2.5   \n",
       "4             0      1      0  ...      1      0      1        58.0  1.5  0.5   \n",
       "...         ...    ...    ...  ...    ...    ...    ...         ...  ...  ...   \n",
       "45527         8      3      0  ...      0      1      0        53.0  3.5  2.5   \n",
       "45528         1      1      0  ...      0      1      0        58.0  2.5  2.5   \n",
       "45529         5      2      0  ...      0      0      0        62.0  2.5  2.0   \n",
       "45530         1      0      0  ...      0      1      0        52.0  1.0  2.5   \n",
       "45531         0      2      1  ...      0      0      0        78.0  1.5  2.0   \n",
       "\n",
       "       성실성  정서적 안정성  경험개방성  voted  \n",
       "0      3.0      2.5    2.5      2  \n",
       "1      2.0      0.0    2.5      2  \n",
       "2      3.5      3.0    3.0      1  \n",
       "3      2.0      1.0    2.0      1  \n",
       "4      3.5      4.0    3.0      1  \n",
       "...    ...      ...    ...    ...  \n",
       "45527  3.0      3.5    3.0      2  \n",
       "45528  3.0      2.0    3.0      2  \n",
       "45529  2.0      2.5    3.0      1  \n",
       "45530  1.0      3.0    2.0      1  \n",
       "45531  2.0      1.5    2.5      1  \n",
       "\n",
       "[45532 rows x 24 columns]"
      ]
     },
     "execution_count": 28,
     "metadata": {},
     "output_type": "execute_result"
    }
   ],
   "source": [
    "df"
   ]
  },
  {
   "cell_type": "markdown",
   "metadata": {},
   "source": [
    "### 3) 특성선택"
   ]
  },
  {
   "cell_type": "code",
   "execution_count": 29,
   "metadata": {},
   "outputs": [],
   "source": [
    "from sklearn.feature_selection import SelectFromModel\n",
    "from sklearn.linear_model import LogisticRegression\n",
    "from sklearn.preprocessing import MinMaxScaler"
   ]
  },
  {
   "cell_type": "code",
   "execution_count": 30,
   "metadata": {},
   "outputs": [
    {
     "data": {
      "text/plain": [
       "'age_group/education/race/urban/wr_01/wr_03/wr_06/외향성/친화성/성실성/정서적 안정성/경험개방성'"
      ]
     },
     "execution_count": 30,
     "metadata": {},
     "output_type": "execute_result"
    }
   ],
   "source": [
    "def logistic_regression(x_train , y_train):\n",
    "    embeded_lr2_selector = SelectFromModel(LogisticRegression(),# Logistic Regression 모델을 통해 특성 선택\n",
    "                                           threshold='median') \n",
    "    X_norm = MinMaxScaler().fit_transform(x_train)\n",
    "    embeded_lr2_selector.fit(X_norm, y_train)\n",
    "    embeded_lr2_support = embeded_lr2_selector.get_support()\n",
    "    embeded_lr2_feature = x_train.loc[:,embeded_lr2_support].columns.tolist()\n",
    "    \n",
    "    return embeded_lr2_support, embeded_lr2_feature\n",
    "\n",
    "embeded_lr2_support, embeded_lr2_feature = logistic_regression(x_train , y_train)\n",
    "'/'.join(embeded_lr2_feature)\n",
    "#len(embeded_lr2_feature)"
   ]
  },
  {
   "cell_type": "code",
   "execution_count": 31,
   "metadata": {},
   "outputs": [
    {
     "data": {
      "text/plain": [
       "'age_group/education/familysize/married/race/religion/Mach_score/외향성/친화성/성실성/정서적 안정성/경험개방성'"
      ]
     },
     "execution_count": 31,
     "metadata": {},
     "output_type": "execute_result"
    }
   ],
   "source": [
    "from sklearn.ensemble import RandomForestClassifier\n",
    "def random_forest(x_train , y_train):\n",
    "    embeded_rf_selector = SelectFromModel(RandomForestClassifier(), # RandomForestClassifier 을 통해 특성 선택 \n",
    "                                          threshold='median')\n",
    "    embeded_rf_selector.fit(x_train , y_train)    \n",
    "    embeded_rf_support = embeded_rf_selector.get_support()\n",
    "    embeded_rf_feature = x_train.loc[:,embeded_rf_support].columns.tolist()\n",
    "    return embeded_rf_support, embeded_rf_feature\n",
    "\n",
    "embeded_rf_support, embeded_rf_feature = random_forest(x_train , y_train)\n",
    "'/'.join(embeded_rf_feature)"
   ]
  },
  {
   "cell_type": "code",
   "execution_count": 32,
   "metadata": {},
   "outputs": [
    {
     "data": {
      "text/plain": [
       "RandomForestClassifier()"
      ]
     },
     "execution_count": 32,
     "metadata": {},
     "output_type": "execute_result"
    }
   ],
   "source": [
    "forest = RandomForestClassifier()\n",
    "forest.fit(x_train , y_train)"
   ]
  },
  {
   "cell_type": "markdown",
   "metadata": {},
   "source": [
    "### 4) 특성변수 중요도\n",
    "#### - 랜덤포레스트 모델의 입력변수의 중요도"
   ]
  },
  {
   "cell_type": "code",
   "execution_count": 34,
   "metadata": {
    "scrolled": false
   },
   "outputs": [
    {
     "data": {
      "text/plain": [
       "<BarContainer object of 23 artists>"
      ]
     },
     "execution_count": 34,
     "metadata": {},
     "output_type": "execute_result"
    },
    {
     "data": {
      "image/png": "[encoded data removed]",
      "text/plain": [
       "<Figure size 1080x360 with 1 Axes>"
      ]
     },
     "metadata": {
      "needs_background": "light"
     },
     "output_type": "display_data"
    }
   ],
   "source": [
    "plt.rcParams['font.family'] = 'Malgun Gothic'\n",
    "%matplotlib inline\n",
    "plt.figure(figsize=(15,5)); plt.ylabel('Features Importance')\n",
    "plt.xticks(np.arange(x_train.shape[1]), x_train.columns, rotation='45')\n",
    "plt.bar(range(x_train.shape[1]), forest.feature_importances_)"
   ]
  },
  {
   "cell_type": "markdown",
   "metadata": {},
   "source": [
    "### 5) 특성변수 permutation-based 중요도\n",
    "#### - 특정 변수의 값을 무작위로 재정렬하여(permutation) 학습하는 경우 모델의 정확도에 영향을 얼마나 주는지를 가리키는 지표\n",
    "#### - 예측에 영향을 미치는 입력변수의 중요도가 높은 순서대로 확인"
   ]
  },
  {
   "cell_type": "code",
   "execution_count": 35,
   "metadata": {},
   "outputs": [
    {
     "data": {
      "text/plain": [
       "<AxesSubplot:xlabel='0'>"
      ]
     },
     "execution_count": 35,
     "metadata": {},
     "output_type": "execute_result"
    },
    {
     "data": {
      "image/png": "[encoded data removed]",
      "text/plain": [
       "<Figure size 1152x288 with 1 Axes>"
      ]
     },
     "metadata": {
      "needs_background": "light"
     },
     "output_type": "display_data"
    }
   ],
   "source": [
    "from sklearn.inspection import permutation_importance\n",
    "results123 = permutation_importance(forest, x_train, y_train, n_repeats=10, random_state=0)\n",
    "\n",
    "data123 = pd.DataFrame(list(zip(x_train.columns, results123.importances_mean)))\n",
    "data123.sort_values(by =1, ascending= False, inplace =True)\n",
    "data123.plot(kind='bar', x=0, y=1, rot='30', figsize=(16, 4))"
   ]
  },
  {
   "cell_type": "markdown",
   "metadata": {},
   "source": [
    "### 6) 특성변수 영향도\n",
    "#### - 개별 변수의 민감도"
   ]
  },
  {
   "cell_type": "code",
   "execution_count": 36,
   "metadata": {},
   "outputs": [
    {
     "data": {
      "image/png": "[encoded data removed]",
      "text/plain": [
       "<Figure size 2160x2160 with 24 Axes>"
      ]
     },
     "metadata": {
      "needs_background": "light"
     },
     "output_type": "display_data"
    }
   ],
   "source": [
    "from sklearn.inspection import plot_partial_dependence\n",
    "plt.rcParams['font.family']='Malgun Gothic' # 한글폰트\n",
    "plt.rcParams['figure.figsize'] = (30,30)\n",
    "features = x_train.columns\n",
    "plot_partial_dependence(forest, x_train, features, n_jobs=3, grid_resolution=30)\n",
    "fig = plt.gcf(); fig.subplots_adjust(hspace=2)"
   ]
  },
  {
   "cell_type": "markdown",
   "metadata": {},
   "source": [
    "## 5. 상관관계 분석\n",
    "### 1) age_group + Mach_score 상관관계\n",
    "#### - 나이가 어릴수록 Mach_score가 높은 경향."
   ]
  },
  {
   "cell_type": "code",
   "execution_count": 80,
   "metadata": {},
   "outputs": [
    {
     "data": {
      "text/plain": [
       "[<matplotlib.lines.Line2D at 0x1c43ca79df0>]"
      ]
     },
     "execution_count": 80,
     "metadata": {},
     "output_type": "execute_result"
    },
    {
     "data": {
      "image/png": "[encoded data removed]",
      "text/plain": [
       "<Figure size 576x396 with 1 Axes>"
      ]
     },
     "metadata": {},
     "output_type": "display_data"
    }
   ],
   "source": [
    "x12 = x_train.pivot_table('Mach_score', train['age_group'])\n",
    "plt.plot(x12)"
   ]
  },
  {
   "cell_type": "markdown",
   "metadata": {},
   "source": [
    "### 2) Mach_score와 voted 관계\n",
    "#### - Mach_score가 높아질수록,투표율이 낮아지는 경향"
   ]
  },
  {
   "cell_type": "code",
   "execution_count": 38,
   "metadata": {},
   "outputs": [
    {
     "data": {
      "text/plain": [
       "<AxesSubplot:xlabel='Mach_score', ylabel='count'>"
      ]
     },
     "execution_count": 38,
     "metadata": {},
     "output_type": "execute_result"
    },
    {
     "data": {
      "image/png": "[encoded data removed]",
      "text/plain": [
       "<Figure size 2160x1080 with 1 Axes>"
      ]
     },
     "metadata": {
      "needs_background": "light"
     },
     "output_type": "display_data"
    }
   ],
   "source": [
    "plt.figure(figsize = (30,15))\n",
    "sns.countplot(data = df, x = 'Mach_score', hue = 'voted')"
   ]
  },
  {
   "cell_type": "markdown",
   "metadata": {
    "id": "woRLqoUWN1EG"
   },
   "source": [
    "### 3) age_group + voted 상관관계"
   ]
  },
  {
   "cell_type": "code",
   "execution_count": 39,
   "metadata": {
    "id": "n0zesExhWI5A"
   },
   "outputs": [],
   "source": [
    "voted = eda_train[eda_train['voted']==1]\n",
    "unvoted = eda_train[eda_train['voted']==2]"
   ]
  },
  {
   "cell_type": "code",
   "execution_count": 40,
   "metadata": {
    "colab": {
     "base_uri": "https://localhost:8080/",
     "height": 407
    },
    "id": "3ahgY_FrWI1e",
    "outputId": "3b86421f-c0c9-4825-c444-599b4b32c71c"
   },
   "outputs": [
    {
     "data": {
      "text/plain": [
       "<AxesSubplot:xlabel='age_group', ylabel='count'>"
      ]
     },
     "execution_count": 40,
     "metadata": {},
     "output_type": "execute_result"
    },
    {
     "data": {
      "image/png": "[encoded data removed]",
      "text/plain": [
       "<Figure size 576x432 with 1 Axes>"
      ]
     },
     "metadata": {
      "needs_background": "light"
     },
     "output_type": "display_data"
    }
   ],
   "source": [
    "plt.figure(figsize = (8,6))\n",
    "sns.countplot(data = eda_train, x = 'age_group', hue = eda_train['voted'])"
   ]
  },
  {
   "cell_type": "markdown",
   "metadata": {},
   "source": [
    "### 4) gender + voted 상관관계"
   ]
  },
  {
   "cell_type": "code",
   "execution_count": 41,
   "metadata": {
    "colab": {
     "base_uri": "https://localhost:8080/",
     "height": 410
    },
    "id": "lYP3dlt8WIw5",
    "outputId": "c3b449ff-3904-44a0-ebf5-d7eb11a4af88"
   },
   "outputs": [
    {
     "data": {
      "text/plain": [
       "<AxesSubplot:xlabel='gender', ylabel='count'>"
      ]
     },
     "execution_count": 41,
     "metadata": {},
     "output_type": "execute_result"
    },
    {
     "data": {
      "image/png": "[encoded data removed]",
      "text/plain": [
       "<Figure size 576x432 with 1 Axes>"
      ]
     },
     "metadata": {
      "needs_background": "light"
     },
     "output_type": "display_data"
    }
   ],
   "source": [
    "plt.figure(figsize = (8,6))\n",
    "sns.countplot(data = eda_train, x = 'gender', hue = eda_train['voted'])"
   ]
  },
  {
   "cell_type": "markdown",
   "metadata": {},
   "source": [
    "### 5) race + voted 상관관계"
   ]
  },
  {
   "cell_type": "code",
   "execution_count": 42,
   "metadata": {
    "colab": {
     "base_uri": "https://localhost:8080/",
     "height": 407
    },
    "id": "xnMYErZPWIub",
    "outputId": "dbacb71b-b517-4a04-d38e-a92607531cec"
   },
   "outputs": [
    {
     "data": {
      "text/plain": [
       "<AxesSubplot:xlabel='race', ylabel='count'>"
      ]
     },
     "execution_count": 42,
     "metadata": {},
     "output_type": "execute_result"
    },
    {
     "data": {
      "image/png": "[encoded data removed]",
      "text/plain": [
       "<Figure size 576x432 with 1 Axes>"
      ]
     },
     "metadata": {
      "needs_background": "light"
     },
     "output_type": "display_data"
    }
   ],
   "source": [
    "plt.figure(figsize = (8,6))\n",
    "sns.countplot(data = eda_train, x = 'race', hue = eda_train['voted'])"
   ]
  },
  {
   "cell_type": "markdown",
   "metadata": {},
   "source": [
    "### 6) 종교 + voted 상관관계"
   ]
  },
  {
   "cell_type": "code",
   "execution_count": 43,
   "metadata": {
    "colab": {
     "base_uri": "https://localhost:8080/",
     "height": 408
    },
    "id": "GQcHGDpMWIr3",
    "outputId": "0ec63dc0-ce1a-44e1-d404-71f0216ad915"
   },
   "outputs": [
    {
     "data": {
      "text/plain": [
       "<AxesSubplot:xlabel='religion', ylabel='count'>"
      ]
     },
     "execution_count": 43,
     "metadata": {},
     "output_type": "execute_result"
    },
    {
     "data": {
      "image/png": "[encoded data removed]",
      "text/plain": [
       "<Figure size 864x432 with 1 Axes>"
      ]
     },
     "metadata": {
      "needs_background": "light"
     },
     "output_type": "display_data"
    }
   ],
   "source": [
    "plt.figure(figsize = (12,6))\n",
    "sns.countplot(data = eda_train, x = 'religion', hue = eda_train['voted'])"
   ]
  },
  {
   "cell_type": "markdown",
   "metadata": {},
   "source": [
    "### 7) 유년시절 거주지역 + voted 상관관계"
   ]
  },
  {
   "cell_type": "code",
   "execution_count": 44,
   "metadata": {
    "colab": {
     "base_uri": "https://localhost:8080/",
     "height": 407
    },
    "id": "-rJuV8-9WInv",
    "outputId": "d61aa178-de28-4fe3-b848-9de8e4d35973"
   },
   "outputs": [
    {
     "data": {
      "text/plain": [
       "<AxesSubplot:xlabel='urban', ylabel='count'>"
      ]
     },
     "execution_count": 44,
     "metadata": {},
     "output_type": "execute_result"
    },
    {
     "data": {
      "image/png": "[encoded data removed]",
      "text/plain": [
       "<Figure size 576x432 with 1 Axes>"
      ]
     },
     "metadata": {
      "needs_background": "light"
     },
     "output_type": "display_data"
    }
   ],
   "source": [
    "plt.figure(figsize = (8,6))\n",
    "sns.countplot(data = eda_train, x = 'urban', hue = eda_train['voted'])"
   ]
  },
  {
   "cell_type": "markdown",
   "metadata": {},
   "source": [
    "### 8) 모국어 영어 여부 + voted 상관관계"
   ]
  },
  {
   "cell_type": "code",
   "execution_count": 45,
   "metadata": {
    "colab": {
     "base_uri": "https://localhost:8080/",
     "height": 407
    },
    "id": "e_gkHDXwaTVe",
    "outputId": "95d53d5e-96c7-4a6c-d56c-1e0ae404c4fb"
   },
   "outputs": [
    {
     "data": {
      "text/plain": [
       "<AxesSubplot:xlabel='engnat', ylabel='count'>"
      ]
     },
     "execution_count": 45,
     "metadata": {},
     "output_type": "execute_result"
    },
    {
     "data": {
      "image/png": "[encoded data removed]",
      "text/plain": [
       "<Figure size 576x432 with 1 Axes>"
      ]
     },
     "metadata": {
      "needs_background": "light"
     },
     "output_type": "display_data"
    }
   ],
   "source": [
    "plt.figure(figsize = (8,6))\n",
    "sns.countplot(data = eda_train, x = 'engnat', hue = eda_train['voted'])"
   ]
  },
  {
   "cell_type": "markdown",
   "metadata": {},
   "source": [
    "### 9) 형제자매 수 + voted 상관관계"
   ]
  },
  {
   "cell_type": "code",
   "execution_count": 46,
   "metadata": {
    "colab": {
     "base_uri": "https://localhost:8080/",
     "height": 407
    },
    "id": "sEqJvBveaTSB",
    "outputId": "06170055-96a8-409f-ffc8-04f77387419f"
   },
   "outputs": [
    {
     "data": {
      "text/plain": [
       "<AxesSubplot:xlabel='familysize', ylabel='count'>"
      ]
     },
     "execution_count": 46,
     "metadata": {},
     "output_type": "execute_result"
    },
    {
     "data": {
      "image/png": "[encoded data removed]",
      "text/plain": [
       "<Figure size 576x432 with 1 Axes>"
      ]
     },
     "metadata": {
      "needs_background": "light"
     },
     "output_type": "display_data"
    }
   ],
   "source": [
    "plt.figure(figsize = (8,6))\n",
    "sns.countplot(data = eda_train, x = 'familysize', hue = eda_train['voted'])"
   ]
  },
  {
   "cell_type": "markdown",
   "metadata": {
    "id": "ks8e45KAV4qF"
   },
   "source": [
    "## 5. Auto ML"
   ]
  },
  {
   "cell_type": "markdown",
   "metadata": {},
   "source": [
    "### - test 5% Hold-out"
   ]
  },
  {
   "cell_type": "code",
   "execution_count": 47,
   "metadata": {},
   "outputs": [],
   "source": [
    "from sklearn.model_selection import train_test_split, GridSearchCV\n",
    "X_train, X_test, y_train, y_test = train_test_split(df, y_train, test_size=0.05, random_state=0)"
   ]
  },
  {
   "cell_type": "markdown",
   "metadata": {},
   "source": [
    "### - 15개의 기본 모델을 학습하고 모델들의 성능을 비교& 분석"
   ]
  },
  {
   "cell_type": "code",
   "execution_count": 48,
   "metadata": {},
   "outputs": [
    {
     "data": {
      "text/html": [
       "<style  type=\"text/css\" >\n",
       "#T_72d07009_cacb_11eb_9318_309c2362fb36row29_col1,#T_72d07009_cacb_11eb_9318_309c2362fb36row36_col1{\n",
       "            background-color:  lightgreen;\n",
       "        }</style><table id=\"T_72d07009_cacb_11eb_9318_309c2362fb36\" ><thead>    <tr>        <th class=\"blank level0\" ></th>        <th class=\"col_heading level0 col0\" >Description</th>        <th class=\"col_heading level0 col1\" >Value</th>    </tr></thead><tbody>\n",
       "                <tr>\n",
       "                        <th id=\"T_72d07009_cacb_11eb_9318_309c2362fb36level0_row0\" class=\"row_heading level0 row0\" >0</th>\n",
       "                        <td id=\"T_72d07009_cacb_11eb_9318_309c2362fb36row0_col0\" class=\"data row0 col0\" >session_id</td>\n",
       "                        <td id=\"T_72d07009_cacb_11eb_9318_309c2362fb36row0_col1\" class=\"data row0 col1\" >1357</td>\n",
       "            </tr>\n",
       "            <tr>\n",
       "                        <th id=\"T_72d07009_cacb_11eb_9318_309c2362fb36level0_row1\" class=\"row_heading level0 row1\" >1</th>\n",
       "                        <td id=\"T_72d07009_cacb_11eb_9318_309c2362fb36row1_col0\" class=\"data row1 col0\" >Target</td>\n",
       "                        <td id=\"T_72d07009_cacb_11eb_9318_309c2362fb36row1_col1\" class=\"data row1 col1\" >voted</td>\n",
       "            </tr>\n",
       "            <tr>\n",
       "                        <th id=\"T_72d07009_cacb_11eb_9318_309c2362fb36level0_row2\" class=\"row_heading level0 row2\" >2</th>\n",
       "                        <td id=\"T_72d07009_cacb_11eb_9318_309c2362fb36row2_col0\" class=\"data row2 col0\" >Target Type</td>\n",
       "                        <td id=\"T_72d07009_cacb_11eb_9318_309c2362fb36row2_col1\" class=\"data row2 col1\" >Binary</td>\n",
       "            </tr>\n",
       "            <tr>\n",
       "                        <th id=\"T_72d07009_cacb_11eb_9318_309c2362fb36level0_row3\" class=\"row_heading level0 row3\" >3</th>\n",
       "                        <td id=\"T_72d07009_cacb_11eb_9318_309c2362fb36row3_col0\" class=\"data row3 col0\" >Label Encoded</td>\n",
       "                        <td id=\"T_72d07009_cacb_11eb_9318_309c2362fb36row3_col1\" class=\"data row3 col1\" >1: 0, 2: 1</td>\n",
       "            </tr>\n",
       "            <tr>\n",
       "                        <th id=\"T_72d07009_cacb_11eb_9318_309c2362fb36level0_row4\" class=\"row_heading level0 row4\" >4</th>\n",
       "                        <td id=\"T_72d07009_cacb_11eb_9318_309c2362fb36row4_col0\" class=\"data row4 col0\" >Original Data</td>\n",
       "                        <td id=\"T_72d07009_cacb_11eb_9318_309c2362fb36row4_col1\" class=\"data row4 col1\" >(45532, 24)</td>\n",
       "            </tr>\n",
       "            <tr>\n",
       "                        <th id=\"T_72d07009_cacb_11eb_9318_309c2362fb36level0_row5\" class=\"row_heading level0 row5\" >5</th>\n",
       "                        <td id=\"T_72d07009_cacb_11eb_9318_309c2362fb36row5_col0\" class=\"data row5 col0\" >Missing Values</td>\n",
       "                        <td id=\"T_72d07009_cacb_11eb_9318_309c2362fb36row5_col1\" class=\"data row5 col1\" >False</td>\n",
       "            </tr>\n",
       "            <tr>\n",
       "                        <th id=\"T_72d07009_cacb_11eb_9318_309c2362fb36level0_row6\" class=\"row_heading level0 row6\" >6</th>\n",
       "                        <td id=\"T_72d07009_cacb_11eb_9318_309c2362fb36row6_col0\" class=\"data row6 col0\" >Numeric Features</td>\n",
       "                        <td id=\"T_72d07009_cacb_11eb_9318_309c2362fb36row6_col1\" class=\"data row6 col1\" >11</td>\n",
       "            </tr>\n",
       "            <tr>\n",
       "                        <th id=\"T_72d07009_cacb_11eb_9318_309c2362fb36level0_row7\" class=\"row_heading level0 row7\" >7</th>\n",
       "                        <td id=\"T_72d07009_cacb_11eb_9318_309c2362fb36row7_col0\" class=\"data row7 col0\" >Categorical Features</td>\n",
       "                        <td id=\"T_72d07009_cacb_11eb_9318_309c2362fb36row7_col1\" class=\"data row7 col1\" >12</td>\n",
       "            </tr>\n",
       "            <tr>\n",
       "                        <th id=\"T_72d07009_cacb_11eb_9318_309c2362fb36level0_row8\" class=\"row_heading level0 row8\" >8</th>\n",
       "                        <td id=\"T_72d07009_cacb_11eb_9318_309c2362fb36row8_col0\" class=\"data row8 col0\" >Ordinal Features</td>\n",
       "                        <td id=\"T_72d07009_cacb_11eb_9318_309c2362fb36row8_col1\" class=\"data row8 col1\" >False</td>\n",
       "            </tr>\n",
       "            <tr>\n",
       "                        <th id=\"T_72d07009_cacb_11eb_9318_309c2362fb36level0_row9\" class=\"row_heading level0 row9\" >9</th>\n",
       "                        <td id=\"T_72d07009_cacb_11eb_9318_309c2362fb36row9_col0\" class=\"data row9 col0\" >High Cardinality Features</td>\n",
       "                        <td id=\"T_72d07009_cacb_11eb_9318_309c2362fb36row9_col1\" class=\"data row9 col1\" >False</td>\n",
       "            </tr>\n",
       "            <tr>\n",
       "                        <th id=\"T_72d07009_cacb_11eb_9318_309c2362fb36level0_row10\" class=\"row_heading level0 row10\" >10</th>\n",
       "                        <td id=\"T_72d07009_cacb_11eb_9318_309c2362fb36row10_col0\" class=\"data row10 col0\" >High Cardinality Method</td>\n",
       "                        <td id=\"T_72d07009_cacb_11eb_9318_309c2362fb36row10_col1\" class=\"data row10 col1\" >None</td>\n",
       "            </tr>\n",
       "            <tr>\n",
       "                        <th id=\"T_72d07009_cacb_11eb_9318_309c2362fb36level0_row11\" class=\"row_heading level0 row11\" >11</th>\n",
       "                        <td id=\"T_72d07009_cacb_11eb_9318_309c2362fb36row11_col0\" class=\"data row11 col0\" >Transformed Train Set</td>\n",
       "                        <td id=\"T_72d07009_cacb_11eb_9318_309c2362fb36row11_col1\" class=\"data row11 col1\" >(43255, 34)</td>\n",
       "            </tr>\n",
       "            <tr>\n",
       "                        <th id=\"T_72d07009_cacb_11eb_9318_309c2362fb36level0_row12\" class=\"row_heading level0 row12\" >12</th>\n",
       "                        <td id=\"T_72d07009_cacb_11eb_9318_309c2362fb36row12_col0\" class=\"data row12 col0\" >Transformed Test Set</td>\n",
       "                        <td id=\"T_72d07009_cacb_11eb_9318_309c2362fb36row12_col1\" class=\"data row12 col1\" >(2277, 34)</td>\n",
       "            </tr>\n",
       "            <tr>\n",
       "                        <th id=\"T_72d07009_cacb_11eb_9318_309c2362fb36level0_row13\" class=\"row_heading level0 row13\" >13</th>\n",
       "                        <td id=\"T_72d07009_cacb_11eb_9318_309c2362fb36row13_col0\" class=\"data row13 col0\" >Shuffle Train-Test</td>\n",
       "                        <td id=\"T_72d07009_cacb_11eb_9318_309c2362fb36row13_col1\" class=\"data row13 col1\" >True</td>\n",
       "            </tr>\n",
       "            <tr>\n",
       "                        <th id=\"T_72d07009_cacb_11eb_9318_309c2362fb36level0_row14\" class=\"row_heading level0 row14\" >14</th>\n",
       "                        <td id=\"T_72d07009_cacb_11eb_9318_309c2362fb36row14_col0\" class=\"data row14 col0\" >Stratify Train-Test</td>\n",
       "                        <td id=\"T_72d07009_cacb_11eb_9318_309c2362fb36row14_col1\" class=\"data row14 col1\" >False</td>\n",
       "            </tr>\n",
       "            <tr>\n",
       "                        <th id=\"T_72d07009_cacb_11eb_9318_309c2362fb36level0_row15\" class=\"row_heading level0 row15\" >15</th>\n",
       "                        <td id=\"T_72d07009_cacb_11eb_9318_309c2362fb36row15_col0\" class=\"data row15 col0\" >Fold Generator</td>\n",
       "                        <td id=\"T_72d07009_cacb_11eb_9318_309c2362fb36row15_col1\" class=\"data row15 col1\" >StratifiedKFold</td>\n",
       "            </tr>\n",
       "            <tr>\n",
       "                        <th id=\"T_72d07009_cacb_11eb_9318_309c2362fb36level0_row16\" class=\"row_heading level0 row16\" >16</th>\n",
       "                        <td id=\"T_72d07009_cacb_11eb_9318_309c2362fb36row16_col0\" class=\"data row16 col0\" >Fold Number</td>\n",
       "                        <td id=\"T_72d07009_cacb_11eb_9318_309c2362fb36row16_col1\" class=\"data row16 col1\" >10</td>\n",
       "            </tr>\n",
       "            <tr>\n",
       "                        <th id=\"T_72d07009_cacb_11eb_9318_309c2362fb36level0_row17\" class=\"row_heading level0 row17\" >17</th>\n",
       "                        <td id=\"T_72d07009_cacb_11eb_9318_309c2362fb36row17_col0\" class=\"data row17 col0\" >CPU Jobs</td>\n",
       "                        <td id=\"T_72d07009_cacb_11eb_9318_309c2362fb36row17_col1\" class=\"data row17 col1\" >-1</td>\n",
       "            </tr>\n",
       "            <tr>\n",
       "                        <th id=\"T_72d07009_cacb_11eb_9318_309c2362fb36level0_row18\" class=\"row_heading level0 row18\" >18</th>\n",
       "                        <td id=\"T_72d07009_cacb_11eb_9318_309c2362fb36row18_col0\" class=\"data row18 col0\" >Use GPU</td>\n",
       "                        <td id=\"T_72d07009_cacb_11eb_9318_309c2362fb36row18_col1\" class=\"data row18 col1\" >False</td>\n",
       "            </tr>\n",
       "            <tr>\n",
       "                        <th id=\"T_72d07009_cacb_11eb_9318_309c2362fb36level0_row19\" class=\"row_heading level0 row19\" >19</th>\n",
       "                        <td id=\"T_72d07009_cacb_11eb_9318_309c2362fb36row19_col0\" class=\"data row19 col0\" >Log Experiment</td>\n",
       "                        <td id=\"T_72d07009_cacb_11eb_9318_309c2362fb36row19_col1\" class=\"data row19 col1\" >False</td>\n",
       "            </tr>\n",
       "            <tr>\n",
       "                        <th id=\"T_72d07009_cacb_11eb_9318_309c2362fb36level0_row20\" class=\"row_heading level0 row20\" >20</th>\n",
       "                        <td id=\"T_72d07009_cacb_11eb_9318_309c2362fb36row20_col0\" class=\"data row20 col0\" >Experiment Name</td>\n",
       "                        <td id=\"T_72d07009_cacb_11eb_9318_309c2362fb36row20_col1\" class=\"data row20 col1\" >clf-default-name</td>\n",
       "            </tr>\n",
       "            <tr>\n",
       "                        <th id=\"T_72d07009_cacb_11eb_9318_309c2362fb36level0_row21\" class=\"row_heading level0 row21\" >21</th>\n",
       "                        <td id=\"T_72d07009_cacb_11eb_9318_309c2362fb36row21_col0\" class=\"data row21 col0\" >USI</td>\n",
       "                        <td id=\"T_72d07009_cacb_11eb_9318_309c2362fb36row21_col1\" class=\"data row21 col1\" >7b3b</td>\n",
       "            </tr>\n",
       "            <tr>\n",
       "                        <th id=\"T_72d07009_cacb_11eb_9318_309c2362fb36level0_row22\" class=\"row_heading level0 row22\" >22</th>\n",
       "                        <td id=\"T_72d07009_cacb_11eb_9318_309c2362fb36row22_col0\" class=\"data row22 col0\" >Imputation Type</td>\n",
       "                        <td id=\"T_72d07009_cacb_11eb_9318_309c2362fb36row22_col1\" class=\"data row22 col1\" >simple</td>\n",
       "            </tr>\n",
       "            <tr>\n",
       "                        <th id=\"T_72d07009_cacb_11eb_9318_309c2362fb36level0_row23\" class=\"row_heading level0 row23\" >23</th>\n",
       "                        <td id=\"T_72d07009_cacb_11eb_9318_309c2362fb36row23_col0\" class=\"data row23 col0\" >Iterative Imputation Iteration</td>\n",
       "                        <td id=\"T_72d07009_cacb_11eb_9318_309c2362fb36row23_col1\" class=\"data row23 col1\" >None</td>\n",
       "            </tr>\n",
       "            <tr>\n",
       "                        <th id=\"T_72d07009_cacb_11eb_9318_309c2362fb36level0_row24\" class=\"row_heading level0 row24\" >24</th>\n",
       "                        <td id=\"T_72d07009_cacb_11eb_9318_309c2362fb36row24_col0\" class=\"data row24 col0\" >Numeric Imputer</td>\n",
       "                        <td id=\"T_72d07009_cacb_11eb_9318_309c2362fb36row24_col1\" class=\"data row24 col1\" >mean</td>\n",
       "            </tr>\n",
       "            <tr>\n",
       "                        <th id=\"T_72d07009_cacb_11eb_9318_309c2362fb36level0_row25\" class=\"row_heading level0 row25\" >25</th>\n",
       "                        <td id=\"T_72d07009_cacb_11eb_9318_309c2362fb36row25_col0\" class=\"data row25 col0\" >Iterative Imputation Numeric Model</td>\n",
       "                        <td id=\"T_72d07009_cacb_11eb_9318_309c2362fb36row25_col1\" class=\"data row25 col1\" >None</td>\n",
       "            </tr>\n",
       "            <tr>\n",
       "                        <th id=\"T_72d07009_cacb_11eb_9318_309c2362fb36level0_row26\" class=\"row_heading level0 row26\" >26</th>\n",
       "                        <td id=\"T_72d07009_cacb_11eb_9318_309c2362fb36row26_col0\" class=\"data row26 col0\" >Categorical Imputer</td>\n",
       "                        <td id=\"T_72d07009_cacb_11eb_9318_309c2362fb36row26_col1\" class=\"data row26 col1\" >constant</td>\n",
       "            </tr>\n",
       "            <tr>\n",
       "                        <th id=\"T_72d07009_cacb_11eb_9318_309c2362fb36level0_row27\" class=\"row_heading level0 row27\" >27</th>\n",
       "                        <td id=\"T_72d07009_cacb_11eb_9318_309c2362fb36row27_col0\" class=\"data row27 col0\" >Iterative Imputation Categorical Model</td>\n",
       "                        <td id=\"T_72d07009_cacb_11eb_9318_309c2362fb36row27_col1\" class=\"data row27 col1\" >None</td>\n",
       "            </tr>\n",
       "            <tr>\n",
       "                        <th id=\"T_72d07009_cacb_11eb_9318_309c2362fb36level0_row28\" class=\"row_heading level0 row28\" >28</th>\n",
       "                        <td id=\"T_72d07009_cacb_11eb_9318_309c2362fb36row28_col0\" class=\"data row28 col0\" >Unknown Categoricals Handling</td>\n",
       "                        <td id=\"T_72d07009_cacb_11eb_9318_309c2362fb36row28_col1\" class=\"data row28 col1\" >least_frequent</td>\n",
       "            </tr>\n",
       "            <tr>\n",
       "                        <th id=\"T_72d07009_cacb_11eb_9318_309c2362fb36level0_row29\" class=\"row_heading level0 row29\" >29</th>\n",
       "                        <td id=\"T_72d07009_cacb_11eb_9318_309c2362fb36row29_col0\" class=\"data row29 col0\" >Normalize</td>\n",
       "                        <td id=\"T_72d07009_cacb_11eb_9318_309c2362fb36row29_col1\" class=\"data row29 col1\" >True</td>\n",
       "            </tr>\n",
       "            <tr>\n",
       "                        <th id=\"T_72d07009_cacb_11eb_9318_309c2362fb36level0_row30\" class=\"row_heading level0 row30\" >30</th>\n",
       "                        <td id=\"T_72d07009_cacb_11eb_9318_309c2362fb36row30_col0\" class=\"data row30 col0\" >Normalize Method</td>\n",
       "                        <td id=\"T_72d07009_cacb_11eb_9318_309c2362fb36row30_col1\" class=\"data row30 col1\" >zscore</td>\n",
       "            </tr>\n",
       "            <tr>\n",
       "                        <th id=\"T_72d07009_cacb_11eb_9318_309c2362fb36level0_row31\" class=\"row_heading level0 row31\" >31</th>\n",
       "                        <td id=\"T_72d07009_cacb_11eb_9318_309c2362fb36row31_col0\" class=\"data row31 col0\" >Transformation</td>\n",
       "                        <td id=\"T_72d07009_cacb_11eb_9318_309c2362fb36row31_col1\" class=\"data row31 col1\" >False</td>\n",
       "            </tr>\n",
       "            <tr>\n",
       "                        <th id=\"T_72d07009_cacb_11eb_9318_309c2362fb36level0_row32\" class=\"row_heading level0 row32\" >32</th>\n",
       "                        <td id=\"T_72d07009_cacb_11eb_9318_309c2362fb36row32_col0\" class=\"data row32 col0\" >Transformation Method</td>\n",
       "                        <td id=\"T_72d07009_cacb_11eb_9318_309c2362fb36row32_col1\" class=\"data row32 col1\" >None</td>\n",
       "            </tr>\n",
       "            <tr>\n",
       "                        <th id=\"T_72d07009_cacb_11eb_9318_309c2362fb36level0_row33\" class=\"row_heading level0 row33\" >33</th>\n",
       "                        <td id=\"T_72d07009_cacb_11eb_9318_309c2362fb36row33_col0\" class=\"data row33 col0\" >PCA</td>\n",
       "                        <td id=\"T_72d07009_cacb_11eb_9318_309c2362fb36row33_col1\" class=\"data row33 col1\" >False</td>\n",
       "            </tr>\n",
       "            <tr>\n",
       "                        <th id=\"T_72d07009_cacb_11eb_9318_309c2362fb36level0_row34\" class=\"row_heading level0 row34\" >34</th>\n",
       "                        <td id=\"T_72d07009_cacb_11eb_9318_309c2362fb36row34_col0\" class=\"data row34 col0\" >PCA Method</td>\n",
       "                        <td id=\"T_72d07009_cacb_11eb_9318_309c2362fb36row34_col1\" class=\"data row34 col1\" >None</td>\n",
       "            </tr>\n",
       "            <tr>\n",
       "                        <th id=\"T_72d07009_cacb_11eb_9318_309c2362fb36level0_row35\" class=\"row_heading level0 row35\" >35</th>\n",
       "                        <td id=\"T_72d07009_cacb_11eb_9318_309c2362fb36row35_col0\" class=\"data row35 col0\" >PCA Components</td>\n",
       "                        <td id=\"T_72d07009_cacb_11eb_9318_309c2362fb36row35_col1\" class=\"data row35 col1\" >None</td>\n",
       "            </tr>\n",
       "            <tr>\n",
       "                        <th id=\"T_72d07009_cacb_11eb_9318_309c2362fb36level0_row36\" class=\"row_heading level0 row36\" >36</th>\n",
       "                        <td id=\"T_72d07009_cacb_11eb_9318_309c2362fb36row36_col0\" class=\"data row36 col0\" >Ignore Low Variance</td>\n",
       "                        <td id=\"T_72d07009_cacb_11eb_9318_309c2362fb36row36_col1\" class=\"data row36 col1\" >True</td>\n",
       "            </tr>\n",
       "            <tr>\n",
       "                        <th id=\"T_72d07009_cacb_11eb_9318_309c2362fb36level0_row37\" class=\"row_heading level0 row37\" >37</th>\n",
       "                        <td id=\"T_72d07009_cacb_11eb_9318_309c2362fb36row37_col0\" class=\"data row37 col0\" >Combine Rare Levels</td>\n",
       "                        <td id=\"T_72d07009_cacb_11eb_9318_309c2362fb36row37_col1\" class=\"data row37 col1\" >False</td>\n",
       "            </tr>\n",
       "            <tr>\n",
       "                        <th id=\"T_72d07009_cacb_11eb_9318_309c2362fb36level0_row38\" class=\"row_heading level0 row38\" >38</th>\n",
       "                        <td id=\"T_72d07009_cacb_11eb_9318_309c2362fb36row38_col0\" class=\"data row38 col0\" >Rare Level Threshold</td>\n",
       "                        <td id=\"T_72d07009_cacb_11eb_9318_309c2362fb36row38_col1\" class=\"data row38 col1\" >None</td>\n",
       "            </tr>\n",
       "            <tr>\n",
       "                        <th id=\"T_72d07009_cacb_11eb_9318_309c2362fb36level0_row39\" class=\"row_heading level0 row39\" >39</th>\n",
       "                        <td id=\"T_72d07009_cacb_11eb_9318_309c2362fb36row39_col0\" class=\"data row39 col0\" >Numeric Binning</td>\n",
       "                        <td id=\"T_72d07009_cacb_11eb_9318_309c2362fb36row39_col1\" class=\"data row39 col1\" >False</td>\n",
       "            </tr>\n",
       "            <tr>\n",
       "                        <th id=\"T_72d07009_cacb_11eb_9318_309c2362fb36level0_row40\" class=\"row_heading level0 row40\" >40</th>\n",
       "                        <td id=\"T_72d07009_cacb_11eb_9318_309c2362fb36row40_col0\" class=\"data row40 col0\" >Remove Outliers</td>\n",
       "                        <td id=\"T_72d07009_cacb_11eb_9318_309c2362fb36row40_col1\" class=\"data row40 col1\" >False</td>\n",
       "            </tr>\n",
       "            <tr>\n",
       "                        <th id=\"T_72d07009_cacb_11eb_9318_309c2362fb36level0_row41\" class=\"row_heading level0 row41\" >41</th>\n",
       "                        <td id=\"T_72d07009_cacb_11eb_9318_309c2362fb36row41_col0\" class=\"data row41 col0\" >Outliers Threshold</td>\n",
       "                        <td id=\"T_72d07009_cacb_11eb_9318_309c2362fb36row41_col1\" class=\"data row41 col1\" >None</td>\n",
       "            </tr>\n",
       "            <tr>\n",
       "                        <th id=\"T_72d07009_cacb_11eb_9318_309c2362fb36level0_row42\" class=\"row_heading level0 row42\" >42</th>\n",
       "                        <td id=\"T_72d07009_cacb_11eb_9318_309c2362fb36row42_col0\" class=\"data row42 col0\" >Remove Multicollinearity</td>\n",
       "                        <td id=\"T_72d07009_cacb_11eb_9318_309c2362fb36row42_col1\" class=\"data row42 col1\" >False</td>\n",
       "            </tr>\n",
       "            <tr>\n",
       "                        <th id=\"T_72d07009_cacb_11eb_9318_309c2362fb36level0_row43\" class=\"row_heading level0 row43\" >43</th>\n",
       "                        <td id=\"T_72d07009_cacb_11eb_9318_309c2362fb36row43_col0\" class=\"data row43 col0\" >Multicollinearity Threshold</td>\n",
       "                        <td id=\"T_72d07009_cacb_11eb_9318_309c2362fb36row43_col1\" class=\"data row43 col1\" >None</td>\n",
       "            </tr>\n",
       "            <tr>\n",
       "                        <th id=\"T_72d07009_cacb_11eb_9318_309c2362fb36level0_row44\" class=\"row_heading level0 row44\" >44</th>\n",
       "                        <td id=\"T_72d07009_cacb_11eb_9318_309c2362fb36row44_col0\" class=\"data row44 col0\" >Clustering</td>\n",
       "                        <td id=\"T_72d07009_cacb_11eb_9318_309c2362fb36row44_col1\" class=\"data row44 col1\" >False</td>\n",
       "            </tr>\n",
       "            <tr>\n",
       "                        <th id=\"T_72d07009_cacb_11eb_9318_309c2362fb36level0_row45\" class=\"row_heading level0 row45\" >45</th>\n",
       "                        <td id=\"T_72d07009_cacb_11eb_9318_309c2362fb36row45_col0\" class=\"data row45 col0\" >Clustering Iteration</td>\n",
       "                        <td id=\"T_72d07009_cacb_11eb_9318_309c2362fb36row45_col1\" class=\"data row45 col1\" >None</td>\n",
       "            </tr>\n",
       "            <tr>\n",
       "                        <th id=\"T_72d07009_cacb_11eb_9318_309c2362fb36level0_row46\" class=\"row_heading level0 row46\" >46</th>\n",
       "                        <td id=\"T_72d07009_cacb_11eb_9318_309c2362fb36row46_col0\" class=\"data row46 col0\" >Polynomial Features</td>\n",
       "                        <td id=\"T_72d07009_cacb_11eb_9318_309c2362fb36row46_col1\" class=\"data row46 col1\" >False</td>\n",
       "            </tr>\n",
       "            <tr>\n",
       "                        <th id=\"T_72d07009_cacb_11eb_9318_309c2362fb36level0_row47\" class=\"row_heading level0 row47\" >47</th>\n",
       "                        <td id=\"T_72d07009_cacb_11eb_9318_309c2362fb36row47_col0\" class=\"data row47 col0\" >Polynomial Degree</td>\n",
       "                        <td id=\"T_72d07009_cacb_11eb_9318_309c2362fb36row47_col1\" class=\"data row47 col1\" >None</td>\n",
       "            </tr>\n",
       "            <tr>\n",
       "                        <th id=\"T_72d07009_cacb_11eb_9318_309c2362fb36level0_row48\" class=\"row_heading level0 row48\" >48</th>\n",
       "                        <td id=\"T_72d07009_cacb_11eb_9318_309c2362fb36row48_col0\" class=\"data row48 col0\" >Trignometry Features</td>\n",
       "                        <td id=\"T_72d07009_cacb_11eb_9318_309c2362fb36row48_col1\" class=\"data row48 col1\" >False</td>\n",
       "            </tr>\n",
       "            <tr>\n",
       "                        <th id=\"T_72d07009_cacb_11eb_9318_309c2362fb36level0_row49\" class=\"row_heading level0 row49\" >49</th>\n",
       "                        <td id=\"T_72d07009_cacb_11eb_9318_309c2362fb36row49_col0\" class=\"data row49 col0\" >Polynomial Threshold</td>\n",
       "                        <td id=\"T_72d07009_cacb_11eb_9318_309c2362fb36row49_col1\" class=\"data row49 col1\" >None</td>\n",
       "            </tr>\n",
       "            <tr>\n",
       "                        <th id=\"T_72d07009_cacb_11eb_9318_309c2362fb36level0_row50\" class=\"row_heading level0 row50\" >50</th>\n",
       "                        <td id=\"T_72d07009_cacb_11eb_9318_309c2362fb36row50_col0\" class=\"data row50 col0\" >Group Features</td>\n",
       "                        <td id=\"T_72d07009_cacb_11eb_9318_309c2362fb36row50_col1\" class=\"data row50 col1\" >False</td>\n",
       "            </tr>\n",
       "            <tr>\n",
       "                        <th id=\"T_72d07009_cacb_11eb_9318_309c2362fb36level0_row51\" class=\"row_heading level0 row51\" >51</th>\n",
       "                        <td id=\"T_72d07009_cacb_11eb_9318_309c2362fb36row51_col0\" class=\"data row51 col0\" >Feature Selection</td>\n",
       "                        <td id=\"T_72d07009_cacb_11eb_9318_309c2362fb36row51_col1\" class=\"data row51 col1\" >False</td>\n",
       "            </tr>\n",
       "            <tr>\n",
       "                        <th id=\"T_72d07009_cacb_11eb_9318_309c2362fb36level0_row52\" class=\"row_heading level0 row52\" >52</th>\n",
       "                        <td id=\"T_72d07009_cacb_11eb_9318_309c2362fb36row52_col0\" class=\"data row52 col0\" >Feature Selection Method</td>\n",
       "                        <td id=\"T_72d07009_cacb_11eb_9318_309c2362fb36row52_col1\" class=\"data row52 col1\" >classic</td>\n",
       "            </tr>\n",
       "            <tr>\n",
       "                        <th id=\"T_72d07009_cacb_11eb_9318_309c2362fb36level0_row53\" class=\"row_heading level0 row53\" >53</th>\n",
       "                        <td id=\"T_72d07009_cacb_11eb_9318_309c2362fb36row53_col0\" class=\"data row53 col0\" >Features Selection Threshold</td>\n",
       "                        <td id=\"T_72d07009_cacb_11eb_9318_309c2362fb36row53_col1\" class=\"data row53 col1\" >None</td>\n",
       "            </tr>\n",
       "            <tr>\n",
       "                        <th id=\"T_72d07009_cacb_11eb_9318_309c2362fb36level0_row54\" class=\"row_heading level0 row54\" >54</th>\n",
       "                        <td id=\"T_72d07009_cacb_11eb_9318_309c2362fb36row54_col0\" class=\"data row54 col0\" >Feature Interaction</td>\n",
       "                        <td id=\"T_72d07009_cacb_11eb_9318_309c2362fb36row54_col1\" class=\"data row54 col1\" >False</td>\n",
       "            </tr>\n",
       "            <tr>\n",
       "                        <th id=\"T_72d07009_cacb_11eb_9318_309c2362fb36level0_row55\" class=\"row_heading level0 row55\" >55</th>\n",
       "                        <td id=\"T_72d07009_cacb_11eb_9318_309c2362fb36row55_col0\" class=\"data row55 col0\" >Feature Ratio</td>\n",
       "                        <td id=\"T_72d07009_cacb_11eb_9318_309c2362fb36row55_col1\" class=\"data row55 col1\" >False</td>\n",
       "            </tr>\n",
       "            <tr>\n",
       "                        <th id=\"T_72d07009_cacb_11eb_9318_309c2362fb36level0_row56\" class=\"row_heading level0 row56\" >56</th>\n",
       "                        <td id=\"T_72d07009_cacb_11eb_9318_309c2362fb36row56_col0\" class=\"data row56 col0\" >Interaction Threshold</td>\n",
       "                        <td id=\"T_72d07009_cacb_11eb_9318_309c2362fb36row56_col1\" class=\"data row56 col1\" >None</td>\n",
       "            </tr>\n",
       "            <tr>\n",
       "                        <th id=\"T_72d07009_cacb_11eb_9318_309c2362fb36level0_row57\" class=\"row_heading level0 row57\" >57</th>\n",
       "                        <td id=\"T_72d07009_cacb_11eb_9318_309c2362fb36row57_col0\" class=\"data row57 col0\" >Fix Imbalance</td>\n",
       "                        <td id=\"T_72d07009_cacb_11eb_9318_309c2362fb36row57_col1\" class=\"data row57 col1\" >False</td>\n",
       "            </tr>\n",
       "            <tr>\n",
       "                        <th id=\"T_72d07009_cacb_11eb_9318_309c2362fb36level0_row58\" class=\"row_heading level0 row58\" >58</th>\n",
       "                        <td id=\"T_72d07009_cacb_11eb_9318_309c2362fb36row58_col0\" class=\"data row58 col0\" >Fix Imbalance Method</td>\n",
       "                        <td id=\"T_72d07009_cacb_11eb_9318_309c2362fb36row58_col1\" class=\"data row58 col1\" >SMOTE</td>\n",
       "            </tr>\n",
       "    </tbody></table>"
      ],
      "text/plain": [
       "<pandas.io.formats.style.Styler at 0x1c43f9b2fd0>"
      ]
     },
     "metadata": {},
     "output_type": "display_data"
    }
   ],
   "source": [
    "from pycaret.classification import*\n",
    "clf = setup(data = df,\n",
    "            target = 'voted', \n",
    "            ignore_low_variance = True,\n",
    "            normalize = True,\n",
    "            train_size = 0.95, # test 5% Hold-out\n",
    "            session_id = 1357)\n",
    "\n",
    "#ignore_low_variance : True로 설정하면 범주형 변수 중에 변수중요도가 낮은 변수를 삭제\n",
    "#session_id : random_state와 같은 파라미터\n",
    "#normalize : True로 설정하면 정규화\n",
    "#group_features : 비슷한 특징을 가진 변수를 묶음"
   ]
  },
  {
   "cell_type": "markdown",
   "metadata": {},
   "source": [
    "### - AUC 기준 성능 상위 3개 모델 선발 "
   ]
  },
  {
   "cell_type": "code",
   "execution_count": 49,
   "metadata": {},
   "outputs": [
    {
     "data": {
      "text/html": [
       "<style  type=\"text/css\" >\n",
       "    #T_48a2c60c_cacc_11eb_b4d0_309c2362fb36 th {\n",
       "          text-align: left;\n",
       "    }#T_48a2c60c_cacc_11eb_b4d0_309c2362fb36row0_col0,#T_48a2c60c_cacc_11eb_b4d0_309c2362fb36row0_col3,#T_48a2c60c_cacc_11eb_b4d0_309c2362fb36row0_col4,#T_48a2c60c_cacc_11eb_b4d0_309c2362fb36row0_col5,#T_48a2c60c_cacc_11eb_b4d0_309c2362fb36row1_col0,#T_48a2c60c_cacc_11eb_b4d0_309c2362fb36row1_col1,#T_48a2c60c_cacc_11eb_b4d0_309c2362fb36row1_col2,#T_48a2c60c_cacc_11eb_b4d0_309c2362fb36row1_col3,#T_48a2c60c_cacc_11eb_b4d0_309c2362fb36row1_col4,#T_48a2c60c_cacc_11eb_b4d0_309c2362fb36row1_col5,#T_48a2c60c_cacc_11eb_b4d0_309c2362fb36row1_col6,#T_48a2c60c_cacc_11eb_b4d0_309c2362fb36row1_col7,#T_48a2c60c_cacc_11eb_b4d0_309c2362fb36row2_col0,#T_48a2c60c_cacc_11eb_b4d0_309c2362fb36row2_col1,#T_48a2c60c_cacc_11eb_b4d0_309c2362fb36row2_col2,#T_48a2c60c_cacc_11eb_b4d0_309c2362fb36row2_col3,#T_48a2c60c_cacc_11eb_b4d0_309c2362fb36row2_col4,#T_48a2c60c_cacc_11eb_b4d0_309c2362fb36row2_col5,#T_48a2c60c_cacc_11eb_b4d0_309c2362fb36row2_col6,#T_48a2c60c_cacc_11eb_b4d0_309c2362fb36row2_col7,#T_48a2c60c_cacc_11eb_b4d0_309c2362fb36row3_col0,#T_48a2c60c_cacc_11eb_b4d0_309c2362fb36row3_col1,#T_48a2c60c_cacc_11eb_b4d0_309c2362fb36row3_col2,#T_48a2c60c_cacc_11eb_b4d0_309c2362fb36row3_col3,#T_48a2c60c_cacc_11eb_b4d0_309c2362fb36row3_col4,#T_48a2c60c_cacc_11eb_b4d0_309c2362fb36row3_col5,#T_48a2c60c_cacc_11eb_b4d0_309c2362fb36row3_col6,#T_48a2c60c_cacc_11eb_b4d0_309c2362fb36row3_col7,#T_48a2c60c_cacc_11eb_b4d0_309c2362fb36row4_col0,#T_48a2c60c_cacc_11eb_b4d0_309c2362fb36row4_col1,#T_48a2c60c_cacc_11eb_b4d0_309c2362fb36row4_col2,#T_48a2c60c_cacc_11eb_b4d0_309c2362fb36row4_col3,#T_48a2c60c_cacc_11eb_b4d0_309c2362fb36row4_col4,#T_48a2c60c_cacc_11eb_b4d0_309c2362fb36row4_col5,#T_48a2c60c_cacc_11eb_b4d0_309c2362fb36row4_col6,#T_48a2c60c_cacc_11eb_b4d0_309c2362fb36row4_col7,#T_48a2c60c_cacc_11eb_b4d0_309c2362fb36row5_col0,#T_48a2c60c_cacc_11eb_b4d0_309c2362fb36row5_col1,#T_48a2c60c_cacc_11eb_b4d0_309c2362fb36row5_col2,#T_48a2c60c_cacc_11eb_b4d0_309c2362fb36row5_col3,#T_48a2c60c_cacc_11eb_b4d0_309c2362fb36row5_col4,#T_48a2c60c_cacc_11eb_b4d0_309c2362fb36row5_col5,#T_48a2c60c_cacc_11eb_b4d0_309c2362fb36row5_col6,#T_48a2c60c_cacc_11eb_b4d0_309c2362fb36row5_col7,#T_48a2c60c_cacc_11eb_b4d0_309c2362fb36row6_col0,#T_48a2c60c_cacc_11eb_b4d0_309c2362fb36row6_col1,#T_48a2c60c_cacc_11eb_b4d0_309c2362fb36row6_col2,#T_48a2c60c_cacc_11eb_b4d0_309c2362fb36row6_col3,#T_48a2c60c_cacc_11eb_b4d0_309c2362fb36row6_col4,#T_48a2c60c_cacc_11eb_b4d0_309c2362fb36row6_col5,#T_48a2c60c_cacc_11eb_b4d0_309c2362fb36row6_col6,#T_48a2c60c_cacc_11eb_b4d0_309c2362fb36row6_col7,#T_48a2c60c_cacc_11eb_b4d0_309c2362fb36row7_col0,#T_48a2c60c_cacc_11eb_b4d0_309c2362fb36row7_col1,#T_48a2c60c_cacc_11eb_b4d0_309c2362fb36row7_col2,#T_48a2c60c_cacc_11eb_b4d0_309c2362fb36row7_col4,#T_48a2c60c_cacc_11eb_b4d0_309c2362fb36row7_col6,#T_48a2c60c_cacc_11eb_b4d0_309c2362fb36row7_col7,#T_48a2c60c_cacc_11eb_b4d0_309c2362fb36row8_col0,#T_48a2c60c_cacc_11eb_b4d0_309c2362fb36row8_col1,#T_48a2c60c_cacc_11eb_b4d0_309c2362fb36row8_col2,#T_48a2c60c_cacc_11eb_b4d0_309c2362fb36row8_col3,#T_48a2c60c_cacc_11eb_b4d0_309c2362fb36row8_col4,#T_48a2c60c_cacc_11eb_b4d0_309c2362fb36row8_col5,#T_48a2c60c_cacc_11eb_b4d0_309c2362fb36row8_col6,#T_48a2c60c_cacc_11eb_b4d0_309c2362fb36row8_col7,#T_48a2c60c_cacc_11eb_b4d0_309c2362fb36row9_col0,#T_48a2c60c_cacc_11eb_b4d0_309c2362fb36row9_col1,#T_48a2c60c_cacc_11eb_b4d0_309c2362fb36row9_col2,#T_48a2c60c_cacc_11eb_b4d0_309c2362fb36row9_col3,#T_48a2c60c_cacc_11eb_b4d0_309c2362fb36row9_col5,#T_48a2c60c_cacc_11eb_b4d0_309c2362fb36row9_col6,#T_48a2c60c_cacc_11eb_b4d0_309c2362fb36row9_col7,#T_48a2c60c_cacc_11eb_b4d0_309c2362fb36row10_col0,#T_48a2c60c_cacc_11eb_b4d0_309c2362fb36row10_col1,#T_48a2c60c_cacc_11eb_b4d0_309c2362fb36row10_col2,#T_48a2c60c_cacc_11eb_b4d0_309c2362fb36row10_col3,#T_48a2c60c_cacc_11eb_b4d0_309c2362fb36row10_col4,#T_48a2c60c_cacc_11eb_b4d0_309c2362fb36row10_col5,#T_48a2c60c_cacc_11eb_b4d0_309c2362fb36row10_col6,#T_48a2c60c_cacc_11eb_b4d0_309c2362fb36row10_col7,#T_48a2c60c_cacc_11eb_b4d0_309c2362fb36row11_col0,#T_48a2c60c_cacc_11eb_b4d0_309c2362fb36row11_col1,#T_48a2c60c_cacc_11eb_b4d0_309c2362fb36row11_col2,#T_48a2c60c_cacc_11eb_b4d0_309c2362fb36row11_col3,#T_48a2c60c_cacc_11eb_b4d0_309c2362fb36row11_col4,#T_48a2c60c_cacc_11eb_b4d0_309c2362fb36row11_col5,#T_48a2c60c_cacc_11eb_b4d0_309c2362fb36row11_col6,#T_48a2c60c_cacc_11eb_b4d0_309c2362fb36row11_col7,#T_48a2c60c_cacc_11eb_b4d0_309c2362fb36row12_col0,#T_48a2c60c_cacc_11eb_b4d0_309c2362fb36row12_col1,#T_48a2c60c_cacc_11eb_b4d0_309c2362fb36row12_col2,#T_48a2c60c_cacc_11eb_b4d0_309c2362fb36row12_col3,#T_48a2c60c_cacc_11eb_b4d0_309c2362fb36row12_col4,#T_48a2c60c_cacc_11eb_b4d0_309c2362fb36row12_col5,#T_48a2c60c_cacc_11eb_b4d0_309c2362fb36row12_col6,#T_48a2c60c_cacc_11eb_b4d0_309c2362fb36row12_col7,#T_48a2c60c_cacc_11eb_b4d0_309c2362fb36row13_col0,#T_48a2c60c_cacc_11eb_b4d0_309c2362fb36row13_col1,#T_48a2c60c_cacc_11eb_b4d0_309c2362fb36row13_col2,#T_48a2c60c_cacc_11eb_b4d0_309c2362fb36row13_col3,#T_48a2c60c_cacc_11eb_b4d0_309c2362fb36row13_col4,#T_48a2c60c_cacc_11eb_b4d0_309c2362fb36row13_col5,#T_48a2c60c_cacc_11eb_b4d0_309c2362fb36row13_col6,#T_48a2c60c_cacc_11eb_b4d0_309c2362fb36row13_col7,#T_48a2c60c_cacc_11eb_b4d0_309c2362fb36row14_col0,#T_48a2c60c_cacc_11eb_b4d0_309c2362fb36row14_col1,#T_48a2c60c_cacc_11eb_b4d0_309c2362fb36row14_col2,#T_48a2c60c_cacc_11eb_b4d0_309c2362fb36row14_col3,#T_48a2c60c_cacc_11eb_b4d0_309c2362fb36row14_col4,#T_48a2c60c_cacc_11eb_b4d0_309c2362fb36row14_col5,#T_48a2c60c_cacc_11eb_b4d0_309c2362fb36row14_col6,#T_48a2c60c_cacc_11eb_b4d0_309c2362fb36row14_col7{\n",
       "            text-align:  left;\n",
       "            text-align:  left;\n",
       "        }#T_48a2c60c_cacc_11eb_b4d0_309c2362fb36row0_col1,#T_48a2c60c_cacc_11eb_b4d0_309c2362fb36row0_col2,#T_48a2c60c_cacc_11eb_b4d0_309c2362fb36row0_col6,#T_48a2c60c_cacc_11eb_b4d0_309c2362fb36row0_col7,#T_48a2c60c_cacc_11eb_b4d0_309c2362fb36row7_col3,#T_48a2c60c_cacc_11eb_b4d0_309c2362fb36row7_col5,#T_48a2c60c_cacc_11eb_b4d0_309c2362fb36row9_col4{\n",
       "            text-align:  left;\n",
       "            text-align:  left;\n",
       "            background-color:  yellow;\n",
       "        }#T_48a2c60c_cacc_11eb_b4d0_309c2362fb36row0_col8,#T_48a2c60c_cacc_11eb_b4d0_309c2362fb36row1_col8,#T_48a2c60c_cacc_11eb_b4d0_309c2362fb36row2_col8,#T_48a2c60c_cacc_11eb_b4d0_309c2362fb36row3_col8,#T_48a2c60c_cacc_11eb_b4d0_309c2362fb36row4_col8,#T_48a2c60c_cacc_11eb_b4d0_309c2362fb36row5_col8,#T_48a2c60c_cacc_11eb_b4d0_309c2362fb36row6_col8,#T_48a2c60c_cacc_11eb_b4d0_309c2362fb36row7_col8,#T_48a2c60c_cacc_11eb_b4d0_309c2362fb36row8_col8,#T_48a2c60c_cacc_11eb_b4d0_309c2362fb36row10_col8,#T_48a2c60c_cacc_11eb_b4d0_309c2362fb36row11_col8,#T_48a2c60c_cacc_11eb_b4d0_309c2362fb36row12_col8,#T_48a2c60c_cacc_11eb_b4d0_309c2362fb36row13_col8,#T_48a2c60c_cacc_11eb_b4d0_309c2362fb36row14_col8{\n",
       "            text-align:  left;\n",
       "            text-align:  left;\n",
       "            background-color:  lightgrey;\n",
       "        }#T_48a2c60c_cacc_11eb_b4d0_309c2362fb36row9_col8{\n",
       "            text-align:  left;\n",
       "            text-align:  left;\n",
       "            background-color:  yellow;\n",
       "            background-color:  lightgrey;\n",
       "        }</style><table id=\"T_48a2c60c_cacc_11eb_b4d0_309c2362fb36\" ><thead>    <tr>        <th class=\"blank level0\" ></th>        <th class=\"col_heading level0 col0\" >Model</th>        <th class=\"col_heading level0 col1\" >Accuracy</th>        <th class=\"col_heading level0 col2\" >AUC</th>        <th class=\"col_heading level0 col3\" >Recall</th>        <th class=\"col_heading level0 col4\" >Prec.</th>        <th class=\"col_heading level0 col5\" >F1</th>        <th class=\"col_heading level0 col6\" >Kappa</th>        <th class=\"col_heading level0 col7\" >MCC</th>        <th class=\"col_heading level0 col8\" >TT (Sec)</th>    </tr></thead><tbody>\n",
       "                <tr>\n",
       "                        <th id=\"T_48a2c60c_cacc_11eb_b4d0_309c2362fb36level0_row0\" class=\"row_heading level0 row0\" >lightgbm</th>\n",
       "                        <td id=\"T_48a2c60c_cacc_11eb_b4d0_309c2362fb36row0_col0\" class=\"data row0 col0\" >Light Gradient Boosting Machine</td>\n",
       "                        <td id=\"T_48a2c60c_cacc_11eb_b4d0_309c2362fb36row0_col1\" class=\"data row0 col1\" >0.6955</td>\n",
       "                        <td id=\"T_48a2c60c_cacc_11eb_b4d0_309c2362fb36row0_col2\" class=\"data row0 col2\" >0.7668</td>\n",
       "                        <td id=\"T_48a2c60c_cacc_11eb_b4d0_309c2362fb36row0_col3\" class=\"data row0 col3\" >0.6364</td>\n",
       "                        <td id=\"T_48a2c60c_cacc_11eb_b4d0_309c2362fb36row0_col4\" class=\"data row0 col4\" >0.7667</td>\n",
       "                        <td id=\"T_48a2c60c_cacc_11eb_b4d0_309c2362fb36row0_col5\" class=\"data row0 col5\" >0.6955</td>\n",
       "                        <td id=\"T_48a2c60c_cacc_11eb_b4d0_309c2362fb36row0_col6\" class=\"data row0 col6\" >0.3962</td>\n",
       "                        <td id=\"T_48a2c60c_cacc_11eb_b4d0_309c2362fb36row0_col7\" class=\"data row0 col7\" >0.4032</td>\n",
       "                        <td id=\"T_48a2c60c_cacc_11eb_b4d0_309c2362fb36row0_col8\" class=\"data row0 col8\" >0.4050</td>\n",
       "            </tr>\n",
       "            <tr>\n",
       "                        <th id=\"T_48a2c60c_cacc_11eb_b4d0_309c2362fb36level0_row1\" class=\"row_heading level0 row1\" >catboost</th>\n",
       "                        <td id=\"T_48a2c60c_cacc_11eb_b4d0_309c2362fb36row1_col0\" class=\"data row1 col0\" >CatBoost Classifier</td>\n",
       "                        <td id=\"T_48a2c60c_cacc_11eb_b4d0_309c2362fb36row1_col1\" class=\"data row1 col1\" >0.6941</td>\n",
       "                        <td id=\"T_48a2c60c_cacc_11eb_b4d0_309c2362fb36row1_col2\" class=\"data row1 col2\" >0.7662</td>\n",
       "                        <td id=\"T_48a2c60c_cacc_11eb_b4d0_309c2362fb36row1_col3\" class=\"data row1 col3\" >0.6466</td>\n",
       "                        <td id=\"T_48a2c60c_cacc_11eb_b4d0_309c2362fb36row1_col4\" class=\"data row1 col4\" >0.7580</td>\n",
       "                        <td id=\"T_48a2c60c_cacc_11eb_b4d0_309c2362fb36row1_col5\" class=\"data row1 col5\" >0.6978</td>\n",
       "                        <td id=\"T_48a2c60c_cacc_11eb_b4d0_309c2362fb36row1_col6\" class=\"data row1 col6\" >0.3921</td>\n",
       "                        <td id=\"T_48a2c60c_cacc_11eb_b4d0_309c2362fb36row1_col7\" class=\"data row1 col7\" >0.3972</td>\n",
       "                        <td id=\"T_48a2c60c_cacc_11eb_b4d0_309c2362fb36row1_col8\" class=\"data row1 col8\" >11.7120</td>\n",
       "            </tr>\n",
       "            <tr>\n",
       "                        <th id=\"T_48a2c60c_cacc_11eb_b4d0_309c2362fb36level0_row2\" class=\"row_heading level0 row2\" >gbc</th>\n",
       "                        <td id=\"T_48a2c60c_cacc_11eb_b4d0_309c2362fb36row2_col0\" class=\"data row2 col0\" >Gradient Boosting Classifier</td>\n",
       "                        <td id=\"T_48a2c60c_cacc_11eb_b4d0_309c2362fb36row2_col1\" class=\"data row2 col1\" >0.6943</td>\n",
       "                        <td id=\"T_48a2c60c_cacc_11eb_b4d0_309c2362fb36row2_col2\" class=\"data row2 col2\" >0.7644</td>\n",
       "                        <td id=\"T_48a2c60c_cacc_11eb_b4d0_309c2362fb36row2_col3\" class=\"data row2 col3\" >0.6361</td>\n",
       "                        <td id=\"T_48a2c60c_cacc_11eb_b4d0_309c2362fb36row2_col4\" class=\"data row2 col4\" >0.7649</td>\n",
       "                        <td id=\"T_48a2c60c_cacc_11eb_b4d0_309c2362fb36row2_col5\" class=\"data row2 col5\" >0.6946</td>\n",
       "                        <td id=\"T_48a2c60c_cacc_11eb_b4d0_309c2362fb36row2_col6\" class=\"data row2 col6\" >0.3938</td>\n",
       "                        <td id=\"T_48a2c60c_cacc_11eb_b4d0_309c2362fb36row2_col7\" class=\"data row2 col7\" >0.4005</td>\n",
       "                        <td id=\"T_48a2c60c_cacc_11eb_b4d0_309c2362fb36row2_col8\" class=\"data row2 col8\" >2.6310</td>\n",
       "            </tr>\n",
       "            <tr>\n",
       "                        <th id=\"T_48a2c60c_cacc_11eb_b4d0_309c2362fb36level0_row3\" class=\"row_heading level0 row3\" >ada</th>\n",
       "                        <td id=\"T_48a2c60c_cacc_11eb_b4d0_309c2362fb36row3_col0\" class=\"data row3 col0\" >Ada Boost Classifier</td>\n",
       "                        <td id=\"T_48a2c60c_cacc_11eb_b4d0_309c2362fb36row3_col1\" class=\"data row3 col1\" >0.6908</td>\n",
       "                        <td id=\"T_48a2c60c_cacc_11eb_b4d0_309c2362fb36row3_col2\" class=\"data row3 col2\" >0.7574</td>\n",
       "                        <td id=\"T_48a2c60c_cacc_11eb_b4d0_309c2362fb36row3_col3\" class=\"data row3 col3\" >0.6466</td>\n",
       "                        <td id=\"T_48a2c60c_cacc_11eb_b4d0_309c2362fb36row3_col4\" class=\"data row3 col4\" >0.7527</td>\n",
       "                        <td id=\"T_48a2c60c_cacc_11eb_b4d0_309c2362fb36row3_col5\" class=\"data row3 col5\" >0.6956</td>\n",
       "                        <td id=\"T_48a2c60c_cacc_11eb_b4d0_309c2362fb36row3_col6\" class=\"data row3 col6\" >0.3851</td>\n",
       "                        <td id=\"T_48a2c60c_cacc_11eb_b4d0_309c2362fb36row3_col7\" class=\"data row3 col7\" >0.3897</td>\n",
       "                        <td id=\"T_48a2c60c_cacc_11eb_b4d0_309c2362fb36row3_col8\" class=\"data row3 col8\" >0.8220</td>\n",
       "            </tr>\n",
       "            <tr>\n",
       "                        <th id=\"T_48a2c60c_cacc_11eb_b4d0_309c2362fb36level0_row4\" class=\"row_heading level0 row4\" >xgboost</th>\n",
       "                        <td id=\"T_48a2c60c_cacc_11eb_b4d0_309c2362fb36row4_col0\" class=\"data row4 col0\" >Extreme Gradient Boosting</td>\n",
       "                        <td id=\"T_48a2c60c_cacc_11eb_b4d0_309c2362fb36row4_col1\" class=\"data row4 col1\" >0.6881</td>\n",
       "                        <td id=\"T_48a2c60c_cacc_11eb_b4d0_309c2362fb36row4_col2\" class=\"data row4 col2\" >0.7568</td>\n",
       "                        <td id=\"T_48a2c60c_cacc_11eb_b4d0_309c2362fb36row4_col3\" class=\"data row4 col3\" >0.6532</td>\n",
       "                        <td id=\"T_48a2c60c_cacc_11eb_b4d0_309c2362fb36row4_col4\" class=\"data row4 col4\" >0.7446</td>\n",
       "                        <td id=\"T_48a2c60c_cacc_11eb_b4d0_309c2362fb36row4_col5\" class=\"data row4 col5\" >0.6959</td>\n",
       "                        <td id=\"T_48a2c60c_cacc_11eb_b4d0_309c2362fb36row4_col6\" class=\"data row4 col6\" >0.3786</td>\n",
       "                        <td id=\"T_48a2c60c_cacc_11eb_b4d0_309c2362fb36row4_col7\" class=\"data row4 col7\" >0.3820</td>\n",
       "                        <td id=\"T_48a2c60c_cacc_11eb_b4d0_309c2362fb36row4_col8\" class=\"data row4 col8\" >2.3890</td>\n",
       "            </tr>\n",
       "            <tr>\n",
       "                        <th id=\"T_48a2c60c_cacc_11eb_b4d0_309c2362fb36level0_row5\" class=\"row_heading level0 row5\" >rf</th>\n",
       "                        <td id=\"T_48a2c60c_cacc_11eb_b4d0_309c2362fb36row5_col0\" class=\"data row5 col0\" >Random Forest Classifier</td>\n",
       "                        <td id=\"T_48a2c60c_cacc_11eb_b4d0_309c2362fb36row5_col1\" class=\"data row5 col1\" >0.6847</td>\n",
       "                        <td id=\"T_48a2c60c_cacc_11eb_b4d0_309c2362fb36row5_col2\" class=\"data row5 col2\" >0.7529</td>\n",
       "                        <td id=\"T_48a2c60c_cacc_11eb_b4d0_309c2362fb36row5_col3\" class=\"data row5 col3\" >0.6518</td>\n",
       "                        <td id=\"T_48a2c60c_cacc_11eb_b4d0_309c2362fb36row5_col4\" class=\"data row5 col4\" >0.7401</td>\n",
       "                        <td id=\"T_48a2c60c_cacc_11eb_b4d0_309c2362fb36row5_col5\" class=\"data row5 col5\" >0.6931</td>\n",
       "                        <td id=\"T_48a2c60c_cacc_11eb_b4d0_309c2362fb36row5_col6\" class=\"data row5 col6\" >0.3717</td>\n",
       "                        <td id=\"T_48a2c60c_cacc_11eb_b4d0_309c2362fb36row5_col7\" class=\"data row5 col7\" >0.3749</td>\n",
       "                        <td id=\"T_48a2c60c_cacc_11eb_b4d0_309c2362fb36row5_col8\" class=\"data row5 col8\" >2.2400</td>\n",
       "            </tr>\n",
       "            <tr>\n",
       "                        <th id=\"T_48a2c60c_cacc_11eb_b4d0_309c2362fb36level0_row6\" class=\"row_heading level0 row6\" >lda</th>\n",
       "                        <td id=\"T_48a2c60c_cacc_11eb_b4d0_309c2362fb36row6_col0\" class=\"data row6 col0\" >Linear Discriminant Analysis</td>\n",
       "                        <td id=\"T_48a2c60c_cacc_11eb_b4d0_309c2362fb36row6_col1\" class=\"data row6 col1\" >0.6810</td>\n",
       "                        <td id=\"T_48a2c60c_cacc_11eb_b4d0_309c2362fb36row6_col2\" class=\"data row6 col2\" >0.7510</td>\n",
       "                        <td id=\"T_48a2c60c_cacc_11eb_b4d0_309c2362fb36row6_col3\" class=\"data row6 col3\" >0.6949</td>\n",
       "                        <td id=\"T_48a2c60c_cacc_11eb_b4d0_309c2362fb36row6_col4\" class=\"data row6 col4\" >0.7138</td>\n",
       "                        <td id=\"T_48a2c60c_cacc_11eb_b4d0_309c2362fb36row6_col5\" class=\"data row6 col5\" >0.7042</td>\n",
       "                        <td id=\"T_48a2c60c_cacc_11eb_b4d0_309c2362fb36row6_col6\" class=\"data row6 col6\" >0.3582</td>\n",
       "                        <td id=\"T_48a2c60c_cacc_11eb_b4d0_309c2362fb36row6_col7\" class=\"data row6 col7\" >0.3584</td>\n",
       "                        <td id=\"T_48a2c60c_cacc_11eb_b4d0_309c2362fb36row6_col8\" class=\"data row6 col8\" >0.1920</td>\n",
       "            </tr>\n",
       "            <tr>\n",
       "                        <th id=\"T_48a2c60c_cacc_11eb_b4d0_309c2362fb36level0_row7\" class=\"row_heading level0 row7\" >lr</th>\n",
       "                        <td id=\"T_48a2c60c_cacc_11eb_b4d0_309c2362fb36row7_col0\" class=\"data row7 col0\" >Logistic Regression</td>\n",
       "                        <td id=\"T_48a2c60c_cacc_11eb_b4d0_309c2362fb36row7_col1\" class=\"data row7 col1\" >0.6811</td>\n",
       "                        <td id=\"T_48a2c60c_cacc_11eb_b4d0_309c2362fb36row7_col2\" class=\"data row7 col2\" >0.7507</td>\n",
       "                        <td id=\"T_48a2c60c_cacc_11eb_b4d0_309c2362fb36row7_col3\" class=\"data row7 col3\" >0.6977</td>\n",
       "                        <td id=\"T_48a2c60c_cacc_11eb_b4d0_309c2362fb36row7_col4\" class=\"data row7 col4\" >0.7127</td>\n",
       "                        <td id=\"T_48a2c60c_cacc_11eb_b4d0_309c2362fb36row7_col5\" class=\"data row7 col5\" >0.7050</td>\n",
       "                        <td id=\"T_48a2c60c_cacc_11eb_b4d0_309c2362fb36row7_col6\" class=\"data row7 col6\" >0.3580</td>\n",
       "                        <td id=\"T_48a2c60c_cacc_11eb_b4d0_309c2362fb36row7_col7\" class=\"data row7 col7\" >0.3581</td>\n",
       "                        <td id=\"T_48a2c60c_cacc_11eb_b4d0_309c2362fb36row7_col8\" class=\"data row7 col8\" >1.5590</td>\n",
       "            </tr>\n",
       "            <tr>\n",
       "                        <th id=\"T_48a2c60c_cacc_11eb_b4d0_309c2362fb36level0_row8\" class=\"row_heading level0 row8\" >et</th>\n",
       "                        <td id=\"T_48a2c60c_cacc_11eb_b4d0_309c2362fb36row8_col0\" class=\"data row8 col0\" >Extra Trees Classifier</td>\n",
       "                        <td id=\"T_48a2c60c_cacc_11eb_b4d0_309c2362fb36row8_col1\" class=\"data row8 col1\" >0.6771</td>\n",
       "                        <td id=\"T_48a2c60c_cacc_11eb_b4d0_309c2362fb36row8_col2\" class=\"data row8 col2\" >0.7448</td>\n",
       "                        <td id=\"T_48a2c60c_cacc_11eb_b4d0_309c2362fb36row8_col3\" class=\"data row8 col3\" >0.6591</td>\n",
       "                        <td id=\"T_48a2c60c_cacc_11eb_b4d0_309c2362fb36row8_col4\" class=\"data row8 col4\" >0.7250</td>\n",
       "                        <td id=\"T_48a2c60c_cacc_11eb_b4d0_309c2362fb36row8_col5\" class=\"data row8 col5\" >0.6904</td>\n",
       "                        <td id=\"T_48a2c60c_cacc_11eb_b4d0_309c2362fb36row8_col6\" class=\"data row8 col6\" >0.3546</td>\n",
       "                        <td id=\"T_48a2c60c_cacc_11eb_b4d0_309c2362fb36row8_col7\" class=\"data row8 col7\" >0.3564</td>\n",
       "                        <td id=\"T_48a2c60c_cacc_11eb_b4d0_309c2362fb36row8_col8\" class=\"data row8 col8\" >2.8670</td>\n",
       "            </tr>\n",
       "            <tr>\n",
       "                        <th id=\"T_48a2c60c_cacc_11eb_b4d0_309c2362fb36level0_row9\" class=\"row_heading level0 row9\" >nb</th>\n",
       "                        <td id=\"T_48a2c60c_cacc_11eb_b4d0_309c2362fb36row9_col0\" class=\"data row9 col0\" >Naive Bayes</td>\n",
       "                        <td id=\"T_48a2c60c_cacc_11eb_b4d0_309c2362fb36row9_col1\" class=\"data row9 col1\" >0.5664</td>\n",
       "                        <td id=\"T_48a2c60c_cacc_11eb_b4d0_309c2362fb36row9_col2\" class=\"data row9 col2\" >0.7309</td>\n",
       "                        <td id=\"T_48a2c60c_cacc_11eb_b4d0_309c2362fb36row9_col3\" class=\"data row9 col3\" >0.2379</td>\n",
       "                        <td id=\"T_48a2c60c_cacc_11eb_b4d0_309c2362fb36row9_col4\" class=\"data row9 col4\" >0.9223</td>\n",
       "                        <td id=\"T_48a2c60c_cacc_11eb_b4d0_309c2362fb36row9_col5\" class=\"data row9 col5\" >0.3609</td>\n",
       "                        <td id=\"T_48a2c60c_cacc_11eb_b4d0_309c2362fb36row9_col6\" class=\"data row9 col6\" >0.1870</td>\n",
       "                        <td id=\"T_48a2c60c_cacc_11eb_b4d0_309c2362fb36row9_col7\" class=\"data row9 col7\" >0.2928</td>\n",
       "                        <td id=\"T_48a2c60c_cacc_11eb_b4d0_309c2362fb36row9_col8\" class=\"data row9 col8\" >0.0560</td>\n",
       "            </tr>\n",
       "            <tr>\n",
       "                        <th id=\"T_48a2c60c_cacc_11eb_b4d0_309c2362fb36level0_row10\" class=\"row_heading level0 row10\" >qda</th>\n",
       "                        <td id=\"T_48a2c60c_cacc_11eb_b4d0_309c2362fb36row10_col0\" class=\"data row10 col0\" >Quadratic Discriminant Analysis</td>\n",
       "                        <td id=\"T_48a2c60c_cacc_11eb_b4d0_309c2362fb36row10_col1\" class=\"data row10 col1\" >0.5653</td>\n",
       "                        <td id=\"T_48a2c60c_cacc_11eb_b4d0_309c2362fb36row10_col2\" class=\"data row10 col2\" >0.7118</td>\n",
       "                        <td id=\"T_48a2c60c_cacc_11eb_b4d0_309c2362fb36row10_col3\" class=\"data row10 col3\" >0.2385</td>\n",
       "                        <td id=\"T_48a2c60c_cacc_11eb_b4d0_309c2362fb36row10_col4\" class=\"data row10 col4\" >0.9195</td>\n",
       "                        <td id=\"T_48a2c60c_cacc_11eb_b4d0_309c2362fb36row10_col5\" class=\"data row10 col5\" >0.3604</td>\n",
       "                        <td id=\"T_48a2c60c_cacc_11eb_b4d0_309c2362fb36row10_col6\" class=\"data row10 col6\" >0.1844</td>\n",
       "                        <td id=\"T_48a2c60c_cacc_11eb_b4d0_309c2362fb36row10_col7\" class=\"data row10 col7\" >0.2897</td>\n",
       "                        <td id=\"T_48a2c60c_cacc_11eb_b4d0_309c2362fb36row10_col8\" class=\"data row10 col8\" >0.1570</td>\n",
       "            </tr>\n",
       "            <tr>\n",
       "                        <th id=\"T_48a2c60c_cacc_11eb_b4d0_309c2362fb36level0_row11\" class=\"row_heading level0 row11\" >knn</th>\n",
       "                        <td id=\"T_48a2c60c_cacc_11eb_b4d0_309c2362fb36row11_col0\" class=\"data row11 col0\" >K Neighbors Classifier</td>\n",
       "                        <td id=\"T_48a2c60c_cacc_11eb_b4d0_309c2362fb36row11_col1\" class=\"data row11 col1\" >0.6450</td>\n",
       "                        <td id=\"T_48a2c60c_cacc_11eb_b4d0_309c2362fb36row11_col2\" class=\"data row11 col2\" >0.6971</td>\n",
       "                        <td id=\"T_48a2c60c_cacc_11eb_b4d0_309c2362fb36row11_col3\" class=\"data row11 col3\" >0.6817</td>\n",
       "                        <td id=\"T_48a2c60c_cacc_11eb_b4d0_309c2362fb36row11_col4\" class=\"data row11 col4\" >0.6728</td>\n",
       "                        <td id=\"T_48a2c60c_cacc_11eb_b4d0_309c2362fb36row11_col5\" class=\"data row11 col5\" >0.6772</td>\n",
       "                        <td id=\"T_48a2c60c_cacc_11eb_b4d0_309c2362fb36row11_col6\" class=\"data row11 col6\" >0.2829</td>\n",
       "                        <td id=\"T_48a2c60c_cacc_11eb_b4d0_309c2362fb36row11_col7\" class=\"data row11 col7\" >0.2829</td>\n",
       "                        <td id=\"T_48a2c60c_cacc_11eb_b4d0_309c2362fb36row11_col8\" class=\"data row11 col8\" >7.9430</td>\n",
       "            </tr>\n",
       "            <tr>\n",
       "                        <th id=\"T_48a2c60c_cacc_11eb_b4d0_309c2362fb36level0_row12\" class=\"row_heading level0 row12\" >dt</th>\n",
       "                        <td id=\"T_48a2c60c_cacc_11eb_b4d0_309c2362fb36row12_col0\" class=\"data row12 col0\" >Decision Tree Classifier</td>\n",
       "                        <td id=\"T_48a2c60c_cacc_11eb_b4d0_309c2362fb36row12_col1\" class=\"data row12 col1\" >0.6120</td>\n",
       "                        <td id=\"T_48a2c60c_cacc_11eb_b4d0_309c2362fb36row12_col2\" class=\"data row12 col2\" >0.6083</td>\n",
       "                        <td id=\"T_48a2c60c_cacc_11eb_b4d0_309c2362fb36row12_col3\" class=\"data row12 col3\" >0.6479</td>\n",
       "                        <td id=\"T_48a2c60c_cacc_11eb_b4d0_309c2362fb36row12_col4\" class=\"data row12 col4\" >0.6441</td>\n",
       "                        <td id=\"T_48a2c60c_cacc_11eb_b4d0_309c2362fb36row12_col5\" class=\"data row12 col5\" >0.6460</td>\n",
       "                        <td id=\"T_48a2c60c_cacc_11eb_b4d0_309c2362fb36row12_col6\" class=\"data row12 col6\" >0.2167</td>\n",
       "                        <td id=\"T_48a2c60c_cacc_11eb_b4d0_309c2362fb36row12_col7\" class=\"data row12 col7\" >0.2167</td>\n",
       "                        <td id=\"T_48a2c60c_cacc_11eb_b4d0_309c2362fb36row12_col8\" class=\"data row12 col8\" >0.1690</td>\n",
       "            </tr>\n",
       "            <tr>\n",
       "                        <th id=\"T_48a2c60c_cacc_11eb_b4d0_309c2362fb36level0_row13\" class=\"row_heading level0 row13\" >svm</th>\n",
       "                        <td id=\"T_48a2c60c_cacc_11eb_b4d0_309c2362fb36row13_col0\" class=\"data row13 col0\" >SVM - Linear Kernel</td>\n",
       "                        <td id=\"T_48a2c60c_cacc_11eb_b4d0_309c2362fb36row13_col1\" class=\"data row13 col1\" >0.6756</td>\n",
       "                        <td id=\"T_48a2c60c_cacc_11eb_b4d0_309c2362fb36row13_col2\" class=\"data row13 col2\" >0.0000</td>\n",
       "                        <td id=\"T_48a2c60c_cacc_11eb_b4d0_309c2362fb36row13_col3\" class=\"data row13 col3\" >0.6340</td>\n",
       "                        <td id=\"T_48a2c60c_cacc_11eb_b4d0_309c2362fb36row13_col4\" class=\"data row13 col4\" >0.7421</td>\n",
       "                        <td id=\"T_48a2c60c_cacc_11eb_b4d0_309c2362fb36row13_col5\" class=\"data row13 col5\" >0.6789</td>\n",
       "                        <td id=\"T_48a2c60c_cacc_11eb_b4d0_309c2362fb36row13_col6\" class=\"data row13 col6\" >0.3546</td>\n",
       "                        <td id=\"T_48a2c60c_cacc_11eb_b4d0_309c2362fb36row13_col7\" class=\"data row13 col7\" >0.3631</td>\n",
       "                        <td id=\"T_48a2c60c_cacc_11eb_b4d0_309c2362fb36row13_col8\" class=\"data row13 col8\" >0.2930</td>\n",
       "            </tr>\n",
       "            <tr>\n",
       "                        <th id=\"T_48a2c60c_cacc_11eb_b4d0_309c2362fb36level0_row14\" class=\"row_heading level0 row14\" >ridge</th>\n",
       "                        <td id=\"T_48a2c60c_cacc_11eb_b4d0_309c2362fb36row14_col0\" class=\"data row14 col0\" >Ridge Classifier</td>\n",
       "                        <td id=\"T_48a2c60c_cacc_11eb_b4d0_309c2362fb36row14_col1\" class=\"data row14 col1\" >0.6809</td>\n",
       "                        <td id=\"T_48a2c60c_cacc_11eb_b4d0_309c2362fb36row14_col2\" class=\"data row14 col2\" >0.0000</td>\n",
       "                        <td id=\"T_48a2c60c_cacc_11eb_b4d0_309c2362fb36row14_col3\" class=\"data row14 col3\" >0.6951</td>\n",
       "                        <td id=\"T_48a2c60c_cacc_11eb_b4d0_309c2362fb36row14_col4\" class=\"data row14 col4\" >0.7136</td>\n",
       "                        <td id=\"T_48a2c60c_cacc_11eb_b4d0_309c2362fb36row14_col5\" class=\"data row14 col5\" >0.7042</td>\n",
       "                        <td id=\"T_48a2c60c_cacc_11eb_b4d0_309c2362fb36row14_col6\" class=\"data row14 col6\" >0.3580</td>\n",
       "                        <td id=\"T_48a2c60c_cacc_11eb_b4d0_309c2362fb36row14_col7\" class=\"data row14 col7\" >0.3582</td>\n",
       "                        <td id=\"T_48a2c60c_cacc_11eb_b4d0_309c2362fb36row14_col8\" class=\"data row14 col8\" >0.0810</td>\n",
       "            </tr>\n",
       "    </tbody></table>"
      ],
      "text/plain": [
       "<pandas.io.formats.style.Styler at 0x1c41eaf7520>"
      ]
     },
     "metadata": {},
     "output_type": "display_data"
    }
   ],
   "source": [
    "best_3 = compare_models(sort = 'AUC', n_select = 3)"
   ]
  },
  {
   "cell_type": "markdown",
   "metadata": {},
   "source": [
    "### - Score 최적화를 위해 soft vote ensemble 사용"
   ]
  },
  {
   "cell_type": "code",
   "execution_count": 50,
   "metadata": {},
   "outputs": [
    {
     "data": {
      "text/html": [
       "<style  type=\"text/css\" >\n",
       "#T_7ba919bc_cacc_11eb_b3a8_309c2362fb36row5_col0,#T_7ba919bc_cacc_11eb_b3a8_309c2362fb36row5_col1,#T_7ba919bc_cacc_11eb_b3a8_309c2362fb36row5_col2,#T_7ba919bc_cacc_11eb_b3a8_309c2362fb36row5_col3,#T_7ba919bc_cacc_11eb_b3a8_309c2362fb36row5_col4,#T_7ba919bc_cacc_11eb_b3a8_309c2362fb36row5_col5,#T_7ba919bc_cacc_11eb_b3a8_309c2362fb36row5_col6{\n",
       "            background:  yellow;\n",
       "        }</style><table id=\"T_7ba919bc_cacc_11eb_b3a8_309c2362fb36\" ><thead>    <tr>        <th class=\"blank level0\" ></th>        <th class=\"col_heading level0 col0\" >Accuracy</th>        <th class=\"col_heading level0 col1\" >AUC</th>        <th class=\"col_heading level0 col2\" >Recall</th>        <th class=\"col_heading level0 col3\" >Prec.</th>        <th class=\"col_heading level0 col4\" >F1</th>        <th class=\"col_heading level0 col5\" >Kappa</th>        <th class=\"col_heading level0 col6\" >MCC</th>    </tr></thead><tbody>\n",
       "                <tr>\n",
       "                        <th id=\"T_7ba919bc_cacc_11eb_b3a8_309c2362fb36level0_row0\" class=\"row_heading level0 row0\" >0</th>\n",
       "                        <td id=\"T_7ba919bc_cacc_11eb_b3a8_309c2362fb36row0_col0\" class=\"data row0 col0\" >0.6949</td>\n",
       "                        <td id=\"T_7ba919bc_cacc_11eb_b3a8_309c2362fb36row0_col1\" class=\"data row0 col1\" >0.7676</td>\n",
       "                        <td id=\"T_7ba919bc_cacc_11eb_b3a8_309c2362fb36row0_col2\" class=\"data row0 col2\" >0.6375</td>\n",
       "                        <td id=\"T_7ba919bc_cacc_11eb_b3a8_309c2362fb36row0_col3\" class=\"data row0 col3\" >0.7649</td>\n",
       "                        <td id=\"T_7ba919bc_cacc_11eb_b3a8_309c2362fb36row0_col4\" class=\"data row0 col4\" >0.6954</td>\n",
       "                        <td id=\"T_7ba919bc_cacc_11eb_b3a8_309c2362fb36row0_col5\" class=\"data row0 col5\" >0.3949</td>\n",
       "                        <td id=\"T_7ba919bc_cacc_11eb_b3a8_309c2362fb36row0_col6\" class=\"data row0 col6\" >0.4015</td>\n",
       "            </tr>\n",
       "            <tr>\n",
       "                        <th id=\"T_7ba919bc_cacc_11eb_b3a8_309c2362fb36level0_row1\" class=\"row_heading level0 row1\" >1</th>\n",
       "                        <td id=\"T_7ba919bc_cacc_11eb_b3a8_309c2362fb36row1_col0\" class=\"data row1 col0\" >0.7049</td>\n",
       "                        <td id=\"T_7ba919bc_cacc_11eb_b3a8_309c2362fb36row1_col1\" class=\"data row1 col1\" >0.7718</td>\n",
       "                        <td id=\"T_7ba919bc_cacc_11eb_b3a8_309c2362fb36row1_col2\" class=\"data row1 col2\" >0.6392</td>\n",
       "                        <td id=\"T_7ba919bc_cacc_11eb_b3a8_309c2362fb36row1_col3\" class=\"data row1 col3\" >0.7808</td>\n",
       "                        <td id=\"T_7ba919bc_cacc_11eb_b3a8_309c2362fb36row1_col4\" class=\"data row1 col4\" >0.7030</td>\n",
       "                        <td id=\"T_7ba919bc_cacc_11eb_b3a8_309c2362fb36row1_col5\" class=\"data row1 col5\" >0.4155</td>\n",
       "                        <td id=\"T_7ba919bc_cacc_11eb_b3a8_309c2362fb36row1_col6\" class=\"data row1 col6\" >0.4237</td>\n",
       "            </tr>\n",
       "            <tr>\n",
       "                        <th id=\"T_7ba919bc_cacc_11eb_b3a8_309c2362fb36level0_row2\" class=\"row_heading level0 row2\" >2</th>\n",
       "                        <td id=\"T_7ba919bc_cacc_11eb_b3a8_309c2362fb36row2_col0\" class=\"data row2 col0\" >0.7020</td>\n",
       "                        <td id=\"T_7ba919bc_cacc_11eb_b3a8_309c2362fb36row2_col1\" class=\"data row2 col1\" >0.7721</td>\n",
       "                        <td id=\"T_7ba919bc_cacc_11eb_b3a8_309c2362fb36row2_col2\" class=\"data row2 col2\" >0.6404</td>\n",
       "                        <td id=\"T_7ba919bc_cacc_11eb_b3a8_309c2362fb36row2_col3\" class=\"data row2 col3\" >0.7752</td>\n",
       "                        <td id=\"T_7ba919bc_cacc_11eb_b3a8_309c2362fb36row2_col4\" class=\"data row2 col4\" >0.7013</td>\n",
       "                        <td id=\"T_7ba919bc_cacc_11eb_b3a8_309c2362fb36row2_col5\" class=\"data row2 col5\" >0.4093</td>\n",
       "                        <td id=\"T_7ba919bc_cacc_11eb_b3a8_309c2362fb36row2_col6\" class=\"data row2 col6\" >0.4168</td>\n",
       "            </tr>\n",
       "            <tr>\n",
       "                        <th id=\"T_7ba919bc_cacc_11eb_b3a8_309c2362fb36level0_row3\" class=\"row_heading level0 row3\" >3</th>\n",
       "                        <td id=\"T_7ba919bc_cacc_11eb_b3a8_309c2362fb36row3_col0\" class=\"data row3 col0\" >0.6894</td>\n",
       "                        <td id=\"T_7ba919bc_cacc_11eb_b3a8_309c2362fb36row3_col1\" class=\"data row3 col1\" >0.7601</td>\n",
       "                        <td id=\"T_7ba919bc_cacc_11eb_b3a8_309c2362fb36row3_col2\" class=\"data row3 col2\" >0.6361</td>\n",
       "                        <td id=\"T_7ba919bc_cacc_11eb_b3a8_309c2362fb36row3_col3\" class=\"data row3 col3\" >0.7567</td>\n",
       "                        <td id=\"T_7ba919bc_cacc_11eb_b3a8_309c2362fb36row3_col4\" class=\"data row3 col4\" >0.6912</td>\n",
       "                        <td id=\"T_7ba919bc_cacc_11eb_b3a8_309c2362fb36row3_col5\" class=\"data row3 col5\" >0.3835</td>\n",
       "                        <td id=\"T_7ba919bc_cacc_11eb_b3a8_309c2362fb36row3_col6\" class=\"data row3 col6\" >0.3893</td>\n",
       "            </tr>\n",
       "            <tr>\n",
       "                        <th id=\"T_7ba919bc_cacc_11eb_b3a8_309c2362fb36level0_row4\" class=\"row_heading level0 row4\" >4</th>\n",
       "                        <td id=\"T_7ba919bc_cacc_11eb_b3a8_309c2362fb36row4_col0\" class=\"data row4 col0\" >0.6965</td>\n",
       "                        <td id=\"T_7ba919bc_cacc_11eb_b3a8_309c2362fb36row4_col1\" class=\"data row4 col1\" >0.7669</td>\n",
       "                        <td id=\"T_7ba919bc_cacc_11eb_b3a8_309c2362fb36row4_col2\" class=\"data row4 col2\" >0.6463</td>\n",
       "                        <td id=\"T_7ba919bc_cacc_11eb_b3a8_309c2362fb36row4_col3\" class=\"data row4 col3\" >0.7620</td>\n",
       "                        <td id=\"T_7ba919bc_cacc_11eb_b3a8_309c2362fb36row4_col4\" class=\"data row4 col4\" >0.6994</td>\n",
       "                        <td id=\"T_7ba919bc_cacc_11eb_b3a8_309c2362fb36row4_col5\" class=\"data row4 col5\" >0.3970</td>\n",
       "                        <td id=\"T_7ba919bc_cacc_11eb_b3a8_309c2362fb36row4_col6\" class=\"data row4 col6\" >0.4025</td>\n",
       "            </tr>\n",
       "            <tr>\n",
       "                        <th id=\"T_7ba919bc_cacc_11eb_b3a8_309c2362fb36level0_row5\" class=\"row_heading level0 row5\" >Mean</th>\n",
       "                        <td id=\"T_7ba919bc_cacc_11eb_b3a8_309c2362fb36row5_col0\" class=\"data row5 col0\" >0.6975</td>\n",
       "                        <td id=\"T_7ba919bc_cacc_11eb_b3a8_309c2362fb36row5_col1\" class=\"data row5 col1\" >0.7677</td>\n",
       "                        <td id=\"T_7ba919bc_cacc_11eb_b3a8_309c2362fb36row5_col2\" class=\"data row5 col2\" >0.6399</td>\n",
       "                        <td id=\"T_7ba919bc_cacc_11eb_b3a8_309c2362fb36row5_col3\" class=\"data row5 col3\" >0.7679</td>\n",
       "                        <td id=\"T_7ba919bc_cacc_11eb_b3a8_309c2362fb36row5_col4\" class=\"data row5 col4\" >0.6981</td>\n",
       "                        <td id=\"T_7ba919bc_cacc_11eb_b3a8_309c2362fb36row5_col5\" class=\"data row5 col5\" >0.4000</td>\n",
       "                        <td id=\"T_7ba919bc_cacc_11eb_b3a8_309c2362fb36row5_col6\" class=\"data row5 col6\" >0.4068</td>\n",
       "            </tr>\n",
       "            <tr>\n",
       "                        <th id=\"T_7ba919bc_cacc_11eb_b3a8_309c2362fb36level0_row6\" class=\"row_heading level0 row6\" >SD</th>\n",
       "                        <td id=\"T_7ba919bc_cacc_11eb_b3a8_309c2362fb36row6_col0\" class=\"data row6 col0\" >0.0054</td>\n",
       "                        <td id=\"T_7ba919bc_cacc_11eb_b3a8_309c2362fb36row6_col1\" class=\"data row6 col1\" >0.0044</td>\n",
       "                        <td id=\"T_7ba919bc_cacc_11eb_b3a8_309c2362fb36row6_col2\" class=\"data row6 col2\" >0.0035</td>\n",
       "                        <td id=\"T_7ba919bc_cacc_11eb_b3a8_309c2362fb36row6_col3\" class=\"data row6 col3\" >0.0088</td>\n",
       "                        <td id=\"T_7ba919bc_cacc_11eb_b3a8_309c2362fb36row6_col4\" class=\"data row6 col4\" >0.0043</td>\n",
       "                        <td id=\"T_7ba919bc_cacc_11eb_b3a8_309c2362fb36row6_col5\" class=\"data row6 col5\" >0.0113</td>\n",
       "                        <td id=\"T_7ba919bc_cacc_11eb_b3a8_309c2362fb36row6_col6\" class=\"data row6 col6\" >0.0122</td>\n",
       "            </tr>\n",
       "    </tbody></table>"
      ],
      "text/plain": [
       "<pandas.io.formats.style.Styler at 0x1c43f70bfd0>"
      ]
     },
     "metadata": {},
     "output_type": "display_data"
    }
   ],
   "source": [
    "blended = blend_models(estimator_list = best_3, fold = 5, method = 'soft')\n"
   ]
  },
  {
   "cell_type": "markdown",
   "metadata": {},
   "source": [
    "### - Train dataset을 통해 예측률 확인 (예측성공률 AUC : 0.7651)"
   ]
  },
  {
   "cell_type": "code",
   "execution_count": 51,
   "metadata": {},
   "outputs": [
    {
     "data": {
      "text/html": [
       "<style  type=\"text/css\" >\n",
       "</style><table id=\"T_7bcdc6b4_cacc_11eb_9768_309c2362fb36\" ><thead>    <tr>        <th class=\"blank level0\" ></th>        <th class=\"col_heading level0 col0\" >Model</th>        <th class=\"col_heading level0 col1\" >Accuracy</th>        <th class=\"col_heading level0 col2\" >AUC</th>        <th class=\"col_heading level0 col3\" >Recall</th>        <th class=\"col_heading level0 col4\" >Prec.</th>        <th class=\"col_heading level0 col5\" >F1</th>        <th class=\"col_heading level0 col6\" >Kappa</th>        <th class=\"col_heading level0 col7\" >MCC</th>    </tr></thead><tbody>\n",
       "                <tr>\n",
       "                        <th id=\"T_7bcdc6b4_cacc_11eb_9768_309c2362fb36level0_row0\" class=\"row_heading level0 row0\" >0</th>\n",
       "                        <td id=\"T_7bcdc6b4_cacc_11eb_9768_309c2362fb36row0_col0\" class=\"data row0 col0\" >Voting Classifier</td>\n",
       "                        <td id=\"T_7bcdc6b4_cacc_11eb_9768_309c2362fb36row0_col1\" class=\"data row0 col1\" >0.6996</td>\n",
       "                        <td id=\"T_7bcdc6b4_cacc_11eb_9768_309c2362fb36row0_col2\" class=\"data row0 col2\" >0.7651</td>\n",
       "                        <td id=\"T_7bcdc6b4_cacc_11eb_9768_309c2362fb36row0_col3\" class=\"data row0 col3\" >0.6553</td>\n",
       "                        <td id=\"T_7bcdc6b4_cacc_11eb_9768_309c2362fb36row0_col4\" class=\"data row0 col4\" >0.7697</td>\n",
       "                        <td id=\"T_7bcdc6b4_cacc_11eb_9768_309c2362fb36row0_col5\" class=\"data row0 col5\" >0.7079</td>\n",
       "                        <td id=\"T_7bcdc6b4_cacc_11eb_9768_309c2362fb36row0_col6\" class=\"data row0 col6\" >0.4028</td>\n",
       "                        <td id=\"T_7bcdc6b4_cacc_11eb_9768_309c2362fb36row0_col7\" class=\"data row0 col7\" >0.4083</td>\n",
       "            </tr>\n",
       "    </tbody></table>"
      ],
      "text/plain": [
       "<pandas.io.formats.style.Styler at 0x1c41eb36910>"
      ]
     },
     "metadata": {},
     "output_type": "display_data"
    }
   ],
   "source": [
    "pred_holdout = predict_model(blended)"
   ]
  },
  {
   "cell_type": "markdown",
   "metadata": {},
   "source": [
    "### - 모델 튜닝으로 성능향상 (AUC : 0.7651 -> 0.7666)"
   ]
  },
  {
   "cell_type": "code",
   "execution_count": 52,
   "metadata": {
    "scrolled": true
   },
   "outputs": [
    {
     "data": {
      "text/html": [
       "<style  type=\"text/css\" >\n",
       "#T_5c1e818f_cacd_11eb_a9eb_309c2362fb36row3_col0,#T_5c1e818f_cacd_11eb_a9eb_309c2362fb36row3_col1,#T_5c1e818f_cacd_11eb_a9eb_309c2362fb36row3_col2,#T_5c1e818f_cacd_11eb_a9eb_309c2362fb36row3_col3,#T_5c1e818f_cacd_11eb_a9eb_309c2362fb36row3_col4,#T_5c1e818f_cacd_11eb_a9eb_309c2362fb36row3_col5,#T_5c1e818f_cacd_11eb_a9eb_309c2362fb36row3_col6{\n",
       "            background:  yellow;\n",
       "        }</style><table id=\"T_5c1e818f_cacd_11eb_a9eb_309c2362fb36\" ><thead>    <tr>        <th class=\"blank level0\" ></th>        <th class=\"col_heading level0 col0\" >Accuracy</th>        <th class=\"col_heading level0 col1\" >AUC</th>        <th class=\"col_heading level0 col2\" >Recall</th>        <th class=\"col_heading level0 col3\" >Prec.</th>        <th class=\"col_heading level0 col4\" >F1</th>        <th class=\"col_heading level0 col5\" >Kappa</th>        <th class=\"col_heading level0 col6\" >MCC</th>    </tr></thead><tbody>\n",
       "                <tr>\n",
       "                        <th id=\"T_5c1e818f_cacd_11eb_a9eb_309c2362fb36level0_row0\" class=\"row_heading level0 row0\" >0</th>\n",
       "                        <td id=\"T_5c1e818f_cacd_11eb_a9eb_309c2362fb36row0_col0\" class=\"data row0 col0\" >0.6996</td>\n",
       "                        <td id=\"T_5c1e818f_cacd_11eb_a9eb_309c2362fb36row0_col1\" class=\"data row0 col1\" >0.7679</td>\n",
       "                        <td id=\"T_5c1e818f_cacd_11eb_a9eb_309c2362fb36row0_col2\" class=\"data row0 col2\" >0.6358</td>\n",
       "                        <td id=\"T_5c1e818f_cacd_11eb_a9eb_309c2362fb36row0_col3\" class=\"data row0 col3\" >0.7741</td>\n",
       "                        <td id=\"T_5c1e818f_cacd_11eb_a9eb_309c2362fb36row0_col4\" class=\"data row0 col4\" >0.6982</td>\n",
       "                        <td id=\"T_5c1e818f_cacd_11eb_a9eb_309c2362fb36row0_col5\" class=\"data row0 col5\" >0.4049</td>\n",
       "                        <td id=\"T_5c1e818f_cacd_11eb_a9eb_309c2362fb36row0_col6\" class=\"data row0 col6\" >0.4127</td>\n",
       "            </tr>\n",
       "            <tr>\n",
       "                        <th id=\"T_5c1e818f_cacd_11eb_a9eb_309c2362fb36level0_row1\" class=\"row_heading level0 row1\" >1</th>\n",
       "                        <td id=\"T_5c1e818f_cacd_11eb_a9eb_309c2362fb36row1_col0\" class=\"data row1 col0\" >0.6985</td>\n",
       "                        <td id=\"T_5c1e818f_cacd_11eb_a9eb_309c2362fb36row1_col1\" class=\"data row1 col1\" >0.7685</td>\n",
       "                        <td id=\"T_5c1e818f_cacd_11eb_a9eb_309c2362fb36row1_col2\" class=\"data row1 col2\" >0.6426</td>\n",
       "                        <td id=\"T_5c1e818f_cacd_11eb_a9eb_309c2362fb36row1_col3\" class=\"data row1 col3\" >0.7677</td>\n",
       "                        <td id=\"T_5c1e818f_cacd_11eb_a9eb_309c2362fb36row1_col4\" class=\"data row1 col4\" >0.6996</td>\n",
       "                        <td id=\"T_5c1e818f_cacd_11eb_a9eb_309c2362fb36row1_col5\" class=\"data row1 col5\" >0.4017</td>\n",
       "                        <td id=\"T_5c1e818f_cacd_11eb_a9eb_309c2362fb36row1_col6\" class=\"data row1 col6\" >0.4081</td>\n",
       "            </tr>\n",
       "            <tr>\n",
       "                        <th id=\"T_5c1e818f_cacd_11eb_a9eb_309c2362fb36level0_row2\" class=\"row_heading level0 row2\" >2</th>\n",
       "                        <td id=\"T_5c1e818f_cacd_11eb_a9eb_309c2362fb36row2_col0\" class=\"data row2 col0\" >0.6945</td>\n",
       "                        <td id=\"T_5c1e818f_cacd_11eb_a9eb_309c2362fb36row2_col1\" class=\"data row2 col1\" >0.7632</td>\n",
       "                        <td id=\"T_5c1e818f_cacd_11eb_a9eb_309c2362fb36row2_col2\" class=\"data row2 col2\" >0.6446</td>\n",
       "                        <td id=\"T_5c1e818f_cacd_11eb_a9eb_309c2362fb36row2_col3\" class=\"data row2 col3\" >0.7598</td>\n",
       "                        <td id=\"T_5c1e818f_cacd_11eb_a9eb_309c2362fb36row2_col4\" class=\"data row2 col4\" >0.6975</td>\n",
       "                        <td id=\"T_5c1e818f_cacd_11eb_a9eb_309c2362fb36row2_col5\" class=\"data row2 col5\" >0.3931</td>\n",
       "                        <td id=\"T_5c1e818f_cacd_11eb_a9eb_309c2362fb36row2_col6\" class=\"data row2 col6\" >0.3985</td>\n",
       "            </tr>\n",
       "            <tr>\n",
       "                        <th id=\"T_5c1e818f_cacd_11eb_a9eb_309c2362fb36level0_row3\" class=\"row_heading level0 row3\" >Mean</th>\n",
       "                        <td id=\"T_5c1e818f_cacd_11eb_a9eb_309c2362fb36row3_col0\" class=\"data row3 col0\" >0.6975</td>\n",
       "                        <td id=\"T_5c1e818f_cacd_11eb_a9eb_309c2362fb36row3_col1\" class=\"data row3 col1\" >0.7666</td>\n",
       "                        <td id=\"T_5c1e818f_cacd_11eb_a9eb_309c2362fb36row3_col2\" class=\"data row3 col2\" >0.6410</td>\n",
       "                        <td id=\"T_5c1e818f_cacd_11eb_a9eb_309c2362fb36row3_col3\" class=\"data row3 col3\" >0.7672</td>\n",
       "                        <td id=\"T_5c1e818f_cacd_11eb_a9eb_309c2362fb36row3_col4\" class=\"data row3 col4\" >0.6984</td>\n",
       "                        <td id=\"T_5c1e818f_cacd_11eb_a9eb_309c2362fb36row3_col5\" class=\"data row3 col5\" >0.3999</td>\n",
       "                        <td id=\"T_5c1e818f_cacd_11eb_a9eb_309c2362fb36row3_col6\" class=\"data row3 col6\" >0.4065</td>\n",
       "            </tr>\n",
       "            <tr>\n",
       "                        <th id=\"T_5c1e818f_cacd_11eb_a9eb_309c2362fb36level0_row4\" class=\"row_heading level0 row4\" >SD</th>\n",
       "                        <td id=\"T_5c1e818f_cacd_11eb_a9eb_309c2362fb36row4_col0\" class=\"data row4 col0\" >0.0022</td>\n",
       "                        <td id=\"T_5c1e818f_cacd_11eb_a9eb_309c2362fb36row4_col1\" class=\"data row4 col1\" >0.0023</td>\n",
       "                        <td id=\"T_5c1e818f_cacd_11eb_a9eb_309c2362fb36row4_col2\" class=\"data row4 col2\" >0.0038</td>\n",
       "                        <td id=\"T_5c1e818f_cacd_11eb_a9eb_309c2362fb36row4_col3\" class=\"data row4 col3\" >0.0058</td>\n",
       "                        <td id=\"T_5c1e818f_cacd_11eb_a9eb_309c2362fb36row4_col4\" class=\"data row4 col4\" >0.0009</td>\n",
       "                        <td id=\"T_5c1e818f_cacd_11eb_a9eb_309c2362fb36row4_col5\" class=\"data row4 col5\" >0.0050</td>\n",
       "                        <td id=\"T_5c1e818f_cacd_11eb_a9eb_309c2362fb36row4_col6\" class=\"data row4 col6\" >0.0059</td>\n",
       "            </tr>\n",
       "    </tbody></table>"
      ],
      "text/plain": [
       "<pandas.io.formats.style.Styler at 0x1c43e4ccfa0>"
      ]
     },
     "metadata": {},
     "output_type": "display_data"
    },
    {
     "data": {
      "text/plain": [
       "VotingClassifier(estimators=[('lightgbm',\n",
       "                              LGBMClassifier(boosting_type='gbdt',\n",
       "                                             class_weight=None,\n",
       "                                             colsample_bytree=1.0,\n",
       "                                             importance_type='split',\n",
       "                                             learning_rate=0.1, max_depth=-1,\n",
       "                                             min_child_samples=20,\n",
       "                                             min_child_weight=0.001,\n",
       "                                             min_split_gain=0.0,\n",
       "                                             n_estimators=100, n_jobs=-1,\n",
       "                                             num_leaves=31, objective=None,\n",
       "                                             random_state=1357, reg_alpha=0.0,\n",
       "                                             reg_lambda=0.0, silent=True,\n",
       "                                             s...\n",
       "                                                         min_impurity_split=None,\n",
       "                                                         min_samples_leaf=1,\n",
       "                                                         min_samples_split=2,\n",
       "                                                         min_weight_fraction_leaf=0.0,\n",
       "                                                         n_estimators=100,\n",
       "                                                         n_iter_no_change=None,\n",
       "                                                         presort='deprecated',\n",
       "                                                         random_state=1357,\n",
       "                                                         subsample=1.0,\n",
       "                                                         tol=0.0001,\n",
       "                                                         validation_fraction=0.1,\n",
       "                                                         verbose=0,\n",
       "                                                         warm_start=False))],\n",
       "                 flatten_transform=True, n_jobs=-1, verbose=False,\n",
       "                 voting='soft',\n",
       "                 weights=[0.5700000000000001, 0.43, 0.47000000000000003])"
      ]
     },
     "execution_count": 52,
     "metadata": {},
     "output_type": "execute_result"
    }
   ],
   "source": [
    "tunes_model = tune_model(blended, fold = 3)\n",
    "tunes_model"
   ]
  },
  {
   "cell_type": "markdown",
   "metadata": {},
   "source": [
    "### - final_model 최종 예측성공률 (AUC : 0.7666 - > 0.8098)"
   ]
  },
  {
   "cell_type": "code",
   "execution_count": 53,
   "metadata": {},
   "outputs": [],
   "source": [
    "final_model = finalize_model(tunes_model)"
   ]
  },
  {
   "cell_type": "code",
   "execution_count": 54,
   "metadata": {},
   "outputs": [
    {
     "data": {
      "text/html": [
       "<style  type=\"text/css\" >\n",
       "</style><table id=\"T_c946ce8c_cacd_11eb_9ec9_309c2362fb36\" ><thead>    <tr>        <th class=\"blank level0\" ></th>        <th class=\"col_heading level0 col0\" >Model</th>        <th class=\"col_heading level0 col1\" >Accuracy</th>        <th class=\"col_heading level0 col2\" >AUC</th>        <th class=\"col_heading level0 col3\" >Recall</th>        <th class=\"col_heading level0 col4\" >Prec.</th>        <th class=\"col_heading level0 col5\" >F1</th>        <th class=\"col_heading level0 col6\" >Kappa</th>        <th class=\"col_heading level0 col7\" >MCC</th>    </tr></thead><tbody>\n",
       "                <tr>\n",
       "                        <th id=\"T_c946ce8c_cacd_11eb_9ec9_309c2362fb36level0_row0\" class=\"row_heading level0 row0\" >0</th>\n",
       "                        <td id=\"T_c946ce8c_cacd_11eb_9ec9_309c2362fb36row0_col0\" class=\"data row0 col0\" >Voting Classifier</td>\n",
       "                        <td id=\"T_c946ce8c_cacd_11eb_9ec9_309c2362fb36row0_col1\" class=\"data row0 col1\" >0.7347</td>\n",
       "                        <td id=\"T_c946ce8c_cacd_11eb_9ec9_309c2362fb36row0_col2\" class=\"data row0 col2\" >0.8098</td>\n",
       "                        <td id=\"T_c946ce8c_cacd_11eb_9ec9_309c2362fb36row0_col3\" class=\"data row0 col3\" >0.6870</td>\n",
       "                        <td id=\"T_c946ce8c_cacd_11eb_9ec9_309c2362fb36row0_col4\" class=\"data row0 col4\" >0.8069</td>\n",
       "                        <td id=\"T_c946ce8c_cacd_11eb_9ec9_309c2362fb36row0_col5\" class=\"data row0 col5\" >0.7421</td>\n",
       "                        <td id=\"T_c946ce8c_cacd_11eb_9ec9_309c2362fb36row0_col6\" class=\"data row0 col6\" >0.4726</td>\n",
       "                        <td id=\"T_c946ce8c_cacd_11eb_9ec9_309c2362fb36row0_col7\" class=\"data row0 col7\" >0.4791</td>\n",
       "            </tr>\n",
       "    </tbody></table>"
      ],
      "text/plain": [
       "<pandas.io.formats.style.Styler at 0x1c43e105fa0>"
      ]
     },
     "metadata": {},
     "output_type": "display_data"
    }
   ],
   "source": [
    "pred_holdout = predict_model(final_model)"
   ]
  },
  {
   "cell_type": "markdown",
   "metadata": {},
   "source": [
    "### - Test dataset을 통한 최종 Score 추출"
   ]
  },
  {
   "cell_type": "code",
   "execution_count": 55,
   "metadata": {},
   "outputs": [],
   "source": [
    "predictions = predict_model(final_model, data = X_test)"
   ]
  },
  {
   "cell_type": "code",
   "execution_count": 56,
   "metadata": {},
   "outputs": [
    {
     "data": {
      "text/html": [
       "<div>\n",
       "<style scoped>\n",
       "    .dataframe tbody tr th:only-of-type {\n",
       "        vertical-align: middle;\n",
       "    }\n",
       "\n",
       "    .dataframe tbody tr th {\n",
       "        vertical-align: top;\n",
       "    }\n",
       "\n",
       "    .dataframe thead th {\n",
       "        text-align: right;\n",
       "    }\n",
       "</style>\n",
       "<table border=\"1\" class=\"dataframe\">\n",
       "  <thead>\n",
       "    <tr style=\"text-align: right;\">\n",
       "      <th></th>\n",
       "      <th>age_group</th>\n",
       "      <th>education</th>\n",
       "      <th>engnat</th>\n",
       "      <th>familysize</th>\n",
       "      <th>gender</th>\n",
       "      <th>married</th>\n",
       "      <th>race</th>\n",
       "      <th>religion</th>\n",
       "      <th>urban</th>\n",
       "      <th>wf_01</th>\n",
       "      <th>...</th>\n",
       "      <th>wr_11</th>\n",
       "      <th>Mach_score</th>\n",
       "      <th>외향성</th>\n",
       "      <th>친화성</th>\n",
       "      <th>성실성</th>\n",
       "      <th>정서적 안정성</th>\n",
       "      <th>경험개방성</th>\n",
       "      <th>voted</th>\n",
       "      <th>Label</th>\n",
       "      <th>Score</th>\n",
       "    </tr>\n",
       "  </thead>\n",
       "  <tbody>\n",
       "    <tr>\n",
       "      <th>21964</th>\n",
       "      <td>1</td>\n",
       "      <td>2</td>\n",
       "      <td>2</td>\n",
       "      <td>2</td>\n",
       "      <td>0</td>\n",
       "      <td>1</td>\n",
       "      <td>5</td>\n",
       "      <td>0</td>\n",
       "      <td>3</td>\n",
       "      <td>0</td>\n",
       "      <td>...</td>\n",
       "      <td>1</td>\n",
       "      <td>76.0</td>\n",
       "      <td>5.0</td>\n",
       "      <td>0.5</td>\n",
       "      <td>1.5</td>\n",
       "      <td>3.0</td>\n",
       "      <td>2.5</td>\n",
       "      <td>2</td>\n",
       "      <td>2</td>\n",
       "      <td>0.8815</td>\n",
       "    </tr>\n",
       "    <tr>\n",
       "      <th>19947</th>\n",
       "      <td>2</td>\n",
       "      <td>4</td>\n",
       "      <td>2</td>\n",
       "      <td>1</td>\n",
       "      <td>0</td>\n",
       "      <td>1</td>\n",
       "      <td>2</td>\n",
       "      <td>7</td>\n",
       "      <td>3</td>\n",
       "      <td>0</td>\n",
       "      <td>...</td>\n",
       "      <td>0</td>\n",
       "      <td>55.0</td>\n",
       "      <td>3.0</td>\n",
       "      <td>1.0</td>\n",
       "      <td>3.0</td>\n",
       "      <td>2.0</td>\n",
       "      <td>3.0</td>\n",
       "      <td>2</td>\n",
       "      <td>2</td>\n",
       "      <td>0.5127</td>\n",
       "    </tr>\n",
       "    <tr>\n",
       "      <th>15906</th>\n",
       "      <td>2</td>\n",
       "      <td>3</td>\n",
       "      <td>2</td>\n",
       "      <td>7</td>\n",
       "      <td>1</td>\n",
       "      <td>1</td>\n",
       "      <td>1</td>\n",
       "      <td>0</td>\n",
       "      <td>3</td>\n",
       "      <td>0</td>\n",
       "      <td>...</td>\n",
       "      <td>0</td>\n",
       "      <td>74.0</td>\n",
       "      <td>0.0</td>\n",
       "      <td>0.0</td>\n",
       "      <td>0.0</td>\n",
       "      <td>1.5</td>\n",
       "      <td>1.5</td>\n",
       "      <td>2</td>\n",
       "      <td>2</td>\n",
       "      <td>0.6753</td>\n",
       "    </tr>\n",
       "    <tr>\n",
       "      <th>37973</th>\n",
       "      <td>3</td>\n",
       "      <td>4</td>\n",
       "      <td>2</td>\n",
       "      <td>1</td>\n",
       "      <td>1</td>\n",
       "      <td>2</td>\n",
       "      <td>1</td>\n",
       "      <td>0</td>\n",
       "      <td>3</td>\n",
       "      <td>0</td>\n",
       "      <td>...</td>\n",
       "      <td>0</td>\n",
       "      <td>68.0</td>\n",
       "      <td>2.0</td>\n",
       "      <td>2.0</td>\n",
       "      <td>3.0</td>\n",
       "      <td>3.0</td>\n",
       "      <td>2.5</td>\n",
       "      <td>2</td>\n",
       "      <td>2</td>\n",
       "      <td>0.6385</td>\n",
       "    </tr>\n",
       "    <tr>\n",
       "      <th>25088</th>\n",
       "      <td>2</td>\n",
       "      <td>4</td>\n",
       "      <td>2</td>\n",
       "      <td>2</td>\n",
       "      <td>0</td>\n",
       "      <td>1</td>\n",
       "      <td>1</td>\n",
       "      <td>1</td>\n",
       "      <td>3</td>\n",
       "      <td>1</td>\n",
       "      <td>...</td>\n",
       "      <td>1</td>\n",
       "      <td>54.0</td>\n",
       "      <td>2.0</td>\n",
       "      <td>3.0</td>\n",
       "      <td>3.0</td>\n",
       "      <td>1.0</td>\n",
       "      <td>3.0</td>\n",
       "      <td>2</td>\n",
       "      <td>2</td>\n",
       "      <td>0.6631</td>\n",
       "    </tr>\n",
       "    <tr>\n",
       "      <th>...</th>\n",
       "      <td>...</td>\n",
       "      <td>...</td>\n",
       "      <td>...</td>\n",
       "      <td>...</td>\n",
       "      <td>...</td>\n",
       "      <td>...</td>\n",
       "      <td>...</td>\n",
       "      <td>...</td>\n",
       "      <td>...</td>\n",
       "      <td>...</td>\n",
       "      <td>...</td>\n",
       "      <td>...</td>\n",
       "      <td>...</td>\n",
       "      <td>...</td>\n",
       "      <td>...</td>\n",
       "      <td>...</td>\n",
       "      <td>...</td>\n",
       "      <td>...</td>\n",
       "      <td>...</td>\n",
       "      <td>...</td>\n",
       "      <td>...</td>\n",
       "    </tr>\n",
       "    <tr>\n",
       "      <th>9621</th>\n",
       "      <td>2</td>\n",
       "      <td>2</td>\n",
       "      <td>1</td>\n",
       "      <td>4</td>\n",
       "      <td>0</td>\n",
       "      <td>1</td>\n",
       "      <td>6</td>\n",
       "      <td>3</td>\n",
       "      <td>2</td>\n",
       "      <td>0</td>\n",
       "      <td>...</td>\n",
       "      <td>0</td>\n",
       "      <td>51.0</td>\n",
       "      <td>3.5</td>\n",
       "      <td>1.0</td>\n",
       "      <td>1.5</td>\n",
       "      <td>3.5</td>\n",
       "      <td>2.5</td>\n",
       "      <td>1</td>\n",
       "      <td>1</td>\n",
       "      <td>0.5122</td>\n",
       "    </tr>\n",
       "    <tr>\n",
       "      <th>31418</th>\n",
       "      <td>2</td>\n",
       "      <td>3</td>\n",
       "      <td>2</td>\n",
       "      <td>2</td>\n",
       "      <td>0</td>\n",
       "      <td>1</td>\n",
       "      <td>6</td>\n",
       "      <td>0</td>\n",
       "      <td>3</td>\n",
       "      <td>0</td>\n",
       "      <td>...</td>\n",
       "      <td>0</td>\n",
       "      <td>60.0</td>\n",
       "      <td>2.5</td>\n",
       "      <td>1.5</td>\n",
       "      <td>2.5</td>\n",
       "      <td>3.5</td>\n",
       "      <td>3.0</td>\n",
       "      <td>1</td>\n",
       "      <td>1</td>\n",
       "      <td>0.6183</td>\n",
       "    </tr>\n",
       "    <tr>\n",
       "      <th>4701</th>\n",
       "      <td>2</td>\n",
       "      <td>3</td>\n",
       "      <td>1</td>\n",
       "      <td>3</td>\n",
       "      <td>0</td>\n",
       "      <td>2</td>\n",
       "      <td>4</td>\n",
       "      <td>1</td>\n",
       "      <td>3</td>\n",
       "      <td>0</td>\n",
       "      <td>...</td>\n",
       "      <td>1</td>\n",
       "      <td>56.0</td>\n",
       "      <td>3.5</td>\n",
       "      <td>2.0</td>\n",
       "      <td>3.0</td>\n",
       "      <td>2.0</td>\n",
       "      <td>2.5</td>\n",
       "      <td>1</td>\n",
       "      <td>1</td>\n",
       "      <td>0.6394</td>\n",
       "    </tr>\n",
       "    <tr>\n",
       "      <th>18347</th>\n",
       "      <td>1</td>\n",
       "      <td>2</td>\n",
       "      <td>1</td>\n",
       "      <td>5</td>\n",
       "      <td>0</td>\n",
       "      <td>1</td>\n",
       "      <td>0</td>\n",
       "      <td>3</td>\n",
       "      <td>3</td>\n",
       "      <td>0</td>\n",
       "      <td>...</td>\n",
       "      <td>0</td>\n",
       "      <td>56.0</td>\n",
       "      <td>3.5</td>\n",
       "      <td>1.0</td>\n",
       "      <td>5.5</td>\n",
       "      <td>1.0</td>\n",
       "      <td>3.0</td>\n",
       "      <td>2</td>\n",
       "      <td>2</td>\n",
       "      <td>0.9048</td>\n",
       "    </tr>\n",
       "    <tr>\n",
       "      <th>10645</th>\n",
       "      <td>2</td>\n",
       "      <td>3</td>\n",
       "      <td>1</td>\n",
       "      <td>4</td>\n",
       "      <td>1</td>\n",
       "      <td>1</td>\n",
       "      <td>6</td>\n",
       "      <td>3</td>\n",
       "      <td>3</td>\n",
       "      <td>0</td>\n",
       "      <td>...</td>\n",
       "      <td>0</td>\n",
       "      <td>54.0</td>\n",
       "      <td>2.0</td>\n",
       "      <td>1.0</td>\n",
       "      <td>3.0</td>\n",
       "      <td>1.5</td>\n",
       "      <td>1.5</td>\n",
       "      <td>2</td>\n",
       "      <td>1</td>\n",
       "      <td>0.6435</td>\n",
       "    </tr>\n",
       "  </tbody>\n",
       "</table>\n",
       "<p>2277 rows × 26 columns</p>\n",
       "</div>"
      ],
      "text/plain": [
       "       age_group  education  engnat  familysize  gender  married  race  \\\n",
       "21964          1          2       2           2       0        1     5   \n",
       "19947          2          4       2           1       0        1     2   \n",
       "15906          2          3       2           7       1        1     1   \n",
       "37973          3          4       2           1       1        2     1   \n",
       "25088          2          4       2           2       0        1     1   \n",
       "...          ...        ...     ...         ...     ...      ...   ...   \n",
       "9621           2          2       1           4       0        1     6   \n",
       "31418          2          3       2           2       0        1     6   \n",
       "4701           2          3       1           3       0        2     4   \n",
       "18347          1          2       1           5       0        1     0   \n",
       "10645          2          3       1           4       1        1     6   \n",
       "\n",
       "       religion  urban  wf_01  ...  wr_11  Mach_score  외향성  친화성  성실성  정서적 안정성  \\\n",
       "21964         0      3      0  ...      1        76.0  5.0  0.5  1.5      3.0   \n",
       "19947         7      3      0  ...      0        55.0  3.0  1.0  3.0      2.0   \n",
       "15906         0      3      0  ...      0        74.0  0.0  0.0  0.0      1.5   \n",
       "37973         0      3      0  ...      0        68.0  2.0  2.0  3.0      3.0   \n",
       "25088         1      3      1  ...      1        54.0  2.0  3.0  3.0      1.0   \n",
       "...         ...    ...    ...  ...    ...         ...  ...  ...  ...      ...   \n",
       "9621          3      2      0  ...      0        51.0  3.5  1.0  1.5      3.5   \n",
       "31418         0      3      0  ...      0        60.0  2.5  1.5  2.5      3.5   \n",
       "4701          1      3      0  ...      1        56.0  3.5  2.0  3.0      2.0   \n",
       "18347         3      3      0  ...      0        56.0  3.5  1.0  5.5      1.0   \n",
       "10645         3      3      0  ...      0        54.0  2.0  1.0  3.0      1.5   \n",
       "\n",
       "       경험개방성  voted  Label   Score  \n",
       "21964    2.5      2      2  0.8815  \n",
       "19947    3.0      2      2  0.5127  \n",
       "15906    1.5      2      2  0.6753  \n",
       "37973    2.5      2      2  0.6385  \n",
       "25088    3.0      2      2  0.6631  \n",
       "...      ...    ...    ...     ...  \n",
       "9621     2.5      1      1  0.5122  \n",
       "31418    3.0      1      1  0.6183  \n",
       "4701     2.5      1      1  0.6394  \n",
       "18347    3.0      2      2  0.9048  \n",
       "10645    1.5      2      1  0.6435  \n",
       "\n",
       "[2277 rows x 26 columns]"
      ]
     },
     "execution_count": 56,
     "metadata": {},
     "output_type": "execute_result"
    }
   ],
   "source": [
    "predictions"
   ]
  },
  {
   "cell_type": "markdown",
   "metadata": {},
   "source": [
    "### voted (타겟): 지난 해 국가 선거 투표 여부 (1 = Yes, 2 = No) -> (0 = yes, 1 = No)"
   ]
  },
  {
   "cell_type": "code",
   "execution_count": 57,
   "metadata": {},
   "outputs": [],
   "source": [
    "predictions.Label = predictions.Label -1 "
   ]
  },
  {
   "cell_type": "markdown",
   "metadata": {},
   "source": [
    "### - Label : Voted ,      투표 여부 (0 = yes, 1 = No)\n",
    "### - Score : 예측점수 , 투표 여부 (0 = yes, 1 = No)"
   ]
  },
  {
   "cell_type": "code",
   "execution_count": 58,
   "metadata": {
    "scrolled": true
   },
   "outputs": [
    {
     "data": {
      "text/html": [
       "<div>\n",
       "<style scoped>\n",
       "    .dataframe tbody tr th:only-of-type {\n",
       "        vertical-align: middle;\n",
       "    }\n",
       "\n",
       "    .dataframe tbody tr th {\n",
       "        vertical-align: top;\n",
       "    }\n",
       "\n",
       "    .dataframe thead th {\n",
       "        text-align: right;\n",
       "    }\n",
       "</style>\n",
       "<table border=\"1\" class=\"dataframe\">\n",
       "  <thead>\n",
       "    <tr style=\"text-align: right;\">\n",
       "      <th></th>\n",
       "      <th>age_group</th>\n",
       "      <th>education</th>\n",
       "      <th>engnat</th>\n",
       "      <th>familysize</th>\n",
       "      <th>gender</th>\n",
       "      <th>married</th>\n",
       "      <th>race</th>\n",
       "      <th>religion</th>\n",
       "      <th>urban</th>\n",
       "      <th>wf_01</th>\n",
       "      <th>...</th>\n",
       "      <th>wr_11</th>\n",
       "      <th>Mach_score</th>\n",
       "      <th>외향성</th>\n",
       "      <th>친화성</th>\n",
       "      <th>성실성</th>\n",
       "      <th>정서적 안정성</th>\n",
       "      <th>경험개방성</th>\n",
       "      <th>voted</th>\n",
       "      <th>Label</th>\n",
       "      <th>Score</th>\n",
       "    </tr>\n",
       "  </thead>\n",
       "  <tbody>\n",
       "    <tr>\n",
       "      <th>21964</th>\n",
       "      <td>1</td>\n",
       "      <td>2</td>\n",
       "      <td>2</td>\n",
       "      <td>2</td>\n",
       "      <td>0</td>\n",
       "      <td>1</td>\n",
       "      <td>5</td>\n",
       "      <td>0</td>\n",
       "      <td>3</td>\n",
       "      <td>0</td>\n",
       "      <td>...</td>\n",
       "      <td>1</td>\n",
       "      <td>76.0</td>\n",
       "      <td>5.0</td>\n",
       "      <td>0.5</td>\n",
       "      <td>1.5</td>\n",
       "      <td>3.0</td>\n",
       "      <td>2.5</td>\n",
       "      <td>2</td>\n",
       "      <td>1</td>\n",
       "      <td>0.8815</td>\n",
       "    </tr>\n",
       "    <tr>\n",
       "      <th>19947</th>\n",
       "      <td>2</td>\n",
       "      <td>4</td>\n",
       "      <td>2</td>\n",
       "      <td>1</td>\n",
       "      <td>0</td>\n",
       "      <td>1</td>\n",
       "      <td>2</td>\n",
       "      <td>7</td>\n",
       "      <td>3</td>\n",
       "      <td>0</td>\n",
       "      <td>...</td>\n",
       "      <td>0</td>\n",
       "      <td>55.0</td>\n",
       "      <td>3.0</td>\n",
       "      <td>1.0</td>\n",
       "      <td>3.0</td>\n",
       "      <td>2.0</td>\n",
       "      <td>3.0</td>\n",
       "      <td>2</td>\n",
       "      <td>1</td>\n",
       "      <td>0.5127</td>\n",
       "    </tr>\n",
       "    <tr>\n",
       "      <th>15906</th>\n",
       "      <td>2</td>\n",
       "      <td>3</td>\n",
       "      <td>2</td>\n",
       "      <td>7</td>\n",
       "      <td>1</td>\n",
       "      <td>1</td>\n",
       "      <td>1</td>\n",
       "      <td>0</td>\n",
       "      <td>3</td>\n",
       "      <td>0</td>\n",
       "      <td>...</td>\n",
       "      <td>0</td>\n",
       "      <td>74.0</td>\n",
       "      <td>0.0</td>\n",
       "      <td>0.0</td>\n",
       "      <td>0.0</td>\n",
       "      <td>1.5</td>\n",
       "      <td>1.5</td>\n",
       "      <td>2</td>\n",
       "      <td>1</td>\n",
       "      <td>0.6753</td>\n",
       "    </tr>\n",
       "    <tr>\n",
       "      <th>37973</th>\n",
       "      <td>3</td>\n",
       "      <td>4</td>\n",
       "      <td>2</td>\n",
       "      <td>1</td>\n",
       "      <td>1</td>\n",
       "      <td>2</td>\n",
       "      <td>1</td>\n",
       "      <td>0</td>\n",
       "      <td>3</td>\n",
       "      <td>0</td>\n",
       "      <td>...</td>\n",
       "      <td>0</td>\n",
       "      <td>68.0</td>\n",
       "      <td>2.0</td>\n",
       "      <td>2.0</td>\n",
       "      <td>3.0</td>\n",
       "      <td>3.0</td>\n",
       "      <td>2.5</td>\n",
       "      <td>2</td>\n",
       "      <td>1</td>\n",
       "      <td>0.6385</td>\n",
       "    </tr>\n",
       "    <tr>\n",
       "      <th>25088</th>\n",
       "      <td>2</td>\n",
       "      <td>4</td>\n",
       "      <td>2</td>\n",
       "      <td>2</td>\n",
       "      <td>0</td>\n",
       "      <td>1</td>\n",
       "      <td>1</td>\n",
       "      <td>1</td>\n",
       "      <td>3</td>\n",
       "      <td>1</td>\n",
       "      <td>...</td>\n",
       "      <td>1</td>\n",
       "      <td>54.0</td>\n",
       "      <td>2.0</td>\n",
       "      <td>3.0</td>\n",
       "      <td>3.0</td>\n",
       "      <td>1.0</td>\n",
       "      <td>3.0</td>\n",
       "      <td>2</td>\n",
       "      <td>1</td>\n",
       "      <td>0.6631</td>\n",
       "    </tr>\n",
       "    <tr>\n",
       "      <th>...</th>\n",
       "      <td>...</td>\n",
       "      <td>...</td>\n",
       "      <td>...</td>\n",
       "      <td>...</td>\n",
       "      <td>...</td>\n",
       "      <td>...</td>\n",
       "      <td>...</td>\n",
       "      <td>...</td>\n",
       "      <td>...</td>\n",
       "      <td>...</td>\n",
       "      <td>...</td>\n",
       "      <td>...</td>\n",
       "      <td>...</td>\n",
       "      <td>...</td>\n",
       "      <td>...</td>\n",
       "      <td>...</td>\n",
       "      <td>...</td>\n",
       "      <td>...</td>\n",
       "      <td>...</td>\n",
       "      <td>...</td>\n",
       "      <td>...</td>\n",
       "    </tr>\n",
       "    <tr>\n",
       "      <th>9621</th>\n",
       "      <td>2</td>\n",
       "      <td>2</td>\n",
       "      <td>1</td>\n",
       "      <td>4</td>\n",
       "      <td>0</td>\n",
       "      <td>1</td>\n",
       "      <td>6</td>\n",
       "      <td>3</td>\n",
       "      <td>2</td>\n",
       "      <td>0</td>\n",
       "      <td>...</td>\n",
       "      <td>0</td>\n",
       "      <td>51.0</td>\n",
       "      <td>3.5</td>\n",
       "      <td>1.0</td>\n",
       "      <td>1.5</td>\n",
       "      <td>3.5</td>\n",
       "      <td>2.5</td>\n",
       "      <td>1</td>\n",
       "      <td>0</td>\n",
       "      <td>0.5122</td>\n",
       "    </tr>\n",
       "    <tr>\n",
       "      <th>31418</th>\n",
       "      <td>2</td>\n",
       "      <td>3</td>\n",
       "      <td>2</td>\n",
       "      <td>2</td>\n",
       "      <td>0</td>\n",
       "      <td>1</td>\n",
       "      <td>6</td>\n",
       "      <td>0</td>\n",
       "      <td>3</td>\n",
       "      <td>0</td>\n",
       "      <td>...</td>\n",
       "      <td>0</td>\n",
       "      <td>60.0</td>\n",
       "      <td>2.5</td>\n",
       "      <td>1.5</td>\n",
       "      <td>2.5</td>\n",
       "      <td>3.5</td>\n",
       "      <td>3.0</td>\n",
       "      <td>1</td>\n",
       "      <td>0</td>\n",
       "      <td>0.6183</td>\n",
       "    </tr>\n",
       "    <tr>\n",
       "      <th>4701</th>\n",
       "      <td>2</td>\n",
       "      <td>3</td>\n",
       "      <td>1</td>\n",
       "      <td>3</td>\n",
       "      <td>0</td>\n",
       "      <td>2</td>\n",
       "      <td>4</td>\n",
       "      <td>1</td>\n",
       "      <td>3</td>\n",
       "      <td>0</td>\n",
       "      <td>...</td>\n",
       "      <td>1</td>\n",
       "      <td>56.0</td>\n",
       "      <td>3.5</td>\n",
       "      <td>2.0</td>\n",
       "      <td>3.0</td>\n",
       "      <td>2.0</td>\n",
       "      <td>2.5</td>\n",
       "      <td>1</td>\n",
       "      <td>0</td>\n",
       "      <td>0.6394</td>\n",
       "    </tr>\n",
       "    <tr>\n",
       "      <th>18347</th>\n",
       "      <td>1</td>\n",
       "      <td>2</td>\n",
       "      <td>1</td>\n",
       "      <td>5</td>\n",
       "      <td>0</td>\n",
       "      <td>1</td>\n",
       "      <td>0</td>\n",
       "      <td>3</td>\n",
       "      <td>3</td>\n",
       "      <td>0</td>\n",
       "      <td>...</td>\n",
       "      <td>0</td>\n",
       "      <td>56.0</td>\n",
       "      <td>3.5</td>\n",
       "      <td>1.0</td>\n",
       "      <td>5.5</td>\n",
       "      <td>1.0</td>\n",
       "      <td>3.0</td>\n",
       "      <td>2</td>\n",
       "      <td>1</td>\n",
       "      <td>0.9048</td>\n",
       "    </tr>\n",
       "    <tr>\n",
       "      <th>10645</th>\n",
       "      <td>2</td>\n",
       "      <td>3</td>\n",
       "      <td>1</td>\n",
       "      <td>4</td>\n",
       "      <td>1</td>\n",
       "      <td>1</td>\n",
       "      <td>6</td>\n",
       "      <td>3</td>\n",
       "      <td>3</td>\n",
       "      <td>0</td>\n",
       "      <td>...</td>\n",
       "      <td>0</td>\n",
       "      <td>54.0</td>\n",
       "      <td>2.0</td>\n",
       "      <td>1.0</td>\n",
       "      <td>3.0</td>\n",
       "      <td>1.5</td>\n",
       "      <td>1.5</td>\n",
       "      <td>2</td>\n",
       "      <td>0</td>\n",
       "      <td>0.6435</td>\n",
       "    </tr>\n",
       "  </tbody>\n",
       "</table>\n",
       "<p>2277 rows × 26 columns</p>\n",
       "</div>"
      ],
      "text/plain": [
       "       age_group  education  engnat  familysize  gender  married  race  \\\n",
       "21964          1          2       2           2       0        1     5   \n",
       "19947          2          4       2           1       0        1     2   \n",
       "15906          2          3       2           7       1        1     1   \n",
       "37973          3          4       2           1       1        2     1   \n",
       "25088          2          4       2           2       0        1     1   \n",
       "...          ...        ...     ...         ...     ...      ...   ...   \n",
       "9621           2          2       1           4       0        1     6   \n",
       "31418          2          3       2           2       0        1     6   \n",
       "4701           2          3       1           3       0        2     4   \n",
       "18347          1          2       1           5       0        1     0   \n",
       "10645          2          3       1           4       1        1     6   \n",
       "\n",
       "       religion  urban  wf_01  ...  wr_11  Mach_score  외향성  친화성  성실성  정서적 안정성  \\\n",
       "21964         0      3      0  ...      1        76.0  5.0  0.5  1.5      3.0   \n",
       "19947         7      3      0  ...      0        55.0  3.0  1.0  3.0      2.0   \n",
       "15906         0      3      0  ...      0        74.0  0.0  0.0  0.0      1.5   \n",
       "37973         0      3      0  ...      0        68.0  2.0  2.0  3.0      3.0   \n",
       "25088         1      3      1  ...      1        54.0  2.0  3.0  3.0      1.0   \n",
       "...         ...    ...    ...  ...    ...         ...  ...  ...  ...      ...   \n",
       "9621          3      2      0  ...      0        51.0  3.5  1.0  1.5      3.5   \n",
       "31418         0      3      0  ...      0        60.0  2.5  1.5  2.5      3.5   \n",
       "4701          1      3      0  ...      1        56.0  3.5  2.0  3.0      2.0   \n",
       "18347         3      3      0  ...      0        56.0  3.5  1.0  5.5      1.0   \n",
       "10645         3      3      0  ...      0        54.0  2.0  1.0  3.0      1.5   \n",
       "\n",
       "       경험개방성  voted  Label   Score  \n",
       "21964    2.5      2      1  0.8815  \n",
       "19947    3.0      2      1  0.5127  \n",
       "15906    1.5      2      1  0.6753  \n",
       "37973    2.5      2      1  0.6385  \n",
       "25088    3.0      2      1  0.6631  \n",
       "...      ...    ...    ...     ...  \n",
       "9621     2.5      1      0  0.5122  \n",
       "31418    3.0      1      0  0.6183  \n",
       "4701     2.5      1      0  0.6394  \n",
       "18347    3.0      2      1  0.9048  \n",
       "10645    1.5      2      0  0.6435  \n",
       "\n",
       "[2277 rows x 26 columns]"
      ]
     },
     "execution_count": 58,
     "metadata": {},
     "output_type": "execute_result"
    }
   ],
   "source": [
    "predictions"
   ]
  },
  {
   "cell_type": "markdown",
   "metadata": {},
   "source": [
    "### ML모델 평가"
   ]
  },
  {
   "cell_type": "code",
   "execution_count": 61,
   "metadata": {
    "scrolled": false
   },
   "outputs": [
    {
     "data": {
      "application/vnd.jupyter.widget-view+json": {
       "model_id": "6b781e7b8cc24a88b0ea840d19ecdeae",
       "version_major": 2,
       "version_minor": 0
      },
      "text/plain": [
       "interactive(children=(ToggleButtons(description='Plot Type:', icons=('',), options=(('Hyperparameters', 'param…"
      ]
     },
     "metadata": {},
     "output_type": "display_data"
    },
    {
     "data": {
      "text/plain": [
       "<Figure size 576x396 with 0 Axes>"
      ]
     },
     "metadata": {},
     "output_type": "display_data"
    }
   ],
   "source": [
    "evaluate_model(final_model)"
   ]
  },
  {
   "attachments": {
    "%EB%8B%A4%EC%9A%B4%EB%A1%9C%EB%93%9C%20%284%29.png": {
     "image/png": "[encoded data removed]"
    }
   },
   "cell_type": "markdown",
   "metadata": {},
   "source": [
    "## Confusion Matrix\n",
    "![%EB%8B%A4%EC%9A%B4%EB%A1%9C%EB%93%9C%20%284%29.png](attachment:%EB%8B%A4%EC%9A%B4%EB%A1%9C%EB%93%9C%20%284%29.png)"
   ]
  },
  {
   "attachments": {
    "%EB%8B%A4%EC%9A%B4%EB%A1%9C%EB%93%9C%20%285%29.png": {
     "image/png": "[encoded data removed]"
    }
   },
   "cell_type": "markdown",
   "metadata": {},
   "source": [
    "## 보정 곡선(Calibration plot)\n",
    "### 모델의 예측값을 기준으로 10분위 구간 (0%, 10%, 20%, … 90, 100%)의 구간으로 예측 확률과 실제 비율의 관계\n",
    "![%EB%8B%A4%EC%9A%B4%EB%A1%9C%EB%93%9C%20%285%29.png](attachment:%EB%8B%A4%EC%9A%B4%EB%A1%9C%EB%93%9C%20%285%29.png)"
   ]
  }
 ],
 "metadata": {
  "colab": {
   "collapsed_sections": [],
   "name": "shared_code_sony_submit.ipynb",
   "provenance": [],
   "toc_visible": true
  },
  "kernelspec": {
   "display_name": "Python 3",
   "language": "python",
   "name": "python3"
  },
  "language_info": {
   "codemirror_mode": {
    "name": "ipython",
    "version": 3
   },
   "file_extension": ".py",
   "mimetype": "text/x-python",
   "name": "python",
   "nbconvert_exporter": "python",
   "pygments_lexer": "ipython3",
   "version": "3.8.5"
  }
 },
 "nbformat": 4,
 "nbformat_minor": 1
}
